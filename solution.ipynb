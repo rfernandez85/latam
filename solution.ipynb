{
 "cells": [
  {
   "cell_type": "markdown",
   "metadata": {},
   "source": [
    "# Data Scientist Challenge - LATAM Airlines"
   ]
  },
  {
   "cell_type": "markdown",
   "metadata": {},
   "source": [
    "### Richard Fernández"
   ]
  },
  {
   "cell_type": "markdown",
   "metadata": {},
   "source": [
    "### OBJETIVO"
   ]
  },
  {
   "cell_type": "markdown",
   "metadata": {},
   "source": [
    "Predecir la probabilidad de atraso de los vuelos que aterrizan o despegan del aeropuerto de Santiago de Chile."
   ]
  },
  {
   "cell_type": "markdown",
   "metadata": {},
   "source": [
    "### COMPRENSIÓN DE LOS DATOS"
   ]
  },
  {
   "cell_type": "code",
   "execution_count": 298,
   "metadata": {},
   "outputs": [],
   "source": [
    "import pandas as pd\n",
    "import matplotlib.pyplot as plt\n",
    "import seaborn as sns\n",
    "import numpy as np\n",
    "import scipy.stats as ss\n",
    "import datetime\n",
    "from scipy.stats import chi2_contingency\n",
    "from datetime import datetime\n",
    "\n",
    "from sklearn.preprocessing import StandardScaler\n",
    "from sklearn.preprocessing import MinMaxScaler\n",
    "from sklearn.preprocessing import MaxAbsScaler\n",
    "from sklearn.preprocessing import LabelEncoder\n",
    "\n",
    "from sklearn.model_selection import train_test_split\n",
    "\n",
    "from sklearn.linear_model import LogisticRegression\n",
    "from sklearn.naive_bayes import GaussianNB\n",
    "from sklearn.neighbors import KNeighborsClassifier\n",
    "from sklearn.svm import SVC\n",
    "from sklearn.neural_network import MLPClassifier\n",
    "from sklearn.ensemble import RandomForestClassifier\n",
    "from sklearn.ensemble import  GradientBoostingClassifier\n",
    "from sklearn.ensemble import StackingClassifier\n",
    "\n",
    "from sklearn.model_selection import cross_val_score\n",
    "from sklearn.model_selection import GridSearchCV\n",
    "\n",
    "from sklearn.metrics import classification_report, confusion_matrix\n",
    "from sklearn.metrics import plot_confusion_matrix\n",
    "from sklearn.metrics import roc_curve, auc, roc_auc_score"
   ]
  },
  {
   "cell_type": "code",
   "execution_count": 82,
   "metadata": {},
   "outputs": [
    {
     "name": "stderr",
     "output_type": "stream",
     "text": [
      "C:\\Users\\LENOVO\\anaconda3\\lib\\site-packages\\IPython\\core\\interactiveshell.py:3165: DtypeWarning: Columns (1,6) have mixed types.Specify dtype option on import or set low_memory=False.\n",
      "  has_raised = await self.run_ast_nodes(code_ast.body, cell_name,\n"
     ]
    }
   ],
   "source": [
    "#LECTURA DE DATOS\n",
    "data = pd.read_csv('D:/Bases/Latam/dataset_SCL.csv')"
   ]
  },
  {
   "cell_type": "code",
   "execution_count": 84,
   "metadata": {},
   "outputs": [
    {
     "data": {
      "text/html": [
       "<div>\n",
       "<style scoped>\n",
       "    .dataframe tbody tr th:only-of-type {\n",
       "        vertical-align: middle;\n",
       "    }\n",
       "\n",
       "    .dataframe tbody tr th {\n",
       "        vertical-align: top;\n",
       "    }\n",
       "\n",
       "    .dataframe thead th {\n",
       "        text-align: right;\n",
       "    }\n",
       "</style>\n",
       "<table border=\"1\" class=\"dataframe\">\n",
       "  <thead>\n",
       "    <tr style=\"text-align: right;\">\n",
       "      <th></th>\n",
       "      <th>Fecha-I</th>\n",
       "      <th>Vlo-I</th>\n",
       "      <th>Ori-I</th>\n",
       "      <th>Des-I</th>\n",
       "      <th>Emp-I</th>\n",
       "      <th>Fecha-O</th>\n",
       "      <th>Vlo-O</th>\n",
       "      <th>Ori-O</th>\n",
       "      <th>Des-O</th>\n",
       "      <th>Emp-O</th>\n",
       "      <th>DIA</th>\n",
       "      <th>MES</th>\n",
       "      <th>AÑO</th>\n",
       "      <th>DIANOM</th>\n",
       "      <th>TIPOVUELO</th>\n",
       "      <th>OPERA</th>\n",
       "      <th>SIGLAORI</th>\n",
       "      <th>SIGLADES</th>\n",
       "    </tr>\n",
       "  </thead>\n",
       "  <tbody>\n",
       "    <tr>\n",
       "      <th>0</th>\n",
       "      <td>2017-01-01 23:30:00</td>\n",
       "      <td>226</td>\n",
       "      <td>SCEL</td>\n",
       "      <td>KMIA</td>\n",
       "      <td>AAL</td>\n",
       "      <td>2017-01-01 23:33:00</td>\n",
       "      <td>226</td>\n",
       "      <td>SCEL</td>\n",
       "      <td>KMIA</td>\n",
       "      <td>AAL</td>\n",
       "      <td>1</td>\n",
       "      <td>1</td>\n",
       "      <td>2017</td>\n",
       "      <td>Domingo</td>\n",
       "      <td>I</td>\n",
       "      <td>American Airlines</td>\n",
       "      <td>Santiago</td>\n",
       "      <td>Miami</td>\n",
       "    </tr>\n",
       "    <tr>\n",
       "      <th>1</th>\n",
       "      <td>2017-01-02 23:30:00</td>\n",
       "      <td>226</td>\n",
       "      <td>SCEL</td>\n",
       "      <td>KMIA</td>\n",
       "      <td>AAL</td>\n",
       "      <td>2017-01-02 23:39:00</td>\n",
       "      <td>226</td>\n",
       "      <td>SCEL</td>\n",
       "      <td>KMIA</td>\n",
       "      <td>AAL</td>\n",
       "      <td>2</td>\n",
       "      <td>1</td>\n",
       "      <td>2017</td>\n",
       "      <td>Lunes</td>\n",
       "      <td>I</td>\n",
       "      <td>American Airlines</td>\n",
       "      <td>Santiago</td>\n",
       "      <td>Miami</td>\n",
       "    </tr>\n",
       "    <tr>\n",
       "      <th>2</th>\n",
       "      <td>2017-01-03 23:30:00</td>\n",
       "      <td>226</td>\n",
       "      <td>SCEL</td>\n",
       "      <td>KMIA</td>\n",
       "      <td>AAL</td>\n",
       "      <td>2017-01-03 23:39:00</td>\n",
       "      <td>226</td>\n",
       "      <td>SCEL</td>\n",
       "      <td>KMIA</td>\n",
       "      <td>AAL</td>\n",
       "      <td>3</td>\n",
       "      <td>1</td>\n",
       "      <td>2017</td>\n",
       "      <td>Martes</td>\n",
       "      <td>I</td>\n",
       "      <td>American Airlines</td>\n",
       "      <td>Santiago</td>\n",
       "      <td>Miami</td>\n",
       "    </tr>\n",
       "    <tr>\n",
       "      <th>3</th>\n",
       "      <td>2017-01-04 23:30:00</td>\n",
       "      <td>226</td>\n",
       "      <td>SCEL</td>\n",
       "      <td>KMIA</td>\n",
       "      <td>AAL</td>\n",
       "      <td>2017-01-04 23:33:00</td>\n",
       "      <td>226</td>\n",
       "      <td>SCEL</td>\n",
       "      <td>KMIA</td>\n",
       "      <td>AAL</td>\n",
       "      <td>4</td>\n",
       "      <td>1</td>\n",
       "      <td>2017</td>\n",
       "      <td>Miercoles</td>\n",
       "      <td>I</td>\n",
       "      <td>American Airlines</td>\n",
       "      <td>Santiago</td>\n",
       "      <td>Miami</td>\n",
       "    </tr>\n",
       "    <tr>\n",
       "      <th>4</th>\n",
       "      <td>2017-01-05 23:30:00</td>\n",
       "      <td>226</td>\n",
       "      <td>SCEL</td>\n",
       "      <td>KMIA</td>\n",
       "      <td>AAL</td>\n",
       "      <td>2017-01-05 23:28:00</td>\n",
       "      <td>226</td>\n",
       "      <td>SCEL</td>\n",
       "      <td>KMIA</td>\n",
       "      <td>AAL</td>\n",
       "      <td>5</td>\n",
       "      <td>1</td>\n",
       "      <td>2017</td>\n",
       "      <td>Jueves</td>\n",
       "      <td>I</td>\n",
       "      <td>American Airlines</td>\n",
       "      <td>Santiago</td>\n",
       "      <td>Miami</td>\n",
       "    </tr>\n",
       "  </tbody>\n",
       "</table>\n",
       "</div>"
      ],
      "text/plain": [
       "               Fecha-I Vlo-I Ori-I Des-I Emp-I              Fecha-O Vlo-O  \\\n",
       "0  2017-01-01 23:30:00   226  SCEL  KMIA   AAL  2017-01-01 23:33:00   226   \n",
       "1  2017-01-02 23:30:00   226  SCEL  KMIA   AAL  2017-01-02 23:39:00   226   \n",
       "2  2017-01-03 23:30:00   226  SCEL  KMIA   AAL  2017-01-03 23:39:00   226   \n",
       "3  2017-01-04 23:30:00   226  SCEL  KMIA   AAL  2017-01-04 23:33:00   226   \n",
       "4  2017-01-05 23:30:00   226  SCEL  KMIA   AAL  2017-01-05 23:28:00   226   \n",
       "\n",
       "  Ori-O Des-O Emp-O  DIA  MES   AÑO     DIANOM TIPOVUELO              OPERA  \\\n",
       "0  SCEL  KMIA   AAL    1    1  2017    Domingo         I  American Airlines   \n",
       "1  SCEL  KMIA   AAL    2    1  2017      Lunes         I  American Airlines   \n",
       "2  SCEL  KMIA   AAL    3    1  2017     Martes         I  American Airlines   \n",
       "3  SCEL  KMIA   AAL    4    1  2017  Miercoles         I  American Airlines   \n",
       "4  SCEL  KMIA   AAL    5    1  2017     Jueves         I  American Airlines   \n",
       "\n",
       "   SIGLAORI SIGLADES  \n",
       "0  Santiago    Miami  \n",
       "1  Santiago    Miami  \n",
       "2  Santiago    Miami  \n",
       "3  Santiago    Miami  \n",
       "4  Santiago    Miami  "
      ]
     },
     "execution_count": 84,
     "metadata": {},
     "output_type": "execute_result"
    }
   ],
   "source": [
    "data.head()"
   ]
  },
  {
   "cell_type": "code",
   "execution_count": 85,
   "metadata": {},
   "outputs": [
    {
     "data": {
      "text/plain": [
       "(68206, 18)"
      ]
     },
     "execution_count": 85,
     "metadata": {},
     "output_type": "execute_result"
    }
   ],
   "source": [
    "#DIMENSIÓN DE LOS DATOS\n",
    "data.shape"
   ]
  },
  {
   "cell_type": "code",
   "execution_count": 86,
   "metadata": {},
   "outputs": [
    {
     "data": {
      "text/plain": [
       "Fecha-I      object\n",
       "Vlo-I        object\n",
       "Ori-I        object\n",
       "Des-I        object\n",
       "Emp-I        object\n",
       "Fecha-O      object\n",
       "Vlo-O        object\n",
       "Ori-O        object\n",
       "Des-O        object\n",
       "Emp-O        object\n",
       "DIA           int64\n",
       "MES           int64\n",
       "AÑO           int64\n",
       "DIANOM       object\n",
       "TIPOVUELO    object\n",
       "OPERA        object\n",
       "SIGLAORI     object\n",
       "SIGLADES     object\n",
       "dtype: object"
      ]
     },
     "execution_count": 86,
     "metadata": {},
     "output_type": "execute_result"
    }
   ],
   "source": [
    "#DESCRIPCIÓN DE LOS DATOS\n",
    "data.dtypes"
   ]
  },
  {
   "cell_type": "code",
   "execution_count": 87,
   "metadata": {},
   "outputs": [],
   "source": [
    "#Las variables Fecha-I y Fecha-O están como object\n",
    "#se cambiarán a un formato de fecha\n",
    "\n",
    "#data['Fecha-I'] = data['Fecha-I'].astype('datetime64[s]')\n",
    "#data['Fecha-O'] = data['Fecha-O'].astype('datetime64[s]')\n",
    "\n",
    "data['Fecha-I'] = pd.to_datetime(data['Fecha-I'])\n",
    "data['Fecha-O'] = pd.to_datetime(data['Fecha-O'])"
   ]
  },
  {
   "cell_type": "code",
   "execution_count": 88,
   "metadata": {
    "scrolled": true
   },
   "outputs": [
    {
     "data": {
      "text/plain": [
       "Fecha-I      datetime64[ns]\n",
       "Vlo-I                object\n",
       "Ori-I                object\n",
       "Des-I                object\n",
       "Emp-I                object\n",
       "Fecha-O      datetime64[ns]\n",
       "Vlo-O                object\n",
       "Ori-O                object\n",
       "Des-O                object\n",
       "Emp-O                object\n",
       "DIA                   int64\n",
       "MES                   int64\n",
       "AÑO                   int64\n",
       "DIANOM               object\n",
       "TIPOVUELO            object\n",
       "OPERA                object\n",
       "SIGLAORI             object\n",
       "SIGLADES             object\n",
       "dtype: object"
      ]
     },
     "execution_count": 88,
     "metadata": {},
     "output_type": "execute_result"
    }
   ],
   "source": [
    "data.dtypes"
   ]
  },
  {
   "cell_type": "code",
   "execution_count": 89,
   "metadata": {},
   "outputs": [
    {
     "data": {
      "text/html": [
       "<div>\n",
       "<style scoped>\n",
       "    .dataframe tbody tr th:only-of-type {\n",
       "        vertical-align: middle;\n",
       "    }\n",
       "\n",
       "    .dataframe tbody tr th {\n",
       "        vertical-align: top;\n",
       "    }\n",
       "\n",
       "    .dataframe thead th {\n",
       "        text-align: right;\n",
       "    }\n",
       "</style>\n",
       "<table border=\"1\" class=\"dataframe\">\n",
       "  <thead>\n",
       "    <tr style=\"text-align: right;\">\n",
       "      <th></th>\n",
       "      <th>Fecha-I</th>\n",
       "      <th>Vlo-I</th>\n",
       "      <th>Ori-I</th>\n",
       "      <th>Des-I</th>\n",
       "      <th>Emp-I</th>\n",
       "      <th>Fecha-O</th>\n",
       "      <th>Vlo-O</th>\n",
       "      <th>Ori-O</th>\n",
       "      <th>Des-O</th>\n",
       "      <th>Emp-O</th>\n",
       "      <th>DIA</th>\n",
       "      <th>MES</th>\n",
       "      <th>AÑO</th>\n",
       "      <th>DIANOM</th>\n",
       "      <th>TIPOVUELO</th>\n",
       "      <th>OPERA</th>\n",
       "      <th>SIGLAORI</th>\n",
       "      <th>SIGLADES</th>\n",
       "    </tr>\n",
       "  </thead>\n",
       "  <tbody>\n",
       "    <tr>\n",
       "      <th>0</th>\n",
       "      <td>2017-01-01 23:30:00</td>\n",
       "      <td>226</td>\n",
       "      <td>SCEL</td>\n",
       "      <td>KMIA</td>\n",
       "      <td>AAL</td>\n",
       "      <td>2017-01-01 23:33:00</td>\n",
       "      <td>226</td>\n",
       "      <td>SCEL</td>\n",
       "      <td>KMIA</td>\n",
       "      <td>AAL</td>\n",
       "      <td>1</td>\n",
       "      <td>1</td>\n",
       "      <td>2017</td>\n",
       "      <td>Domingo</td>\n",
       "      <td>I</td>\n",
       "      <td>American Airlines</td>\n",
       "      <td>Santiago</td>\n",
       "      <td>Miami</td>\n",
       "    </tr>\n",
       "    <tr>\n",
       "      <th>1</th>\n",
       "      <td>2017-01-02 23:30:00</td>\n",
       "      <td>226</td>\n",
       "      <td>SCEL</td>\n",
       "      <td>KMIA</td>\n",
       "      <td>AAL</td>\n",
       "      <td>2017-01-02 23:39:00</td>\n",
       "      <td>226</td>\n",
       "      <td>SCEL</td>\n",
       "      <td>KMIA</td>\n",
       "      <td>AAL</td>\n",
       "      <td>2</td>\n",
       "      <td>1</td>\n",
       "      <td>2017</td>\n",
       "      <td>Lunes</td>\n",
       "      <td>I</td>\n",
       "      <td>American Airlines</td>\n",
       "      <td>Santiago</td>\n",
       "      <td>Miami</td>\n",
       "    </tr>\n",
       "    <tr>\n",
       "      <th>2</th>\n",
       "      <td>2017-01-03 23:30:00</td>\n",
       "      <td>226</td>\n",
       "      <td>SCEL</td>\n",
       "      <td>KMIA</td>\n",
       "      <td>AAL</td>\n",
       "      <td>2017-01-03 23:39:00</td>\n",
       "      <td>226</td>\n",
       "      <td>SCEL</td>\n",
       "      <td>KMIA</td>\n",
       "      <td>AAL</td>\n",
       "      <td>3</td>\n",
       "      <td>1</td>\n",
       "      <td>2017</td>\n",
       "      <td>Martes</td>\n",
       "      <td>I</td>\n",
       "      <td>American Airlines</td>\n",
       "      <td>Santiago</td>\n",
       "      <td>Miami</td>\n",
       "    </tr>\n",
       "    <tr>\n",
       "      <th>3</th>\n",
       "      <td>2017-01-04 23:30:00</td>\n",
       "      <td>226</td>\n",
       "      <td>SCEL</td>\n",
       "      <td>KMIA</td>\n",
       "      <td>AAL</td>\n",
       "      <td>2017-01-04 23:33:00</td>\n",
       "      <td>226</td>\n",
       "      <td>SCEL</td>\n",
       "      <td>KMIA</td>\n",
       "      <td>AAL</td>\n",
       "      <td>4</td>\n",
       "      <td>1</td>\n",
       "      <td>2017</td>\n",
       "      <td>Miercoles</td>\n",
       "      <td>I</td>\n",
       "      <td>American Airlines</td>\n",
       "      <td>Santiago</td>\n",
       "      <td>Miami</td>\n",
       "    </tr>\n",
       "    <tr>\n",
       "      <th>4</th>\n",
       "      <td>2017-01-05 23:30:00</td>\n",
       "      <td>226</td>\n",
       "      <td>SCEL</td>\n",
       "      <td>KMIA</td>\n",
       "      <td>AAL</td>\n",
       "      <td>2017-01-05 23:28:00</td>\n",
       "      <td>226</td>\n",
       "      <td>SCEL</td>\n",
       "      <td>KMIA</td>\n",
       "      <td>AAL</td>\n",
       "      <td>5</td>\n",
       "      <td>1</td>\n",
       "      <td>2017</td>\n",
       "      <td>Jueves</td>\n",
       "      <td>I</td>\n",
       "      <td>American Airlines</td>\n",
       "      <td>Santiago</td>\n",
       "      <td>Miami</td>\n",
       "    </tr>\n",
       "  </tbody>\n",
       "</table>\n",
       "</div>"
      ],
      "text/plain": [
       "              Fecha-I Vlo-I Ori-I Des-I Emp-I             Fecha-O Vlo-O Ori-O  \\\n",
       "0 2017-01-01 23:30:00   226  SCEL  KMIA   AAL 2017-01-01 23:33:00   226  SCEL   \n",
       "1 2017-01-02 23:30:00   226  SCEL  KMIA   AAL 2017-01-02 23:39:00   226  SCEL   \n",
       "2 2017-01-03 23:30:00   226  SCEL  KMIA   AAL 2017-01-03 23:39:00   226  SCEL   \n",
       "3 2017-01-04 23:30:00   226  SCEL  KMIA   AAL 2017-01-04 23:33:00   226  SCEL   \n",
       "4 2017-01-05 23:30:00   226  SCEL  KMIA   AAL 2017-01-05 23:28:00   226  SCEL   \n",
       "\n",
       "  Des-O Emp-O  DIA  MES   AÑO     DIANOM TIPOVUELO              OPERA  \\\n",
       "0  KMIA   AAL    1    1  2017    Domingo         I  American Airlines   \n",
       "1  KMIA   AAL    2    1  2017      Lunes         I  American Airlines   \n",
       "2  KMIA   AAL    3    1  2017     Martes         I  American Airlines   \n",
       "3  KMIA   AAL    4    1  2017  Miercoles         I  American Airlines   \n",
       "4  KMIA   AAL    5    1  2017     Jueves         I  American Airlines   \n",
       "\n",
       "   SIGLAORI SIGLADES  \n",
       "0  Santiago    Miami  \n",
       "1  Santiago    Miami  \n",
       "2  Santiago    Miami  \n",
       "3  Santiago    Miami  \n",
       "4  Santiago    Miami  "
      ]
     },
     "execution_count": 89,
     "metadata": {},
     "output_type": "execute_result"
    }
   ],
   "source": [
    "data.head()"
   ]
  },
  {
   "cell_type": "code",
   "execution_count": 90,
   "metadata": {},
   "outputs": [
    {
     "data": {
      "text/plain": [
       "Fecha-I      0\n",
       "Vlo-I        0\n",
       "Ori-I        0\n",
       "Des-I        0\n",
       "Emp-I        0\n",
       "Fecha-O      0\n",
       "Vlo-O        1\n",
       "Ori-O        0\n",
       "Des-O        0\n",
       "Emp-O        0\n",
       "DIA          0\n",
       "MES          0\n",
       "AÑO          0\n",
       "DIANOM       0\n",
       "TIPOVUELO    0\n",
       "OPERA        0\n",
       "SIGLAORI     0\n",
       "SIGLADES     0\n",
       "dtype: int64"
      ]
     },
     "execution_count": 90,
     "metadata": {},
     "output_type": "execute_result"
    }
   ],
   "source": [
    "#IDENTIFICACIÓN DE VALORES FALTANTES\n",
    "data.isnull().sum(axis = 0)"
   ]
  },
  {
   "cell_type": "code",
   "execution_count": 91,
   "metadata": {},
   "outputs": [
    {
     "name": "stdout",
     "output_type": "stream",
     "text": [
      "Fecha-I      0.000000\n",
      "Vlo-I        0.000000\n",
      "Ori-I        0.000000\n",
      "Des-I        0.000000\n",
      "Emp-I        0.000000\n",
      "Fecha-O      0.000000\n",
      "Vlo-O        0.001466\n",
      "Ori-O        0.000000\n",
      "Des-O        0.000000\n",
      "Emp-O        0.000000\n",
      "DIA          0.000000\n",
      "MES          0.000000\n",
      "AÑO          0.000000\n",
      "DIANOM       0.000000\n",
      "TIPOVUELO    0.000000\n",
      "OPERA        0.000000\n",
      "SIGLAORI     0.000000\n",
      "SIGLADES     0.000000\n",
      "dtype: float64\n"
     ]
    }
   ],
   "source": [
    "na_ratio = ((data.isnull().sum() / len(data))*100)\n",
    "print(na_ratio)"
   ]
  },
  {
   "cell_type": "code",
   "execution_count": 92,
   "metadata": {},
   "outputs": [
    {
     "name": "stdout",
     "output_type": "stream",
     "text": [
      "<class 'pandas.core.frame.DataFrame'>\n",
      "RangeIndex: 68206 entries, 0 to 68205\n",
      "Data columns (total 18 columns):\n",
      " #   Column     Non-Null Count  Dtype         \n",
      "---  ------     --------------  -----         \n",
      " 0   Fecha-I    68206 non-null  datetime64[ns]\n",
      " 1   Vlo-I      68206 non-null  object        \n",
      " 2   Ori-I      68206 non-null  object        \n",
      " 3   Des-I      68206 non-null  object        \n",
      " 4   Emp-I      68206 non-null  object        \n",
      " 5   Fecha-O    68206 non-null  datetime64[ns]\n",
      " 6   Vlo-O      68205 non-null  object        \n",
      " 7   Ori-O      68206 non-null  object        \n",
      " 8   Des-O      68206 non-null  object        \n",
      " 9   Emp-O      68206 non-null  object        \n",
      " 10  DIA        68206 non-null  int64         \n",
      " 11  MES        68206 non-null  int64         \n",
      " 12  AÑO        68206 non-null  int64         \n",
      " 13  DIANOM     68206 non-null  object        \n",
      " 14  TIPOVUELO  68206 non-null  object        \n",
      " 15  OPERA      68206 non-null  object        \n",
      " 16  SIGLAORI   68206 non-null  object        \n",
      " 17  SIGLADES   68206 non-null  object        \n",
      "dtypes: datetime64[ns](2), int64(3), object(13)\n",
      "memory usage: 9.4+ MB\n"
     ]
    }
   ],
   "source": [
    "data.info()"
   ]
  },
  {
   "cell_type": "markdown",
   "metadata": {},
   "source": [
    "La única variable que tiene valores faltantes es la \"Vlo-O\", esta variable sólo tiene 1 valor faltante y representa el 0.1466% de la base."
   ]
  },
  {
   "cell_type": "code",
   "execution_count": 93,
   "metadata": {},
   "outputs": [
    {
     "data": {
      "text/html": [
       "<div>\n",
       "<style scoped>\n",
       "    .dataframe tbody tr th:only-of-type {\n",
       "        vertical-align: middle;\n",
       "    }\n",
       "\n",
       "    .dataframe tbody tr th {\n",
       "        vertical-align: top;\n",
       "    }\n",
       "\n",
       "    .dataframe thead th {\n",
       "        text-align: right;\n",
       "    }\n",
       "</style>\n",
       "<table border=\"1\" class=\"dataframe\">\n",
       "  <thead>\n",
       "    <tr style=\"text-align: right;\">\n",
       "      <th></th>\n",
       "      <th>Fecha-I</th>\n",
       "      <th>Vlo-I</th>\n",
       "      <th>Ori-I</th>\n",
       "      <th>Des-I</th>\n",
       "      <th>Emp-I</th>\n",
       "      <th>Fecha-O</th>\n",
       "      <th>Vlo-O</th>\n",
       "      <th>Ori-O</th>\n",
       "      <th>Des-O</th>\n",
       "      <th>Emp-O</th>\n",
       "      <th>DIA</th>\n",
       "      <th>MES</th>\n",
       "      <th>AÑO</th>\n",
       "      <th>DIANOM</th>\n",
       "      <th>TIPOVUELO</th>\n",
       "      <th>OPERA</th>\n",
       "      <th>SIGLAORI</th>\n",
       "      <th>SIGLADES</th>\n",
       "    </tr>\n",
       "  </thead>\n",
       "  <tbody>\n",
       "    <tr>\n",
       "      <th>6068</th>\n",
       "      <td>2017-01-19 11:00:00</td>\n",
       "      <td>200</td>\n",
       "      <td>SCEL</td>\n",
       "      <td>SPJC</td>\n",
       "      <td>LAW</td>\n",
       "      <td>2017-01-19 11:03:00</td>\n",
       "      <td>NaN</td>\n",
       "      <td>SCEL</td>\n",
       "      <td>SPJC</td>\n",
       "      <td>56R</td>\n",
       "      <td>19</td>\n",
       "      <td>1</td>\n",
       "      <td>2017</td>\n",
       "      <td>Jueves</td>\n",
       "      <td>I</td>\n",
       "      <td>Latin American Wings</td>\n",
       "      <td>Santiago</td>\n",
       "      <td>Lima</td>\n",
       "    </tr>\n",
       "  </tbody>\n",
       "</table>\n",
       "</div>"
      ],
      "text/plain": [
       "                 Fecha-I Vlo-I Ori-I Des-I Emp-I             Fecha-O Vlo-O  \\\n",
       "6068 2017-01-19 11:00:00   200  SCEL  SPJC   LAW 2017-01-19 11:03:00   NaN   \n",
       "\n",
       "     Ori-O Des-O Emp-O  DIA  MES   AÑO  DIANOM TIPOVUELO  \\\n",
       "6068  SCEL  SPJC   56R   19    1  2017  Jueves         I   \n",
       "\n",
       "                     OPERA  SIGLAORI SIGLADES  \n",
       "6068  Latin American Wings  Santiago     Lima  "
      ]
     },
     "execution_count": 93,
     "metadata": {},
     "output_type": "execute_result"
    }
   ],
   "source": [
    "data[pd.isnull(data['Vlo-O'])]"
   ]
  },
  {
   "cell_type": "code",
   "execution_count": 94,
   "metadata": {
    "scrolled": true
   },
   "outputs": [
    {
     "data": {
      "text/plain": [
       "0.1466146673313198"
      ]
     },
     "execution_count": 94,
     "metadata": {},
     "output_type": "execute_result"
    }
   ],
   "source": [
    "100*((data['Vlo-O'].isnull().sum() / len(data['Vlo-O']))*100)"
   ]
  },
  {
   "cell_type": "code",
   "execution_count": 95,
   "metadata": {},
   "outputs": [],
   "source": [
    "#Se completará con el mismo valor de la variable \"Vlo-I\"\n",
    "data['Vlo-O'] = data['Vlo-O'].fillna(200)"
   ]
  },
  {
   "cell_type": "code",
   "execution_count": 96,
   "metadata": {},
   "outputs": [
    {
     "data": {
      "text/plain": [
       "0.0"
      ]
     },
     "execution_count": 96,
     "metadata": {},
     "output_type": "execute_result"
    }
   ],
   "source": [
    "#Ya no se tienen valores faltantes\n",
    "100*((data['Vlo-O'].isnull().sum() / len(data['Vlo-O']))*100)"
   ]
  },
  {
   "cell_type": "code",
   "execution_count": 97,
   "metadata": {},
   "outputs": [
    {
     "name": "stdout",
     "output_type": "stream",
     "text": [
      "<class 'pandas.core.frame.DataFrame'>\n",
      "RangeIndex: 68206 entries, 0 to 68205\n",
      "Data columns (total 18 columns):\n",
      " #   Column     Non-Null Count  Dtype         \n",
      "---  ------     --------------  -----         \n",
      " 0   Fecha-I    68206 non-null  datetime64[ns]\n",
      " 1   Vlo-I      68206 non-null  object        \n",
      " 2   Ori-I      68206 non-null  object        \n",
      " 3   Des-I      68206 non-null  object        \n",
      " 4   Emp-I      68206 non-null  object        \n",
      " 5   Fecha-O    68206 non-null  datetime64[ns]\n",
      " 6   Vlo-O      68206 non-null  object        \n",
      " 7   Ori-O      68206 non-null  object        \n",
      " 8   Des-O      68206 non-null  object        \n",
      " 9   Emp-O      68206 non-null  object        \n",
      " 10  DIA        68206 non-null  int64         \n",
      " 11  MES        68206 non-null  int64         \n",
      " 12  AÑO        68206 non-null  int64         \n",
      " 13  DIANOM     68206 non-null  object        \n",
      " 14  TIPOVUELO  68206 non-null  object        \n",
      " 15  OPERA      68206 non-null  object        \n",
      " 16  SIGLAORI   68206 non-null  object        \n",
      " 17  SIGLADES   68206 non-null  object        \n",
      "dtypes: datetime64[ns](2), int64(3), object(13)\n",
      "memory usage: 9.4+ MB\n"
     ]
    }
   ],
   "source": [
    "data.info()"
   ]
  },
  {
   "cell_type": "markdown",
   "metadata": {},
   "source": [
    "# DESAFÍO"
   ]
  },
  {
   "cell_type": "markdown",
   "metadata": {},
   "source": [
    "# Pregunta 1\n",
    "¿Cómo se distribuyen los datos? ¿Qué te llama la atención o cuál es tu conclusión sobre esto?"
   ]
  },
  {
   "cell_type": "markdown",
   "metadata": {},
   "source": [
    "La pregunta 1 se responderá despues de la pregunta 3, pues en ese momento se tienen variables adicionales generadas."
   ]
  },
  {
   "cell_type": "markdown",
   "metadata": {},
   "source": [
    "# Pregunta 2\n",
    "Genera las columnas adicionales y luego expórtelas en un archivo synthetic_features.csv :\n",
    "○ temporada_alta : 1 si Fecha-I está entre 15-Dic y 3-Mar, o 15-Jul y 31-Jul, o 11-Sep y 30-Sep, 0 si no.\n",
    "○ dif_min : diferencia en minutos entre Fecha-O y Fecha-I .\n",
    "○ atraso_15 : 1 si dif_min > 15, 0 si no.\n",
    "○ periodo_dia : mañana (entre 5:00 y 11:59), tarde (entre 12:00 y 18:59) y noche (entre 19:00 y 4:59), en base a\n",
    "Fecha-I .\n"
   ]
  },
  {
   "cell_type": "markdown",
   "metadata": {},
   "source": [
    "### temporada_alta"
   ]
  },
  {
   "cell_type": "code",
   "execution_count": null,
   "metadata": {},
   "outputs": [],
   "source": [
    "#La variable \"Fecha-I\" sólo tiene información del año 2017"
   ]
  },
  {
   "cell_type": "code",
   "execution_count": 98,
   "metadata": {},
   "outputs": [
    {
     "data": {
      "text/plain": [
       "Timestamp('2017-01-01 00:15:00')"
      ]
     },
     "execution_count": 98,
     "metadata": {},
     "output_type": "execute_result"
    }
   ],
   "source": [
    "data['Fecha-I'].min()"
   ]
  },
  {
   "cell_type": "code",
   "execution_count": 99,
   "metadata": {},
   "outputs": [
    {
     "data": {
      "text/plain": [
       "Timestamp('2017-12-31 23:55:00')"
      ]
     },
     "execution_count": 99,
     "metadata": {},
     "output_type": "execute_result"
    }
   ],
   "source": [
    "data['Fecha-I'].max()"
   ]
  },
  {
   "cell_type": "code",
   "execution_count": null,
   "metadata": {},
   "outputs": [],
   "source": [
    "# Se procede a crear la variable temporada_alta"
   ]
  },
  {
   "cell_type": "code",
   "execution_count": 111,
   "metadata": {},
   "outputs": [],
   "source": [
    "#Lista de condiciones\n",
    "cond_1 = [\n",
    "    (data['Fecha-I'] >= '2017-01-01 00:00:00') & (data['Fecha-I'] <= '2017-03-03 23:59:00'), #15-Dic y 3-Mar    \n",
    "    (data['Fecha-I'] >= '2017-07-15 00:00:00') & (data['Fecha-I'] <= '2017-07-31 23:59:00'), #15-Jul y 31-Jul\n",
    "    (data['Fecha-I'] >= '2017-09-11 00:00:00') & (data['Fecha-I'] <= '2017-09-30 23:59:00'), #11-Sep y 30-Sep\n",
    "    (data['Fecha-I'] >= '2017-12-15 00:00:00') & (data['Fecha-I'] <= '2017-12-31 23:59:00') #15-Dic y 3-Mar\n",
    "    ]\n",
    "\n",
    "#Lista de valores para cada condición\n",
    "val_1 = ['1', '1', '1', '1']\n",
    "\n",
    "#Creación de la variable temporada_alta\n",
    "data['temporada_alta'] = np.select(cond_1, val_1)"
   ]
  },
  {
   "cell_type": "code",
   "execution_count": 112,
   "metadata": {},
   "outputs": [
    {
     "data": {
      "text/plain": [
       "0    45444\n",
       "1    22762\n",
       "Name: temporada_alta, dtype: int64"
      ]
     },
     "execution_count": 112,
     "metadata": {},
     "output_type": "execute_result"
    }
   ],
   "source": [
    "data['temporada_alta'].value_counts()"
   ]
  },
  {
   "cell_type": "code",
   "execution_count": 113,
   "metadata": {
    "scrolled": true
   },
   "outputs": [
    {
     "data": {
      "text/html": [
       "<div>\n",
       "<style scoped>\n",
       "    .dataframe tbody tr th:only-of-type {\n",
       "        vertical-align: middle;\n",
       "    }\n",
       "\n",
       "    .dataframe tbody tr th {\n",
       "        vertical-align: top;\n",
       "    }\n",
       "\n",
       "    .dataframe thead th {\n",
       "        text-align: right;\n",
       "    }\n",
       "</style>\n",
       "<table border=\"1\" class=\"dataframe\">\n",
       "  <thead>\n",
       "    <tr style=\"text-align: right;\">\n",
       "      <th></th>\n",
       "      <th>Fecha-I</th>\n",
       "      <th>Vlo-I</th>\n",
       "      <th>Ori-I</th>\n",
       "      <th>Des-I</th>\n",
       "      <th>Emp-I</th>\n",
       "      <th>Fecha-O</th>\n",
       "      <th>Vlo-O</th>\n",
       "      <th>Ori-O</th>\n",
       "      <th>Des-O</th>\n",
       "      <th>Emp-O</th>\n",
       "      <th>DIA</th>\n",
       "      <th>MES</th>\n",
       "      <th>AÑO</th>\n",
       "      <th>DIANOM</th>\n",
       "      <th>TIPOVUELO</th>\n",
       "      <th>OPERA</th>\n",
       "      <th>SIGLAORI</th>\n",
       "      <th>SIGLADES</th>\n",
       "      <th>temporada_alta</th>\n",
       "    </tr>\n",
       "  </thead>\n",
       "  <tbody>\n",
       "    <tr>\n",
       "      <th>0</th>\n",
       "      <td>2017-01-01 23:30:00</td>\n",
       "      <td>226</td>\n",
       "      <td>SCEL</td>\n",
       "      <td>KMIA</td>\n",
       "      <td>AAL</td>\n",
       "      <td>2017-01-01 23:33:00</td>\n",
       "      <td>226</td>\n",
       "      <td>SCEL</td>\n",
       "      <td>KMIA</td>\n",
       "      <td>AAL</td>\n",
       "      <td>1</td>\n",
       "      <td>1</td>\n",
       "      <td>2017</td>\n",
       "      <td>Domingo</td>\n",
       "      <td>I</td>\n",
       "      <td>American Airlines</td>\n",
       "      <td>Santiago</td>\n",
       "      <td>Miami</td>\n",
       "      <td>1</td>\n",
       "    </tr>\n",
       "    <tr>\n",
       "      <th>1</th>\n",
       "      <td>2017-01-02 23:30:00</td>\n",
       "      <td>226</td>\n",
       "      <td>SCEL</td>\n",
       "      <td>KMIA</td>\n",
       "      <td>AAL</td>\n",
       "      <td>2017-01-02 23:39:00</td>\n",
       "      <td>226</td>\n",
       "      <td>SCEL</td>\n",
       "      <td>KMIA</td>\n",
       "      <td>AAL</td>\n",
       "      <td>2</td>\n",
       "      <td>1</td>\n",
       "      <td>2017</td>\n",
       "      <td>Lunes</td>\n",
       "      <td>I</td>\n",
       "      <td>American Airlines</td>\n",
       "      <td>Santiago</td>\n",
       "      <td>Miami</td>\n",
       "      <td>1</td>\n",
       "    </tr>\n",
       "    <tr>\n",
       "      <th>2</th>\n",
       "      <td>2017-01-03 23:30:00</td>\n",
       "      <td>226</td>\n",
       "      <td>SCEL</td>\n",
       "      <td>KMIA</td>\n",
       "      <td>AAL</td>\n",
       "      <td>2017-01-03 23:39:00</td>\n",
       "      <td>226</td>\n",
       "      <td>SCEL</td>\n",
       "      <td>KMIA</td>\n",
       "      <td>AAL</td>\n",
       "      <td>3</td>\n",
       "      <td>1</td>\n",
       "      <td>2017</td>\n",
       "      <td>Martes</td>\n",
       "      <td>I</td>\n",
       "      <td>American Airlines</td>\n",
       "      <td>Santiago</td>\n",
       "      <td>Miami</td>\n",
       "      <td>1</td>\n",
       "    </tr>\n",
       "    <tr>\n",
       "      <th>3</th>\n",
       "      <td>2017-01-04 23:30:00</td>\n",
       "      <td>226</td>\n",
       "      <td>SCEL</td>\n",
       "      <td>KMIA</td>\n",
       "      <td>AAL</td>\n",
       "      <td>2017-01-04 23:33:00</td>\n",
       "      <td>226</td>\n",
       "      <td>SCEL</td>\n",
       "      <td>KMIA</td>\n",
       "      <td>AAL</td>\n",
       "      <td>4</td>\n",
       "      <td>1</td>\n",
       "      <td>2017</td>\n",
       "      <td>Miercoles</td>\n",
       "      <td>I</td>\n",
       "      <td>American Airlines</td>\n",
       "      <td>Santiago</td>\n",
       "      <td>Miami</td>\n",
       "      <td>1</td>\n",
       "    </tr>\n",
       "    <tr>\n",
       "      <th>4</th>\n",
       "      <td>2017-01-05 23:30:00</td>\n",
       "      <td>226</td>\n",
       "      <td>SCEL</td>\n",
       "      <td>KMIA</td>\n",
       "      <td>AAL</td>\n",
       "      <td>2017-01-05 23:28:00</td>\n",
       "      <td>226</td>\n",
       "      <td>SCEL</td>\n",
       "      <td>KMIA</td>\n",
       "      <td>AAL</td>\n",
       "      <td>5</td>\n",
       "      <td>1</td>\n",
       "      <td>2017</td>\n",
       "      <td>Jueves</td>\n",
       "      <td>I</td>\n",
       "      <td>American Airlines</td>\n",
       "      <td>Santiago</td>\n",
       "      <td>Miami</td>\n",
       "      <td>1</td>\n",
       "    </tr>\n",
       "  </tbody>\n",
       "</table>\n",
       "</div>"
      ],
      "text/plain": [
       "              Fecha-I Vlo-I Ori-I Des-I Emp-I             Fecha-O Vlo-O Ori-O  \\\n",
       "0 2017-01-01 23:30:00   226  SCEL  KMIA   AAL 2017-01-01 23:33:00   226  SCEL   \n",
       "1 2017-01-02 23:30:00   226  SCEL  KMIA   AAL 2017-01-02 23:39:00   226  SCEL   \n",
       "2 2017-01-03 23:30:00   226  SCEL  KMIA   AAL 2017-01-03 23:39:00   226  SCEL   \n",
       "3 2017-01-04 23:30:00   226  SCEL  KMIA   AAL 2017-01-04 23:33:00   226  SCEL   \n",
       "4 2017-01-05 23:30:00   226  SCEL  KMIA   AAL 2017-01-05 23:28:00   226  SCEL   \n",
       "\n",
       "  Des-O Emp-O  DIA  MES   AÑO     DIANOM TIPOVUELO              OPERA  \\\n",
       "0  KMIA   AAL    1    1  2017    Domingo         I  American Airlines   \n",
       "1  KMIA   AAL    2    1  2017      Lunes         I  American Airlines   \n",
       "2  KMIA   AAL    3    1  2017     Martes         I  American Airlines   \n",
       "3  KMIA   AAL    4    1  2017  Miercoles         I  American Airlines   \n",
       "4  KMIA   AAL    5    1  2017     Jueves         I  American Airlines   \n",
       "\n",
       "   SIGLAORI SIGLADES temporada_alta  \n",
       "0  Santiago    Miami              1  \n",
       "1  Santiago    Miami              1  \n",
       "2  Santiago    Miami              1  \n",
       "3  Santiago    Miami              1  \n",
       "4  Santiago    Miami              1  "
      ]
     },
     "execution_count": 113,
     "metadata": {},
     "output_type": "execute_result"
    }
   ],
   "source": [
    "data.head()"
   ]
  },
  {
   "cell_type": "markdown",
   "metadata": {},
   "source": [
    "### dif_min"
   ]
  },
  {
   "cell_type": "code",
   "execution_count": 144,
   "metadata": {},
   "outputs": [],
   "source": [
    "data['dif_min'] = pd.to_numeric(data['Fecha-O']-data['Fecha-I'])/60000000000"
   ]
  },
  {
   "cell_type": "code",
   "execution_count": 147,
   "metadata": {},
   "outputs": [
    {
     "data": {
      "text/html": [
       "<div>\n",
       "<style scoped>\n",
       "    .dataframe tbody tr th:only-of-type {\n",
       "        vertical-align: middle;\n",
       "    }\n",
       "\n",
       "    .dataframe tbody tr th {\n",
       "        vertical-align: top;\n",
       "    }\n",
       "\n",
       "    .dataframe thead th {\n",
       "        text-align: right;\n",
       "    }\n",
       "</style>\n",
       "<table border=\"1\" class=\"dataframe\">\n",
       "  <thead>\n",
       "    <tr style=\"text-align: right;\">\n",
       "      <th></th>\n",
       "      <th>Fecha-I</th>\n",
       "      <th>Vlo-I</th>\n",
       "      <th>Ori-I</th>\n",
       "      <th>Des-I</th>\n",
       "      <th>Emp-I</th>\n",
       "      <th>Fecha-O</th>\n",
       "      <th>Vlo-O</th>\n",
       "      <th>Ori-O</th>\n",
       "      <th>Des-O</th>\n",
       "      <th>Emp-O</th>\n",
       "      <th>DIA</th>\n",
       "      <th>MES</th>\n",
       "      <th>AÑO</th>\n",
       "      <th>DIANOM</th>\n",
       "      <th>TIPOVUELO</th>\n",
       "      <th>OPERA</th>\n",
       "      <th>SIGLAORI</th>\n",
       "      <th>SIGLADES</th>\n",
       "      <th>temporada_alta</th>\n",
       "      <th>dif_min</th>\n",
       "    </tr>\n",
       "  </thead>\n",
       "  <tbody>\n",
       "    <tr>\n",
       "      <th>0</th>\n",
       "      <td>2017-01-01 23:30:00</td>\n",
       "      <td>226</td>\n",
       "      <td>SCEL</td>\n",
       "      <td>KMIA</td>\n",
       "      <td>AAL</td>\n",
       "      <td>2017-01-01 23:33:00</td>\n",
       "      <td>226</td>\n",
       "      <td>SCEL</td>\n",
       "      <td>KMIA</td>\n",
       "      <td>AAL</td>\n",
       "      <td>1</td>\n",
       "      <td>1</td>\n",
       "      <td>2017</td>\n",
       "      <td>Domingo</td>\n",
       "      <td>I</td>\n",
       "      <td>American Airlines</td>\n",
       "      <td>Santiago</td>\n",
       "      <td>Miami</td>\n",
       "      <td>1</td>\n",
       "      <td>3.0</td>\n",
       "    </tr>\n",
       "    <tr>\n",
       "      <th>1</th>\n",
       "      <td>2017-01-02 23:30:00</td>\n",
       "      <td>226</td>\n",
       "      <td>SCEL</td>\n",
       "      <td>KMIA</td>\n",
       "      <td>AAL</td>\n",
       "      <td>2017-01-02 23:39:00</td>\n",
       "      <td>226</td>\n",
       "      <td>SCEL</td>\n",
       "      <td>KMIA</td>\n",
       "      <td>AAL</td>\n",
       "      <td>2</td>\n",
       "      <td>1</td>\n",
       "      <td>2017</td>\n",
       "      <td>Lunes</td>\n",
       "      <td>I</td>\n",
       "      <td>American Airlines</td>\n",
       "      <td>Santiago</td>\n",
       "      <td>Miami</td>\n",
       "      <td>1</td>\n",
       "      <td>9.0</td>\n",
       "    </tr>\n",
       "    <tr>\n",
       "      <th>2</th>\n",
       "      <td>2017-01-03 23:30:00</td>\n",
       "      <td>226</td>\n",
       "      <td>SCEL</td>\n",
       "      <td>KMIA</td>\n",
       "      <td>AAL</td>\n",
       "      <td>2017-01-03 23:39:00</td>\n",
       "      <td>226</td>\n",
       "      <td>SCEL</td>\n",
       "      <td>KMIA</td>\n",
       "      <td>AAL</td>\n",
       "      <td>3</td>\n",
       "      <td>1</td>\n",
       "      <td>2017</td>\n",
       "      <td>Martes</td>\n",
       "      <td>I</td>\n",
       "      <td>American Airlines</td>\n",
       "      <td>Santiago</td>\n",
       "      <td>Miami</td>\n",
       "      <td>1</td>\n",
       "      <td>9.0</td>\n",
       "    </tr>\n",
       "    <tr>\n",
       "      <th>3</th>\n",
       "      <td>2017-01-04 23:30:00</td>\n",
       "      <td>226</td>\n",
       "      <td>SCEL</td>\n",
       "      <td>KMIA</td>\n",
       "      <td>AAL</td>\n",
       "      <td>2017-01-04 23:33:00</td>\n",
       "      <td>226</td>\n",
       "      <td>SCEL</td>\n",
       "      <td>KMIA</td>\n",
       "      <td>AAL</td>\n",
       "      <td>4</td>\n",
       "      <td>1</td>\n",
       "      <td>2017</td>\n",
       "      <td>Miercoles</td>\n",
       "      <td>I</td>\n",
       "      <td>American Airlines</td>\n",
       "      <td>Santiago</td>\n",
       "      <td>Miami</td>\n",
       "      <td>1</td>\n",
       "      <td>3.0</td>\n",
       "    </tr>\n",
       "    <tr>\n",
       "      <th>4</th>\n",
       "      <td>2017-01-05 23:30:00</td>\n",
       "      <td>226</td>\n",
       "      <td>SCEL</td>\n",
       "      <td>KMIA</td>\n",
       "      <td>AAL</td>\n",
       "      <td>2017-01-05 23:28:00</td>\n",
       "      <td>226</td>\n",
       "      <td>SCEL</td>\n",
       "      <td>KMIA</td>\n",
       "      <td>AAL</td>\n",
       "      <td>5</td>\n",
       "      <td>1</td>\n",
       "      <td>2017</td>\n",
       "      <td>Jueves</td>\n",
       "      <td>I</td>\n",
       "      <td>American Airlines</td>\n",
       "      <td>Santiago</td>\n",
       "      <td>Miami</td>\n",
       "      <td>1</td>\n",
       "      <td>-2.0</td>\n",
       "    </tr>\n",
       "    <tr>\n",
       "      <th>5</th>\n",
       "      <td>2017-01-06 23:30:00</td>\n",
       "      <td>226</td>\n",
       "      <td>SCEL</td>\n",
       "      <td>KMIA</td>\n",
       "      <td>AAL</td>\n",
       "      <td>2017-01-07 00:04:00</td>\n",
       "      <td>226</td>\n",
       "      <td>SCEL</td>\n",
       "      <td>KMIA</td>\n",
       "      <td>AAL</td>\n",
       "      <td>7</td>\n",
       "      <td>1</td>\n",
       "      <td>2017</td>\n",
       "      <td>Sabado</td>\n",
       "      <td>I</td>\n",
       "      <td>American Airlines</td>\n",
       "      <td>Santiago</td>\n",
       "      <td>Miami</td>\n",
       "      <td>1</td>\n",
       "      <td>34.0</td>\n",
       "    </tr>\n",
       "    <tr>\n",
       "      <th>6</th>\n",
       "      <td>2017-01-07 23:30:00</td>\n",
       "      <td>226</td>\n",
       "      <td>SCEL</td>\n",
       "      <td>KMIA</td>\n",
       "      <td>AAL</td>\n",
       "      <td>2017-01-07 23:25:00</td>\n",
       "      <td>226</td>\n",
       "      <td>SCEL</td>\n",
       "      <td>KMIA</td>\n",
       "      <td>AAL</td>\n",
       "      <td>7</td>\n",
       "      <td>1</td>\n",
       "      <td>2017</td>\n",
       "      <td>Sabado</td>\n",
       "      <td>I</td>\n",
       "      <td>American Airlines</td>\n",
       "      <td>Santiago</td>\n",
       "      <td>Miami</td>\n",
       "      <td>1</td>\n",
       "      <td>-5.0</td>\n",
       "    </tr>\n",
       "    <tr>\n",
       "      <th>7</th>\n",
       "      <td>2017-01-08 23:30:00</td>\n",
       "      <td>226</td>\n",
       "      <td>SCEL</td>\n",
       "      <td>KMIA</td>\n",
       "      <td>AAL</td>\n",
       "      <td>2017-01-08 23:25:00</td>\n",
       "      <td>226</td>\n",
       "      <td>SCEL</td>\n",
       "      <td>KMIA</td>\n",
       "      <td>AAL</td>\n",
       "      <td>8</td>\n",
       "      <td>1</td>\n",
       "      <td>2017</td>\n",
       "      <td>Domingo</td>\n",
       "      <td>I</td>\n",
       "      <td>American Airlines</td>\n",
       "      <td>Santiago</td>\n",
       "      <td>Miami</td>\n",
       "      <td>1</td>\n",
       "      <td>-5.0</td>\n",
       "    </tr>\n",
       "  </tbody>\n",
       "</table>\n",
       "</div>"
      ],
      "text/plain": [
       "              Fecha-I Vlo-I Ori-I Des-I Emp-I             Fecha-O Vlo-O Ori-O  \\\n",
       "0 2017-01-01 23:30:00   226  SCEL  KMIA   AAL 2017-01-01 23:33:00   226  SCEL   \n",
       "1 2017-01-02 23:30:00   226  SCEL  KMIA   AAL 2017-01-02 23:39:00   226  SCEL   \n",
       "2 2017-01-03 23:30:00   226  SCEL  KMIA   AAL 2017-01-03 23:39:00   226  SCEL   \n",
       "3 2017-01-04 23:30:00   226  SCEL  KMIA   AAL 2017-01-04 23:33:00   226  SCEL   \n",
       "4 2017-01-05 23:30:00   226  SCEL  KMIA   AAL 2017-01-05 23:28:00   226  SCEL   \n",
       "5 2017-01-06 23:30:00   226  SCEL  KMIA   AAL 2017-01-07 00:04:00   226  SCEL   \n",
       "6 2017-01-07 23:30:00   226  SCEL  KMIA   AAL 2017-01-07 23:25:00   226  SCEL   \n",
       "7 2017-01-08 23:30:00   226  SCEL  KMIA   AAL 2017-01-08 23:25:00   226  SCEL   \n",
       "\n",
       "  Des-O Emp-O  DIA  MES   AÑO     DIANOM TIPOVUELO              OPERA  \\\n",
       "0  KMIA   AAL    1    1  2017    Domingo         I  American Airlines   \n",
       "1  KMIA   AAL    2    1  2017      Lunes         I  American Airlines   \n",
       "2  KMIA   AAL    3    1  2017     Martes         I  American Airlines   \n",
       "3  KMIA   AAL    4    1  2017  Miercoles         I  American Airlines   \n",
       "4  KMIA   AAL    5    1  2017     Jueves         I  American Airlines   \n",
       "5  KMIA   AAL    7    1  2017     Sabado         I  American Airlines   \n",
       "6  KMIA   AAL    7    1  2017     Sabado         I  American Airlines   \n",
       "7  KMIA   AAL    8    1  2017    Domingo         I  American Airlines   \n",
       "\n",
       "   SIGLAORI SIGLADES temporada_alta  dif_min  \n",
       "0  Santiago    Miami              1      3.0  \n",
       "1  Santiago    Miami              1      9.0  \n",
       "2  Santiago    Miami              1      9.0  \n",
       "3  Santiago    Miami              1      3.0  \n",
       "4  Santiago    Miami              1     -2.0  \n",
       "5  Santiago    Miami              1     34.0  \n",
       "6  Santiago    Miami              1     -5.0  \n",
       "7  Santiago    Miami              1     -5.0  "
      ]
     },
     "execution_count": 147,
     "metadata": {},
     "output_type": "execute_result"
    }
   ],
   "source": [
    "data.head()"
   ]
  },
  {
   "cell_type": "markdown",
   "metadata": {},
   "source": [
    "### atraso_15"
   ]
  },
  {
   "cell_type": "code",
   "execution_count": 151,
   "metadata": {},
   "outputs": [
    {
     "data": {
      "text/plain": [
       "0    55592\n",
       "1    12614\n",
       "Name: atraso_15, dtype: int64"
      ]
     },
     "execution_count": 151,
     "metadata": {},
     "output_type": "execute_result"
    }
   ],
   "source": [
    "data['atraso_15'] = np.where(data['dif_min'] > 15, 1, 0)\n",
    "data['atraso_15'].value_counts()"
   ]
  },
  {
   "cell_type": "code",
   "execution_count": 152,
   "metadata": {},
   "outputs": [
    {
     "data": {
      "text/html": [
       "<div>\n",
       "<style scoped>\n",
       "    .dataframe tbody tr th:only-of-type {\n",
       "        vertical-align: middle;\n",
       "    }\n",
       "\n",
       "    .dataframe tbody tr th {\n",
       "        vertical-align: top;\n",
       "    }\n",
       "\n",
       "    .dataframe thead th {\n",
       "        text-align: right;\n",
       "    }\n",
       "</style>\n",
       "<table border=\"1\" class=\"dataframe\">\n",
       "  <thead>\n",
       "    <tr style=\"text-align: right;\">\n",
       "      <th></th>\n",
       "      <th>Fecha-I</th>\n",
       "      <th>Vlo-I</th>\n",
       "      <th>Ori-I</th>\n",
       "      <th>Des-I</th>\n",
       "      <th>Emp-I</th>\n",
       "      <th>Fecha-O</th>\n",
       "      <th>Vlo-O</th>\n",
       "      <th>Ori-O</th>\n",
       "      <th>Des-O</th>\n",
       "      <th>Emp-O</th>\n",
       "      <th>...</th>\n",
       "      <th>MES</th>\n",
       "      <th>AÑO</th>\n",
       "      <th>DIANOM</th>\n",
       "      <th>TIPOVUELO</th>\n",
       "      <th>OPERA</th>\n",
       "      <th>SIGLAORI</th>\n",
       "      <th>SIGLADES</th>\n",
       "      <th>temporada_alta</th>\n",
       "      <th>dif_min</th>\n",
       "      <th>atraso_15</th>\n",
       "    </tr>\n",
       "  </thead>\n",
       "  <tbody>\n",
       "    <tr>\n",
       "      <th>0</th>\n",
       "      <td>2017-01-01 23:30:00</td>\n",
       "      <td>226</td>\n",
       "      <td>SCEL</td>\n",
       "      <td>KMIA</td>\n",
       "      <td>AAL</td>\n",
       "      <td>2017-01-01 23:33:00</td>\n",
       "      <td>226</td>\n",
       "      <td>SCEL</td>\n",
       "      <td>KMIA</td>\n",
       "      <td>AAL</td>\n",
       "      <td>...</td>\n",
       "      <td>1</td>\n",
       "      <td>2017</td>\n",
       "      <td>Domingo</td>\n",
       "      <td>I</td>\n",
       "      <td>American Airlines</td>\n",
       "      <td>Santiago</td>\n",
       "      <td>Miami</td>\n",
       "      <td>1</td>\n",
       "      <td>3.0</td>\n",
       "      <td>0</td>\n",
       "    </tr>\n",
       "    <tr>\n",
       "      <th>1</th>\n",
       "      <td>2017-01-02 23:30:00</td>\n",
       "      <td>226</td>\n",
       "      <td>SCEL</td>\n",
       "      <td>KMIA</td>\n",
       "      <td>AAL</td>\n",
       "      <td>2017-01-02 23:39:00</td>\n",
       "      <td>226</td>\n",
       "      <td>SCEL</td>\n",
       "      <td>KMIA</td>\n",
       "      <td>AAL</td>\n",
       "      <td>...</td>\n",
       "      <td>1</td>\n",
       "      <td>2017</td>\n",
       "      <td>Lunes</td>\n",
       "      <td>I</td>\n",
       "      <td>American Airlines</td>\n",
       "      <td>Santiago</td>\n",
       "      <td>Miami</td>\n",
       "      <td>1</td>\n",
       "      <td>9.0</td>\n",
       "      <td>0</td>\n",
       "    </tr>\n",
       "    <tr>\n",
       "      <th>2</th>\n",
       "      <td>2017-01-03 23:30:00</td>\n",
       "      <td>226</td>\n",
       "      <td>SCEL</td>\n",
       "      <td>KMIA</td>\n",
       "      <td>AAL</td>\n",
       "      <td>2017-01-03 23:39:00</td>\n",
       "      <td>226</td>\n",
       "      <td>SCEL</td>\n",
       "      <td>KMIA</td>\n",
       "      <td>AAL</td>\n",
       "      <td>...</td>\n",
       "      <td>1</td>\n",
       "      <td>2017</td>\n",
       "      <td>Martes</td>\n",
       "      <td>I</td>\n",
       "      <td>American Airlines</td>\n",
       "      <td>Santiago</td>\n",
       "      <td>Miami</td>\n",
       "      <td>1</td>\n",
       "      <td>9.0</td>\n",
       "      <td>0</td>\n",
       "    </tr>\n",
       "    <tr>\n",
       "      <th>3</th>\n",
       "      <td>2017-01-04 23:30:00</td>\n",
       "      <td>226</td>\n",
       "      <td>SCEL</td>\n",
       "      <td>KMIA</td>\n",
       "      <td>AAL</td>\n",
       "      <td>2017-01-04 23:33:00</td>\n",
       "      <td>226</td>\n",
       "      <td>SCEL</td>\n",
       "      <td>KMIA</td>\n",
       "      <td>AAL</td>\n",
       "      <td>...</td>\n",
       "      <td>1</td>\n",
       "      <td>2017</td>\n",
       "      <td>Miercoles</td>\n",
       "      <td>I</td>\n",
       "      <td>American Airlines</td>\n",
       "      <td>Santiago</td>\n",
       "      <td>Miami</td>\n",
       "      <td>1</td>\n",
       "      <td>3.0</td>\n",
       "      <td>0</td>\n",
       "    </tr>\n",
       "    <tr>\n",
       "      <th>4</th>\n",
       "      <td>2017-01-05 23:30:00</td>\n",
       "      <td>226</td>\n",
       "      <td>SCEL</td>\n",
       "      <td>KMIA</td>\n",
       "      <td>AAL</td>\n",
       "      <td>2017-01-05 23:28:00</td>\n",
       "      <td>226</td>\n",
       "      <td>SCEL</td>\n",
       "      <td>KMIA</td>\n",
       "      <td>AAL</td>\n",
       "      <td>...</td>\n",
       "      <td>1</td>\n",
       "      <td>2017</td>\n",
       "      <td>Jueves</td>\n",
       "      <td>I</td>\n",
       "      <td>American Airlines</td>\n",
       "      <td>Santiago</td>\n",
       "      <td>Miami</td>\n",
       "      <td>1</td>\n",
       "      <td>-2.0</td>\n",
       "      <td>0</td>\n",
       "    </tr>\n",
       "  </tbody>\n",
       "</table>\n",
       "<p>5 rows × 21 columns</p>\n",
       "</div>"
      ],
      "text/plain": [
       "              Fecha-I Vlo-I Ori-I Des-I Emp-I             Fecha-O Vlo-O Ori-O  \\\n",
       "0 2017-01-01 23:30:00   226  SCEL  KMIA   AAL 2017-01-01 23:33:00   226  SCEL   \n",
       "1 2017-01-02 23:30:00   226  SCEL  KMIA   AAL 2017-01-02 23:39:00   226  SCEL   \n",
       "2 2017-01-03 23:30:00   226  SCEL  KMIA   AAL 2017-01-03 23:39:00   226  SCEL   \n",
       "3 2017-01-04 23:30:00   226  SCEL  KMIA   AAL 2017-01-04 23:33:00   226  SCEL   \n",
       "4 2017-01-05 23:30:00   226  SCEL  KMIA   AAL 2017-01-05 23:28:00   226  SCEL   \n",
       "\n",
       "  Des-O Emp-O  ...  MES   AÑO     DIANOM TIPOVUELO              OPERA  \\\n",
       "0  KMIA   AAL  ...    1  2017    Domingo         I  American Airlines   \n",
       "1  KMIA   AAL  ...    1  2017      Lunes         I  American Airlines   \n",
       "2  KMIA   AAL  ...    1  2017     Martes         I  American Airlines   \n",
       "3  KMIA   AAL  ...    1  2017  Miercoles         I  American Airlines   \n",
       "4  KMIA   AAL  ...    1  2017     Jueves         I  American Airlines   \n",
       "\n",
       "   SIGLAORI SIGLADES temporada_alta dif_min  atraso_15  \n",
       "0  Santiago    Miami              1     3.0          0  \n",
       "1  Santiago    Miami              1     9.0          0  \n",
       "2  Santiago    Miami              1     9.0          0  \n",
       "3  Santiago    Miami              1     3.0          0  \n",
       "4  Santiago    Miami              1    -2.0          0  \n",
       "\n",
       "[5 rows x 21 columns]"
      ]
     },
     "execution_count": 152,
     "metadata": {},
     "output_type": "execute_result"
    }
   ],
   "source": [
    "data.head()"
   ]
  },
  {
   "cell_type": "markdown",
   "metadata": {},
   "source": [
    "### periodo_dia"
   ]
  },
  {
   "cell_type": "code",
   "execution_count": 192,
   "metadata": {},
   "outputs": [
    {
     "data": {
      "text/plain": [
       "7     4882\n",
       "8     4363\n",
       "6     4199\n",
       "18    4162\n",
       "15    3884\n",
       "14    3836\n",
       "13    3675\n",
       "11    3668\n",
       "19    3591\n",
       "17    3465\n",
       "12    3412\n",
       "9     3264\n",
       "16    3072\n",
       "20    2935\n",
       "5     2514\n",
       "10    2462\n",
       "22    2320\n",
       "21    2312\n",
       "1     1573\n",
       "23    1297\n",
       "4     1092\n",
       "0     1082\n",
       "2      641\n",
       "3      505\n",
       "Name: hora, dtype: int64"
      ]
     },
     "execution_count": 192,
     "metadata": {},
     "output_type": "execute_result"
    }
   ],
   "source": [
    "data['hora'] = data['Fecha-I'].dt.hour\n",
    "data['hora'].value_counts()"
   ]
  },
  {
   "cell_type": "code",
   "execution_count": 193,
   "metadata": {},
   "outputs": [],
   "source": [
    "#Lista de condiciones\n",
    "cond_4 = [\n",
    "    (data['hora'] >= 0) & (data['hora'] < 5), #noche\n",
    "    (data['hora'] >= 5) & (data['hora'] < 12), #mañana\n",
    "    (data['hora'] >= 12) & (data['hora'] < 19), #tarde\n",
    "    (data['hora'] >= 19) #noche\n",
    "    ]\n",
    "\n",
    "#Lista de valores para cada condición\n",
    "val_4 = ['noche', 'mañana', 'tarde', 'noche']\n",
    "\n",
    "#Creación de la variable periodo_dia\n",
    "data['periodo_dia'] = np.select(cond_4, val_4)\n",
    "\n",
    "#Eliminación de la variable hora\n",
    "data = data.drop(['hora'],axis=1)"
   ]
  },
  {
   "cell_type": "code",
   "execution_count": 196,
   "metadata": {},
   "outputs": [
    {
     "data": {
      "text/plain": [
       "tarde     25506\n",
       "mañana    25352\n",
       "noche     17348\n",
       "Name: periodo_dia, dtype: int64"
      ]
     },
     "execution_count": 196,
     "metadata": {},
     "output_type": "execute_result"
    }
   ],
   "source": [
    "data['periodo_dia'].value_counts()"
   ]
  },
  {
   "cell_type": "code",
   "execution_count": 197,
   "metadata": {},
   "outputs": [
    {
     "data": {
      "text/html": [
       "<div>\n",
       "<style scoped>\n",
       "    .dataframe tbody tr th:only-of-type {\n",
       "        vertical-align: middle;\n",
       "    }\n",
       "\n",
       "    .dataframe tbody tr th {\n",
       "        vertical-align: top;\n",
       "    }\n",
       "\n",
       "    .dataframe thead th {\n",
       "        text-align: right;\n",
       "    }\n",
       "</style>\n",
       "<table border=\"1\" class=\"dataframe\">\n",
       "  <thead>\n",
       "    <tr style=\"text-align: right;\">\n",
       "      <th></th>\n",
       "      <th>Fecha-I</th>\n",
       "      <th>Vlo-I</th>\n",
       "      <th>Ori-I</th>\n",
       "      <th>Des-I</th>\n",
       "      <th>Emp-I</th>\n",
       "      <th>Fecha-O</th>\n",
       "      <th>Vlo-O</th>\n",
       "      <th>Ori-O</th>\n",
       "      <th>Des-O</th>\n",
       "      <th>Emp-O</th>\n",
       "      <th>...</th>\n",
       "      <th>AÑO</th>\n",
       "      <th>DIANOM</th>\n",
       "      <th>TIPOVUELO</th>\n",
       "      <th>OPERA</th>\n",
       "      <th>SIGLAORI</th>\n",
       "      <th>SIGLADES</th>\n",
       "      <th>temporada_alta</th>\n",
       "      <th>dif_min</th>\n",
       "      <th>atraso_15</th>\n",
       "      <th>periodo_dia</th>\n",
       "    </tr>\n",
       "  </thead>\n",
       "  <tbody>\n",
       "    <tr>\n",
       "      <th>0</th>\n",
       "      <td>2017-01-01 23:30:00</td>\n",
       "      <td>226</td>\n",
       "      <td>SCEL</td>\n",
       "      <td>KMIA</td>\n",
       "      <td>AAL</td>\n",
       "      <td>2017-01-01 23:33:00</td>\n",
       "      <td>226</td>\n",
       "      <td>SCEL</td>\n",
       "      <td>KMIA</td>\n",
       "      <td>AAL</td>\n",
       "      <td>...</td>\n",
       "      <td>2017</td>\n",
       "      <td>Domingo</td>\n",
       "      <td>I</td>\n",
       "      <td>American Airlines</td>\n",
       "      <td>Santiago</td>\n",
       "      <td>Miami</td>\n",
       "      <td>1</td>\n",
       "      <td>3.0</td>\n",
       "      <td>0</td>\n",
       "      <td>noche</td>\n",
       "    </tr>\n",
       "    <tr>\n",
       "      <th>1</th>\n",
       "      <td>2017-01-02 23:30:00</td>\n",
       "      <td>226</td>\n",
       "      <td>SCEL</td>\n",
       "      <td>KMIA</td>\n",
       "      <td>AAL</td>\n",
       "      <td>2017-01-02 23:39:00</td>\n",
       "      <td>226</td>\n",
       "      <td>SCEL</td>\n",
       "      <td>KMIA</td>\n",
       "      <td>AAL</td>\n",
       "      <td>...</td>\n",
       "      <td>2017</td>\n",
       "      <td>Lunes</td>\n",
       "      <td>I</td>\n",
       "      <td>American Airlines</td>\n",
       "      <td>Santiago</td>\n",
       "      <td>Miami</td>\n",
       "      <td>1</td>\n",
       "      <td>9.0</td>\n",
       "      <td>0</td>\n",
       "      <td>noche</td>\n",
       "    </tr>\n",
       "    <tr>\n",
       "      <th>2</th>\n",
       "      <td>2017-01-03 23:30:00</td>\n",
       "      <td>226</td>\n",
       "      <td>SCEL</td>\n",
       "      <td>KMIA</td>\n",
       "      <td>AAL</td>\n",
       "      <td>2017-01-03 23:39:00</td>\n",
       "      <td>226</td>\n",
       "      <td>SCEL</td>\n",
       "      <td>KMIA</td>\n",
       "      <td>AAL</td>\n",
       "      <td>...</td>\n",
       "      <td>2017</td>\n",
       "      <td>Martes</td>\n",
       "      <td>I</td>\n",
       "      <td>American Airlines</td>\n",
       "      <td>Santiago</td>\n",
       "      <td>Miami</td>\n",
       "      <td>1</td>\n",
       "      <td>9.0</td>\n",
       "      <td>0</td>\n",
       "      <td>noche</td>\n",
       "    </tr>\n",
       "    <tr>\n",
       "      <th>3</th>\n",
       "      <td>2017-01-04 23:30:00</td>\n",
       "      <td>226</td>\n",
       "      <td>SCEL</td>\n",
       "      <td>KMIA</td>\n",
       "      <td>AAL</td>\n",
       "      <td>2017-01-04 23:33:00</td>\n",
       "      <td>226</td>\n",
       "      <td>SCEL</td>\n",
       "      <td>KMIA</td>\n",
       "      <td>AAL</td>\n",
       "      <td>...</td>\n",
       "      <td>2017</td>\n",
       "      <td>Miercoles</td>\n",
       "      <td>I</td>\n",
       "      <td>American Airlines</td>\n",
       "      <td>Santiago</td>\n",
       "      <td>Miami</td>\n",
       "      <td>1</td>\n",
       "      <td>3.0</td>\n",
       "      <td>0</td>\n",
       "      <td>noche</td>\n",
       "    </tr>\n",
       "    <tr>\n",
       "      <th>4</th>\n",
       "      <td>2017-01-05 23:30:00</td>\n",
       "      <td>226</td>\n",
       "      <td>SCEL</td>\n",
       "      <td>KMIA</td>\n",
       "      <td>AAL</td>\n",
       "      <td>2017-01-05 23:28:00</td>\n",
       "      <td>226</td>\n",
       "      <td>SCEL</td>\n",
       "      <td>KMIA</td>\n",
       "      <td>AAL</td>\n",
       "      <td>...</td>\n",
       "      <td>2017</td>\n",
       "      <td>Jueves</td>\n",
       "      <td>I</td>\n",
       "      <td>American Airlines</td>\n",
       "      <td>Santiago</td>\n",
       "      <td>Miami</td>\n",
       "      <td>1</td>\n",
       "      <td>-2.0</td>\n",
       "      <td>0</td>\n",
       "      <td>noche</td>\n",
       "    </tr>\n",
       "  </tbody>\n",
       "</table>\n",
       "<p>5 rows × 22 columns</p>\n",
       "</div>"
      ],
      "text/plain": [
       "              Fecha-I Vlo-I Ori-I Des-I Emp-I             Fecha-O Vlo-O Ori-O  \\\n",
       "0 2017-01-01 23:30:00   226  SCEL  KMIA   AAL 2017-01-01 23:33:00   226  SCEL   \n",
       "1 2017-01-02 23:30:00   226  SCEL  KMIA   AAL 2017-01-02 23:39:00   226  SCEL   \n",
       "2 2017-01-03 23:30:00   226  SCEL  KMIA   AAL 2017-01-03 23:39:00   226  SCEL   \n",
       "3 2017-01-04 23:30:00   226  SCEL  KMIA   AAL 2017-01-04 23:33:00   226  SCEL   \n",
       "4 2017-01-05 23:30:00   226  SCEL  KMIA   AAL 2017-01-05 23:28:00   226  SCEL   \n",
       "\n",
       "  Des-O Emp-O  ...   AÑO     DIANOM  TIPOVUELO              OPERA  SIGLAORI  \\\n",
       "0  KMIA   AAL  ...  2017    Domingo          I  American Airlines  Santiago   \n",
       "1  KMIA   AAL  ...  2017      Lunes          I  American Airlines  Santiago   \n",
       "2  KMIA   AAL  ...  2017     Martes          I  American Airlines  Santiago   \n",
       "3  KMIA   AAL  ...  2017  Miercoles          I  American Airlines  Santiago   \n",
       "4  KMIA   AAL  ...  2017     Jueves          I  American Airlines  Santiago   \n",
       "\n",
       "  SIGLADES temporada_alta dif_min atraso_15  periodo_dia  \n",
       "0    Miami              1     3.0         0        noche  \n",
       "1    Miami              1     9.0         0        noche  \n",
       "2    Miami              1     9.0         0        noche  \n",
       "3    Miami              1     3.0         0        noche  \n",
       "4    Miami              1    -2.0         0        noche  \n",
       "\n",
       "[5 rows x 22 columns]"
      ]
     },
     "execution_count": 197,
     "metadata": {},
     "output_type": "execute_result"
    }
   ],
   "source": [
    "data.head()"
   ]
  },
  {
   "cell_type": "code",
   "execution_count": 199,
   "metadata": {},
   "outputs": [
    {
     "data": {
      "text/html": [
       "<div>\n",
       "<style scoped>\n",
       "    .dataframe tbody tr th:only-of-type {\n",
       "        vertical-align: middle;\n",
       "    }\n",
       "\n",
       "    .dataframe tbody tr th {\n",
       "        vertical-align: top;\n",
       "    }\n",
       "\n",
       "    .dataframe thead th {\n",
       "        text-align: right;\n",
       "    }\n",
       "</style>\n",
       "<table border=\"1\" class=\"dataframe\">\n",
       "  <thead>\n",
       "    <tr style=\"text-align: right;\">\n",
       "      <th></th>\n",
       "      <th>temporada_alta</th>\n",
       "      <th>dif_min</th>\n",
       "      <th>atraso_15</th>\n",
       "      <th>periodo_dia</th>\n",
       "    </tr>\n",
       "  </thead>\n",
       "  <tbody>\n",
       "    <tr>\n",
       "      <th>0</th>\n",
       "      <td>1</td>\n",
       "      <td>3.0</td>\n",
       "      <td>0</td>\n",
       "      <td>noche</td>\n",
       "    </tr>\n",
       "    <tr>\n",
       "      <th>1</th>\n",
       "      <td>1</td>\n",
       "      <td>9.0</td>\n",
       "      <td>0</td>\n",
       "      <td>noche</td>\n",
       "    </tr>\n",
       "    <tr>\n",
       "      <th>2</th>\n",
       "      <td>1</td>\n",
       "      <td>9.0</td>\n",
       "      <td>0</td>\n",
       "      <td>noche</td>\n",
       "    </tr>\n",
       "    <tr>\n",
       "      <th>3</th>\n",
       "      <td>1</td>\n",
       "      <td>3.0</td>\n",
       "      <td>0</td>\n",
       "      <td>noche</td>\n",
       "    </tr>\n",
       "    <tr>\n",
       "      <th>4</th>\n",
       "      <td>1</td>\n",
       "      <td>-2.0</td>\n",
       "      <td>0</td>\n",
       "      <td>noche</td>\n",
       "    </tr>\n",
       "  </tbody>\n",
       "</table>\n",
       "</div>"
      ],
      "text/plain": [
       "  temporada_alta  dif_min  atraso_15 periodo_dia\n",
       "0              1      3.0          0       noche\n",
       "1              1      9.0          0       noche\n",
       "2              1      9.0          0       noche\n",
       "3              1      3.0          0       noche\n",
       "4              1     -2.0          0       noche"
      ]
     },
     "execution_count": 199,
     "metadata": {},
     "output_type": "execute_result"
    }
   ],
   "source": [
    "synthetic_features = data.loc[:,['temporada_alta','dif_min','atraso_15','periodo_dia']]\n",
    "synthetic_features.head()"
   ]
  },
  {
   "cell_type": "code",
   "execution_count": 200,
   "metadata": {},
   "outputs": [],
   "source": [
    "synthetic_features.to_csv('D:/Bases/Latam/synthetic_features.csv', index = False)"
   ]
  },
  {
   "cell_type": "markdown",
   "metadata": {},
   "source": [
    "# Pregunta 3\n",
    "¿Cómo se compone la tasa de atraso por destino, aerolínea, mes del año, día de la semana, temporada, tipo de vuelo?\n",
    "¿Qué variables esperarías que más influyeran en predecir atrasos?"
   ]
  },
  {
   "cell_type": "markdown",
   "metadata": {},
   "source": [
    "### a. Análisis de la tasa de atraso según variables"
   ]
  },
  {
   "cell_type": "code",
   "execution_count": 201,
   "metadata": {},
   "outputs": [
    {
     "data": {
      "text/plain": [
       "0    81.506026\n",
       "1    18.493974\n",
       "Name: atraso_15, dtype: float64"
      ]
     },
     "execution_count": 201,
     "metadata": {},
     "output_type": "execute_result"
    }
   ],
   "source": [
    "#La tasa de traso global es de 18.5%. Este valor servirá para comparlos según los tipos de variables\n",
    "#que se analizarán a continuación\n",
    "\n",
    "100*data['atraso_15'].value_counts(normalize=True)"
   ]
  },
  {
   "cell_type": "markdown",
   "metadata": {},
   "source": [
    "### Tasa de atraso por destino"
   ]
  },
  {
   "cell_type": "code",
   "execution_count": null,
   "metadata": {},
   "outputs": [],
   "source": [
    "#El destino a Washington tiene la menor tasa de atraso (0% vs 18.5% la media).\n",
    "\n",
    "#Esta variable no ayudará a predecir los atrasos, pues es una variable que hace referencia a la reprogramación del vuelo \n",
    "#y al momento de la réplica del modelo no se encontrará disponible.\n",
    "\n",
    "#En la parte b. Se usará el destino haciendo uso de Des-I."
   ]
  },
  {
   "cell_type": "code",
   "execution_count": 215,
   "metadata": {},
   "outputs": [
    {
     "data": {
      "text/html": [
       "<div>\n",
       "<style scoped>\n",
       "    .dataframe tbody tr th:only-of-type {\n",
       "        vertical-align: middle;\n",
       "    }\n",
       "\n",
       "    .dataframe tbody tr th {\n",
       "        vertical-align: top;\n",
       "    }\n",
       "\n",
       "    .dataframe thead th {\n",
       "        text-align: right;\n",
       "    }\n",
       "</style>\n",
       "<table border=\"1\" class=\"dataframe\">\n",
       "  <thead>\n",
       "    <tr style=\"text-align: right;\">\n",
       "      <th>atraso_15</th>\n",
       "      <th>0</th>\n",
       "      <th>1</th>\n",
       "    </tr>\n",
       "    <tr>\n",
       "      <th>SIGLADES</th>\n",
       "      <th></th>\n",
       "      <th></th>\n",
       "    </tr>\n",
       "  </thead>\n",
       "  <tbody>\n",
       "    <tr>\n",
       "      <th>Antofagasta</th>\n",
       "      <td>85.361217</td>\n",
       "      <td>14.638783</td>\n",
       "    </tr>\n",
       "    <tr>\n",
       "      <th>Arica</th>\n",
       "      <td>86.453202</td>\n",
       "      <td>13.546798</td>\n",
       "    </tr>\n",
       "    <tr>\n",
       "      <th>Asuncion</th>\n",
       "      <td>71.551724</td>\n",
       "      <td>28.448276</td>\n",
       "    </tr>\n",
       "    <tr>\n",
       "      <th>Atlanta</th>\n",
       "      <td>94.134078</td>\n",
       "      <td>5.865922</td>\n",
       "    </tr>\n",
       "    <tr>\n",
       "      <th>Auckland N.Z.</th>\n",
       "      <td>62.603878</td>\n",
       "      <td>37.396122</td>\n",
       "    </tr>\n",
       "    <tr>\n",
       "      <th>...</th>\n",
       "      <td>...</td>\n",
       "      <td>...</td>\n",
       "    </tr>\n",
       "    <tr>\n",
       "      <th>Toronto</th>\n",
       "      <td>68.551237</td>\n",
       "      <td>31.448763</td>\n",
       "    </tr>\n",
       "    <tr>\n",
       "      <th>Tucuman</th>\n",
       "      <td>73.684211</td>\n",
       "      <td>26.315789</td>\n",
       "    </tr>\n",
       "    <tr>\n",
       "      <th>Ushuia</th>\n",
       "      <td>33.333333</td>\n",
       "      <td>66.666667</td>\n",
       "    </tr>\n",
       "    <tr>\n",
       "      <th>Valdivia</th>\n",
       "      <td>84.462151</td>\n",
       "      <td>15.537849</td>\n",
       "    </tr>\n",
       "    <tr>\n",
       "      <th>Washington</th>\n",
       "      <td>100.000000</td>\n",
       "      <td>0.000000</td>\n",
       "    </tr>\n",
       "  </tbody>\n",
       "</table>\n",
       "<p>62 rows × 2 columns</p>\n",
       "</div>"
      ],
      "text/plain": [
       "atraso_15               0          1\n",
       "SIGLADES                            \n",
       "Antofagasta     85.361217  14.638783\n",
       "Arica           86.453202  13.546798\n",
       "Asuncion        71.551724  28.448276\n",
       "Atlanta         94.134078   5.865922\n",
       "Auckland N.Z.   62.603878  37.396122\n",
       "...                   ...        ...\n",
       "Toronto         68.551237  31.448763\n",
       "Tucuman         73.684211  26.315789\n",
       "Ushuia          33.333333  66.666667\n",
       "Valdivia        84.462151  15.537849\n",
       "Washington     100.000000   0.000000\n",
       "\n",
       "[62 rows x 2 columns]"
      ]
     },
     "execution_count": 215,
     "metadata": {},
     "output_type": "execute_result"
    }
   ],
   "source": [
    "100*pd.crosstab(data.SIGLADES,data.atraso_15,normalize = 'index')"
   ]
  },
  {
   "cell_type": "markdown",
   "metadata": {},
   "source": [
    "### Tasa de atraso por aerolinea"
   ]
  },
  {
   "cell_type": "code",
   "execution_count": null,
   "metadata": {},
   "outputs": [],
   "source": [
    "#Plus Ultra Lineas Aereas tiene la mayor tasa de atraso y es el triple que la media (61.2% vs 18.5% la media).\n",
    "#Aeromexico tiene controlado los atrasos, es la aerolínea que tiene la menor tasa de atraso (2.8% vs 18.5% la media).\n",
    "\n",
    "#Grupo LATAM está casi cerca a la media (17.9% vs 18.5% la media).\n",
    "\n",
    "#Esta variable no ayudará a predecir los atrasos, pues es una variable que hace referencia a la reprogramación del vuelo \n",
    "#y al momento de la réplica del modelo no se encontrará disponible.\n",
    "\n",
    "#En la parte b. Se usará la aerolínea haciendo uso de Emp-I."
   ]
  },
  {
   "cell_type": "code",
   "execution_count": 214,
   "metadata": {},
   "outputs": [
    {
     "data": {
      "text/html": [
       "<div>\n",
       "<style scoped>\n",
       "    .dataframe tbody tr th:only-of-type {\n",
       "        vertical-align: middle;\n",
       "    }\n",
       "\n",
       "    .dataframe tbody tr th {\n",
       "        vertical-align: top;\n",
       "    }\n",
       "\n",
       "    .dataframe thead th {\n",
       "        text-align: right;\n",
       "    }\n",
       "</style>\n",
       "<table border=\"1\" class=\"dataframe\">\n",
       "  <thead>\n",
       "    <tr style=\"text-align: right;\">\n",
       "      <th>atraso_15</th>\n",
       "      <th>0</th>\n",
       "      <th>1</th>\n",
       "    </tr>\n",
       "    <tr>\n",
       "      <th>OPERA</th>\n",
       "      <th></th>\n",
       "      <th></th>\n",
       "    </tr>\n",
       "  </thead>\n",
       "  <tbody>\n",
       "    <tr>\n",
       "      <th>Aerolineas Argentinas</th>\n",
       "      <td>75.987686</td>\n",
       "      <td>24.012314</td>\n",
       "    </tr>\n",
       "    <tr>\n",
       "      <th>Aeromexico</th>\n",
       "      <td>97.150997</td>\n",
       "      <td>2.849003</td>\n",
       "    </tr>\n",
       "    <tr>\n",
       "      <th>Air Canada</th>\n",
       "      <td>54.336283</td>\n",
       "      <td>45.663717</td>\n",
       "    </tr>\n",
       "    <tr>\n",
       "      <th>Air France</th>\n",
       "      <td>91.620112</td>\n",
       "      <td>8.379888</td>\n",
       "    </tr>\n",
       "    <tr>\n",
       "      <th>Alitalia</th>\n",
       "      <td>88.803089</td>\n",
       "      <td>11.196911</td>\n",
       "    </tr>\n",
       "    <tr>\n",
       "      <th>American Airlines</th>\n",
       "      <td>93.262880</td>\n",
       "      <td>6.737120</td>\n",
       "    </tr>\n",
       "    <tr>\n",
       "      <th>Austral</th>\n",
       "      <td>79.729730</td>\n",
       "      <td>20.270270</td>\n",
       "    </tr>\n",
       "    <tr>\n",
       "      <th>Avianca</th>\n",
       "      <td>73.437500</td>\n",
       "      <td>26.562500</td>\n",
       "    </tr>\n",
       "    <tr>\n",
       "      <th>British Airways</th>\n",
       "      <td>85.853659</td>\n",
       "      <td>14.146341</td>\n",
       "    </tr>\n",
       "    <tr>\n",
       "      <th>Copa Air</th>\n",
       "      <td>93.729730</td>\n",
       "      <td>6.270270</td>\n",
       "    </tr>\n",
       "    <tr>\n",
       "      <th>Delta Air</th>\n",
       "      <td>94.134078</td>\n",
       "      <td>5.865922</td>\n",
       "    </tr>\n",
       "    <tr>\n",
       "      <th>Gol Trans</th>\n",
       "      <td>64.392060</td>\n",
       "      <td>35.607940</td>\n",
       "    </tr>\n",
       "    <tr>\n",
       "      <th>Grupo LATAM</th>\n",
       "      <td>82.133425</td>\n",
       "      <td>17.866575</td>\n",
       "    </tr>\n",
       "    <tr>\n",
       "      <th>Iberia</th>\n",
       "      <td>90.055249</td>\n",
       "      <td>9.944751</td>\n",
       "    </tr>\n",
       "    <tr>\n",
       "      <th>JetSmart SPA</th>\n",
       "      <td>82.100457</td>\n",
       "      <td>17.899543</td>\n",
       "    </tr>\n",
       "    <tr>\n",
       "      <th>K.L.M.</th>\n",
       "      <td>91.633466</td>\n",
       "      <td>8.366534</td>\n",
       "    </tr>\n",
       "    <tr>\n",
       "      <th>Lacsa</th>\n",
       "      <td>88.043478</td>\n",
       "      <td>11.956522</td>\n",
       "    </tr>\n",
       "    <tr>\n",
       "      <th>Latin American Wings</th>\n",
       "      <td>59.318996</td>\n",
       "      <td>40.681004</td>\n",
       "    </tr>\n",
       "    <tr>\n",
       "      <th>Oceanair Linhas Aereas</th>\n",
       "      <td>84.587814</td>\n",
       "      <td>15.412186</td>\n",
       "    </tr>\n",
       "    <tr>\n",
       "      <th>Plus Ultra Lineas Aereas</th>\n",
       "      <td>38.775510</td>\n",
       "      <td>61.224490</td>\n",
       "    </tr>\n",
       "    <tr>\n",
       "      <th>Qantas Airways</th>\n",
       "      <td>42.051282</td>\n",
       "      <td>57.948718</td>\n",
       "    </tr>\n",
       "    <tr>\n",
       "      <th>Sky Airline</th>\n",
       "      <td>82.235278</td>\n",
       "      <td>17.764722</td>\n",
       "    </tr>\n",
       "    <tr>\n",
       "      <th>United Airlines</th>\n",
       "      <td>94.925373</td>\n",
       "      <td>5.074627</td>\n",
       "    </tr>\n",
       "  </tbody>\n",
       "</table>\n",
       "</div>"
      ],
      "text/plain": [
       "atraso_15                         0          1\n",
       "OPERA                                         \n",
       "Aerolineas Argentinas     75.987686  24.012314\n",
       "Aeromexico                97.150997   2.849003\n",
       "Air Canada                54.336283  45.663717\n",
       "Air France                91.620112   8.379888\n",
       "Alitalia                  88.803089  11.196911\n",
       "American Airlines         93.262880   6.737120\n",
       "Austral                   79.729730  20.270270\n",
       "Avianca                   73.437500  26.562500\n",
       "British Airways           85.853659  14.146341\n",
       "Copa Air                  93.729730   6.270270\n",
       "Delta Air                 94.134078   5.865922\n",
       "Gol Trans                 64.392060  35.607940\n",
       "Grupo LATAM               82.133425  17.866575\n",
       "Iberia                    90.055249   9.944751\n",
       "JetSmart SPA              82.100457  17.899543\n",
       "K.L.M.                    91.633466   8.366534\n",
       "Lacsa                     88.043478  11.956522\n",
       "Latin American Wings      59.318996  40.681004\n",
       "Oceanair Linhas Aereas    84.587814  15.412186\n",
       "Plus Ultra Lineas Aereas  38.775510  61.224490\n",
       "Qantas Airways            42.051282  57.948718\n",
       "Sky Airline               82.235278  17.764722\n",
       "United Airlines           94.925373   5.074627"
      ]
     },
     "execution_count": 214,
     "metadata": {},
     "output_type": "execute_result"
    }
   ],
   "source": [
    "100*pd.crosstab(data.OPERA,data.atraso_15,normalize = 'index')"
   ]
  },
  {
   "cell_type": "markdown",
   "metadata": {},
   "source": [
    "### Tasa de atraso por mes del año"
   ]
  },
  {
   "cell_type": "code",
   "execution_count": null,
   "metadata": {},
   "outputs": [],
   "source": [
    "#La tasa de atraso es mayor en los meses de Julio (29.1% vs 18.5% la media) y Diciembre (25.4% vs 18.5% la media)\n",
    "#La tasa de atraso es menor en los meses dde Marzo (11.5% vs 18.5% la media) y Abril (11.7% vs 18.5% la media)\n",
    "\n",
    "#Esta variable no ayudará a predecir los atrasos, pues es una variable que hace referencia a la reprogramación del vuelo \n",
    "#y al momento de la réplica del modelo no se encontrará disponible.\n",
    "\n",
    "#En la parte b. se usará el mes del año haciendo uso de Fecha-I."
   ]
  },
  {
   "cell_type": "code",
   "execution_count": 211,
   "metadata": {
    "scrolled": true
   },
   "outputs": [
    {
     "data": {
      "text/html": [
       "<div>\n",
       "<style scoped>\n",
       "    .dataframe tbody tr th:only-of-type {\n",
       "        vertical-align: middle;\n",
       "    }\n",
       "\n",
       "    .dataframe tbody tr th {\n",
       "        vertical-align: top;\n",
       "    }\n",
       "\n",
       "    .dataframe thead th {\n",
       "        text-align: right;\n",
       "    }\n",
       "</style>\n",
       "<table border=\"1\" class=\"dataframe\">\n",
       "  <thead>\n",
       "    <tr style=\"text-align: right;\">\n",
       "      <th>MES</th>\n",
       "      <th>1</th>\n",
       "      <th>2</th>\n",
       "      <th>3</th>\n",
       "      <th>4</th>\n",
       "      <th>5</th>\n",
       "      <th>6</th>\n",
       "      <th>7</th>\n",
       "      <th>8</th>\n",
       "      <th>9</th>\n",
       "      <th>10</th>\n",
       "      <th>11</th>\n",
       "      <th>12</th>\n",
       "    </tr>\n",
       "    <tr>\n",
       "      <th>atraso_15</th>\n",
       "      <th></th>\n",
       "      <th></th>\n",
       "      <th></th>\n",
       "      <th></th>\n",
       "      <th></th>\n",
       "      <th></th>\n",
       "      <th></th>\n",
       "      <th></th>\n",
       "      <th></th>\n",
       "      <th></th>\n",
       "      <th></th>\n",
       "      <th></th>\n",
       "    </tr>\n",
       "  </thead>\n",
       "  <tbody>\n",
       "    <tr>\n",
       "      <th>0</th>\n",
       "      <td>83.988212</td>\n",
       "      <td>84.840856</td>\n",
       "      <td>88.489602</td>\n",
       "      <td>88.346614</td>\n",
       "      <td>84.217557</td>\n",
       "      <td>82.895001</td>\n",
       "      <td>70.660881</td>\n",
       "      <td>82.660167</td>\n",
       "      <td>82.762923</td>\n",
       "      <td>77.403846</td>\n",
       "      <td>80.279605</td>\n",
       "      <td>74.590938</td>\n",
       "    </tr>\n",
       "    <tr>\n",
       "      <th>1</th>\n",
       "      <td>16.011788</td>\n",
       "      <td>15.159144</td>\n",
       "      <td>11.510398</td>\n",
       "      <td>11.653386</td>\n",
       "      <td>15.782443</td>\n",
       "      <td>17.104999</td>\n",
       "      <td>29.339119</td>\n",
       "      <td>17.339833</td>\n",
       "      <td>17.237077</td>\n",
       "      <td>22.596154</td>\n",
       "      <td>19.720395</td>\n",
       "      <td>25.409062</td>\n",
       "    </tr>\n",
       "  </tbody>\n",
       "</table>\n",
       "</div>"
      ],
      "text/plain": [
       "MES               1          2          3          4          5          6   \\\n",
       "atraso_15                                                                     \n",
       "0          83.988212  84.840856  88.489602  88.346614  84.217557  82.895001   \n",
       "1          16.011788  15.159144  11.510398  11.653386  15.782443  17.104999   \n",
       "\n",
       "MES               7          8          9          10         11         12  \n",
       "atraso_15                                                                    \n",
       "0          70.660881  82.660167  82.762923  77.403846  80.279605  74.590938  \n",
       "1          29.339119  17.339833  17.237077  22.596154  19.720395  25.409062  "
      ]
     },
     "execution_count": 211,
     "metadata": {},
     "output_type": "execute_result"
    }
   ],
   "source": [
    "100*pd.crosstab(data.atraso_15,data.MES,normalize = 'columns')"
   ]
  },
  {
   "cell_type": "markdown",
   "metadata": {},
   "source": [
    "### Tasa de atraso por día de la semana"
   ]
  },
  {
   "cell_type": "code",
   "execution_count": null,
   "metadata": {},
   "outputs": [],
   "source": [
    "#La tasa de atraso es mayor lo viernes (22.2%) y menor los días domingos (16.1%)\n",
    "\n",
    "#Esta variable no ayudará a predecir los atrasos, pues es una variable que hace referencia a la reprogramación del vuelo \n",
    "#y al momento de la réplica del modelo no se encontrará disponible.\n",
    "\n",
    "#En la parte b. se usará el día de la semana haciendo uso de Fecha-I."
   ]
  },
  {
   "cell_type": "code",
   "execution_count": 210,
   "metadata": {},
   "outputs": [
    {
     "data": {
      "text/html": [
       "<div>\n",
       "<style scoped>\n",
       "    .dataframe tbody tr th:only-of-type {\n",
       "        vertical-align: middle;\n",
       "    }\n",
       "\n",
       "    .dataframe tbody tr th {\n",
       "        vertical-align: top;\n",
       "    }\n",
       "\n",
       "    .dataframe thead th {\n",
       "        text-align: right;\n",
       "    }\n",
       "</style>\n",
       "<table border=\"1\" class=\"dataframe\">\n",
       "  <thead>\n",
       "    <tr style=\"text-align: right;\">\n",
       "      <th>DIANOM</th>\n",
       "      <th>Domingo</th>\n",
       "      <th>Jueves</th>\n",
       "      <th>Lunes</th>\n",
       "      <th>Martes</th>\n",
       "      <th>Miercoles</th>\n",
       "      <th>Sabado</th>\n",
       "      <th>Viernes</th>\n",
       "    </tr>\n",
       "    <tr>\n",
       "      <th>atraso_15</th>\n",
       "      <th></th>\n",
       "      <th></th>\n",
       "      <th></th>\n",
       "      <th></th>\n",
       "      <th></th>\n",
       "      <th></th>\n",
       "      <th></th>\n",
       "    </tr>\n",
       "  </thead>\n",
       "  <tbody>\n",
       "    <tr>\n",
       "      <th>0</th>\n",
       "      <td>83.891384</td>\n",
       "      <td>80.050727</td>\n",
       "      <td>79.784819</td>\n",
       "      <td>83.088387</td>\n",
       "      <td>82.915038</td>\n",
       "      <td>83.680556</td>\n",
       "      <td>77.79829</td>\n",
       "    </tr>\n",
       "    <tr>\n",
       "      <th>1</th>\n",
       "      <td>16.108616</td>\n",
       "      <td>19.949273</td>\n",
       "      <td>20.215181</td>\n",
       "      <td>16.911613</td>\n",
       "      <td>17.084962</td>\n",
       "      <td>16.319444</td>\n",
       "      <td>22.20171</td>\n",
       "    </tr>\n",
       "  </tbody>\n",
       "</table>\n",
       "</div>"
      ],
      "text/plain": [
       "DIANOM       Domingo     Jueves      Lunes     Martes  Miercoles     Sabado  \\\n",
       "atraso_15                                                                     \n",
       "0          83.891384  80.050727  79.784819  83.088387  82.915038  83.680556   \n",
       "1          16.108616  19.949273  20.215181  16.911613  17.084962  16.319444   \n",
       "\n",
       "DIANOM      Viernes  \n",
       "atraso_15            \n",
       "0          77.79829  \n",
       "1          22.20171  "
      ]
     },
     "execution_count": 210,
     "metadata": {},
     "output_type": "execute_result"
    }
   ],
   "source": [
    "100*pd.crosstab(data.atraso_15,data.DIANOM,normalize = 'columns')"
   ]
  },
  {
   "cell_type": "markdown",
   "metadata": {},
   "source": [
    "### Tasa de atraso por temporada"
   ]
  },
  {
   "cell_type": "code",
   "execution_count": null,
   "metadata": {},
   "outputs": [],
   "source": [
    "#La tasa de atraso aumenta 2 puntos porcentuales en temporada alta (19.6% vs 17.2% y 19.6% vs 18.5% la media).\n",
    "#Al existir diferencia entre las temporadas y además entre la media, es posible que la variable temporada_alta\n",
    "#ayude a predecir los atrasos."
   ]
  },
  {
   "cell_type": "code",
   "execution_count": 208,
   "metadata": {},
   "outputs": [
    {
     "data": {
      "text/html": [
       "<div>\n",
       "<style scoped>\n",
       "    .dataframe tbody tr th:only-of-type {\n",
       "        vertical-align: middle;\n",
       "    }\n",
       "\n",
       "    .dataframe tbody tr th {\n",
       "        vertical-align: top;\n",
       "    }\n",
       "\n",
       "    .dataframe thead th {\n",
       "        text-align: right;\n",
       "    }\n",
       "</style>\n",
       "<table border=\"1\" class=\"dataframe\">\n",
       "  <thead>\n",
       "    <tr style=\"text-align: right;\">\n",
       "      <th>temporada_alta</th>\n",
       "      <th>0</th>\n",
       "      <th>1</th>\n",
       "    </tr>\n",
       "    <tr>\n",
       "      <th>atraso_15</th>\n",
       "      <th></th>\n",
       "      <th></th>\n",
       "    </tr>\n",
       "  </thead>\n",
       "  <tbody>\n",
       "    <tr>\n",
       "      <th>0</th>\n",
       "      <td>82.079042</td>\n",
       "      <td>80.362007</td>\n",
       "    </tr>\n",
       "    <tr>\n",
       "      <th>1</th>\n",
       "      <td>17.920958</td>\n",
       "      <td>19.637993</td>\n",
       "    </tr>\n",
       "  </tbody>\n",
       "</table>\n",
       "</div>"
      ],
      "text/plain": [
       "temporada_alta          0          1\n",
       "atraso_15                           \n",
       "0               82.079042  80.362007\n",
       "1               17.920958  19.637993"
      ]
     },
     "execution_count": 208,
     "metadata": {},
     "output_type": "execute_result"
    }
   ],
   "source": [
    "100*pd.crosstab(data.atraso_15,data.temporada_alta,normalize = 'columns')"
   ]
  },
  {
   "cell_type": "code",
   "execution_count": null,
   "metadata": {},
   "outputs": [],
   "source": [
    "#A continuación se detalla un mayor análisis para determinar si existe o no existe dependencia entre las variables."
   ]
  },
  {
   "cell_type": "code",
   "execution_count": null,
   "metadata": {},
   "outputs": [],
   "source": [
    "#Se inicia con un gráfico de barras al 100% apilado.\n",
    "#Se puede apreciar que la proporción de vuelos en temporada alta ligeramente aumentan cuando es un vuelo con atraso\n",
    "#que cuando no lo es, es decir aparentemente los vuelos de temporada alta tienen una mayor probabilidad de tener atraso\n",
    "#que los vuelos de temporada baja."
   ]
  },
  {
   "cell_type": "code",
   "execution_count": 216,
   "metadata": {},
   "outputs": [
    {
     "name": "stdout",
     "output_type": "stream",
     "text": [
      "temporada_alta      0      1\n",
      "atraso_15                   \n",
      "0               37300  18292\n",
      "1                8144   4470\n"
     ]
    },
    {
     "data": {
      "image/png": "[encoded data removed]",
      "text/plain": [
       "<Figure size 288x288 with 1 Axes>"
      ]
     },
     "metadata": {
      "needs_background": "light"
     },
     "output_type": "display_data"
    }
   ],
   "source": [
    "print(pd.crosstab(data[\"atraso_15\"],data[\"temporada_alta\"]))\n",
    "temp = pd.crosstab(data[\"atraso_15\"],data[\"temporada_alta\"])\n",
    "temp.div(temp.sum(1).astype(float),axis=0).plot(kind=\"bar\",stacked=True,figsize=(4,4))\n",
    "plt.xlabel(\"atraso_15\")\n",
    "plt.ylabel(\"Percentage\")\n",
    "plt.show()"
   ]
  },
  {
   "cell_type": "code",
   "execution_count": null,
   "metadata": {},
   "outputs": [],
   "source": [
    "#Prueba Chi-Cuadrado\n",
    "\n",
    "#Para tener una conclusión analítica, se usará la prueba chi-cuadrado.\n",
    "\n",
    "#Ho: no existe dependencia entre las variables atraso_15 y temporada_alta.\n",
    "#Ha: existe dependencia entre las variables atraso_15 y temporada_alta.\n",
    "\n",
    "#Si pvalor < 5% => Se rechaza Ho, al 95% de confianza, existe dependencia entre las variables atraso_15 y temporada_alta.\n",
    "#Si pvalor > 5% => No se rechaza Ho, al 95% de confianza, no existe dependencia entre las variables atraso_15 y temporada_alta.\n",
    "\n",
    "#Como el pvalor es menor al 5%, Se rechaza Ho, se puede concluir que al 95% de confianza, existe dependencia entre \n",
    "#las variables atraso_15 y temporada_alta, por lo que la variable temporada_alta puede ayudar a predecir los atrasos."
   ]
  },
  {
   "cell_type": "code",
   "execution_count": 217,
   "metadata": {},
   "outputs": [
    {
     "name": "stdout",
     "output_type": "stream",
     "text": [
      "5.453840889095656e-08\n"
     ]
    }
   ],
   "source": [
    "contigencia = pd.crosstab(data['atraso_15'], data['temporada_alta']) \n",
    "c, p, dof, expected = chi2_contingency(contigencia) \n",
    "print(p)"
   ]
  },
  {
   "cell_type": "markdown",
   "metadata": {},
   "source": [
    "### Tasa de atraso por tipo de vuelo"
   ]
  },
  {
   "cell_type": "code",
   "execution_count": null,
   "metadata": {},
   "outputs": [],
   "source": [
    "#La tasa de atraso es mayor en vuelos internacionales que en nacionales (22.6% vs 15.1%) y superior a la media\n",
    "#(22.6% vs 18.5% la media)\n",
    "\n",
    "#Al existir diferencia entre los tipos de vuelos y además entre la media, es posible que la variable TIPOVUELO\n",
    "#ayude a predecir los atrasos."
   ]
  },
  {
   "cell_type": "code",
   "execution_count": 209,
   "metadata": {},
   "outputs": [
    {
     "data": {
      "text/html": [
       "<div>\n",
       "<style scoped>\n",
       "    .dataframe tbody tr th:only-of-type {\n",
       "        vertical-align: middle;\n",
       "    }\n",
       "\n",
       "    .dataframe tbody tr th {\n",
       "        vertical-align: top;\n",
       "    }\n",
       "\n",
       "    .dataframe thead th {\n",
       "        text-align: right;\n",
       "    }\n",
       "</style>\n",
       "<table border=\"1\" class=\"dataframe\">\n",
       "  <thead>\n",
       "    <tr style=\"text-align: right;\">\n",
       "      <th>TIPOVUELO</th>\n",
       "      <th>I</th>\n",
       "      <th>N</th>\n",
       "    </tr>\n",
       "    <tr>\n",
       "      <th>atraso_15</th>\n",
       "      <th></th>\n",
       "      <th></th>\n",
       "    </tr>\n",
       "  </thead>\n",
       "  <tbody>\n",
       "    <tr>\n",
       "      <th>0</th>\n",
       "      <td>77.439181</td>\n",
       "      <td>84.942921</td>\n",
       "    </tr>\n",
       "    <tr>\n",
       "      <th>1</th>\n",
       "      <td>22.560819</td>\n",
       "      <td>15.057079</td>\n",
       "    </tr>\n",
       "  </tbody>\n",
       "</table>\n",
       "</div>"
      ],
      "text/plain": [
       "TIPOVUELO          I          N\n",
       "atraso_15                      \n",
       "0          77.439181  84.942921\n",
       "1          22.560819  15.057079"
      ]
     },
     "execution_count": 209,
     "metadata": {},
     "output_type": "execute_result"
    }
   ],
   "source": [
    "100*pd.crosstab(data.atraso_15,data.TIPOVUELO,normalize = 'columns')"
   ]
  },
  {
   "cell_type": "code",
   "execution_count": null,
   "metadata": {},
   "outputs": [],
   "source": [
    "#A continuación se detalla un mayor análisis para determinar si existe o no existe dependencia entre las variables."
   ]
  },
  {
   "cell_type": "code",
   "execution_count": null,
   "metadata": {},
   "outputs": [],
   "source": [
    "#Se inicia con un gráfico de barras al 100% apilado.\n",
    "#Se puede apreciar que la proporción de vuelos internacionales aumentan cuando es un vuelo con atraso\n",
    "#que cuando no lo es, es decir aparentemente los vuelos internacionales tienen una mayor probabilidad de tener atraso\n",
    "#que los vuelos nacionales."
   ]
  },
  {
   "cell_type": "code",
   "execution_count": 218,
   "metadata": {},
   "outputs": [
    {
     "name": "stdout",
     "output_type": "stream",
     "text": [
      "TIPOVUELO      I      N\n",
      "atraso_15              \n",
      "0          24192  31400\n",
      "1           7048   5566\n"
     ]
    },
    {
     "data": {
      "image/png": "[encoded data removed]",
      "text/plain": [
       "<Figure size 288x288 with 1 Axes>"
      ]
     },
     "metadata": {
      "needs_background": "light"
     },
     "output_type": "display_data"
    }
   ],
   "source": [
    "print(pd.crosstab(data[\"atraso_15\"],data[\"TIPOVUELO\"]))\n",
    "temp = pd.crosstab(data[\"atraso_15\"],data[\"TIPOVUELO\"])\n",
    "temp.div(temp.sum(1).astype(float),axis=0).plot(kind=\"bar\",stacked=True,figsize=(4,4))\n",
    "plt.xlabel(\"atraso_15\")\n",
    "plt.ylabel(\"Percentage\")\n",
    "plt.show()"
   ]
  },
  {
   "cell_type": "code",
   "execution_count": null,
   "metadata": {},
   "outputs": [],
   "source": [
    "#Prueba Chi-Cuadrado\n",
    "\n",
    "#Para tener una conclusión analítica, se usará la prueba chi-cuadrado.\n",
    "\n",
    "#Ho: no existe dependencia entre las variables atraso_15 y TIPOVUELO.\n",
    "#Ha: existe dependencia entre las variables atraso_15 y TIPOVUELO.\n",
    "\n",
    "#Si pvalor < 5% => Se rechaza Ho, al 95% de confianza, existe dependencia entre las variables atraso_15 y TIPOVUELO.\n",
    "#Si pvalor > 5% => No se rechaza Ho, al 95% de confianza, no existe dependencia entre las variables atraso_15 y TIPOVUELO.\n",
    "\n",
    "#Como el pvalor es menor al 5%, Se rechaza Ho, se puede concluir que al 95% de confianza, existe dependencia entre \n",
    "#las variables atraso_15 y TIPOVUELO, por lo que la variable TIPOVUELO puede ayudar a predecir los atrasos."
   ]
  },
  {
   "cell_type": "code",
   "execution_count": 219,
   "metadata": {},
   "outputs": [
    {
     "name": "stdout",
     "output_type": "stream",
     "text": [
      "1.8798465447629107e-139\n"
     ]
    }
   ],
   "source": [
    "contigencia = pd.crosstab(data['atraso_15'], data['TIPOVUELO']) \n",
    "c, p, dof, expected = chi2_contingency(contigencia) \n",
    "print(p)"
   ]
  },
  {
   "cell_type": "markdown",
   "metadata": {},
   "source": [
    "### Conclusión"
   ]
  },
  {
   "cell_type": "markdown",
   "metadata": {},
   "source": [
    "Las variables que se esperaría puedan influir en predecir los atraso son: temporada_alta y TIPOVUELO"
   ]
  },
  {
   "cell_type": "markdown",
   "metadata": {},
   "source": [
    "### b. Generación de nuevas variables"
   ]
  },
  {
   "cell_type": "markdown",
   "metadata": {},
   "source": [
    "### periodo_minutonum (en base a Fecha-I)\n",
    "Es el minuto durante la hora, desde 0 a 59"
   ]
  },
  {
   "cell_type": "code",
   "execution_count": 222,
   "metadata": {},
   "outputs": [
    {
     "data": {
      "text/plain": [
       "0     7853\n",
       "30    6927\n",
       "45    5137\n",
       "10    5124\n",
       "15    4932\n",
       "20    4769\n",
       "40    4583\n",
       "50    4348\n",
       "25    4286\n",
       "35    4245\n",
       "55    3768\n",
       "5     3328\n",
       "16     516\n",
       "14     383\n",
       "12     376\n",
       "53     375\n",
       "41     322\n",
       "2      319\n",
       "33     304\n",
       "36     290\n",
       "27     279\n",
       "32     263\n",
       "4      243\n",
       "21     227\n",
       "51     212\n",
       "42     198\n",
       "7      197\n",
       "17     190\n",
       "37     177\n",
       "31     174\n",
       "18     170\n",
       "8      169\n",
       "23     166\n",
       "24     164\n",
       "49     159\n",
       "52     157\n",
       "26     155\n",
       "59     148\n",
       "38     148\n",
       "39     146\n",
       "34     145\n",
       "22     143\n",
       "47     142\n",
       "58     131\n",
       "9      129\n",
       "56     128\n",
       "11     127\n",
       "13     125\n",
       "6      124\n",
       "28     122\n",
       "57     115\n",
       "48     114\n",
       "1      109\n",
       "3      106\n",
       "54     102\n",
       "29     100\n",
       "44      96\n",
       "43      85\n",
       "46      77\n",
       "19      59\n",
       "Name: periodo_minutonum, dtype: int64"
      ]
     },
     "execution_count": 222,
     "metadata": {},
     "output_type": "execute_result"
    }
   ],
   "source": [
    "data['periodo_minutonum'] = data['Fecha-I'].dt.minute\n",
    "data['periodo_minutonum'].value_counts()"
   ]
  },
  {
   "cell_type": "code",
   "execution_count": null,
   "metadata": {},
   "outputs": [],
   "source": [
    "#A continuación se detalla un mayor análisis para determinar si existe o no existe dependencia entre las variables."
   ]
  },
  {
   "cell_type": "code",
   "execution_count": null,
   "metadata": {},
   "outputs": [],
   "source": [
    "#La mediana de los minutos de la hora de vuelo es similar en los vuelos con atraso (1) y sin atraso (0). "
   ]
  },
  {
   "cell_type": "code",
   "execution_count": 261,
   "metadata": {},
   "outputs": [
    {
     "data": {
      "image/png": "[encoded data removed]",
      "text/plain": [
       "<Figure size 432x288 with 1 Axes>"
      ]
     },
     "metadata": {
      "needs_background": "light"
     },
     "output_type": "display_data"
    }
   ],
   "source": [
    "sns.boxplot(x='atraso_15',y='periodo_minutonum',data=data)\n",
    "plt.show()"
   ]
  },
  {
   "cell_type": "markdown",
   "metadata": {},
   "source": [
    "### periodo_horanum (en base a Fecha-I)\n",
    "Es la hora durante el día, desde 0 a 23"
   ]
  },
  {
   "cell_type": "code",
   "execution_count": 226,
   "metadata": {},
   "outputs": [
    {
     "data": {
      "text/plain": [
       "7     4882\n",
       "8     4363\n",
       "6     4199\n",
       "18    4162\n",
       "15    3884\n",
       "14    3836\n",
       "13    3675\n",
       "11    3668\n",
       "19    3591\n",
       "17    3465\n",
       "12    3412\n",
       "9     3264\n",
       "16    3072\n",
       "20    2935\n",
       "5     2514\n",
       "10    2462\n",
       "22    2320\n",
       "21    2312\n",
       "1     1573\n",
       "23    1297\n",
       "4     1092\n",
       "0     1082\n",
       "2      641\n",
       "3      505\n",
       "Name: periodo_horanum, dtype: int64"
      ]
     },
     "execution_count": 226,
     "metadata": {},
     "output_type": "execute_result"
    }
   ],
   "source": [
    "data['periodo_horanum'] = data['Fecha-I'].dt.hour\n",
    "data['periodo_horanum'].value_counts()"
   ]
  },
  {
   "cell_type": "code",
   "execution_count": null,
   "metadata": {},
   "outputs": [],
   "source": [
    "#A continuación se detalla un mayor análisis para determinar si existe o no existe dependencia entre las variables."
   ]
  },
  {
   "cell_type": "code",
   "execution_count": null,
   "metadata": {},
   "outputs": [],
   "source": [
    "#La mediana de la hora de vuelo es mayor en los vuelos con atraso (1) frente a los vuelos sin atraso (0).\n",
    "#Es decir, aparentemente a mayor hora programada del vuelo, mayor probabilidad de tener atraso."
   ]
  },
  {
   "cell_type": "code",
   "execution_count": 262,
   "metadata": {},
   "outputs": [
    {
     "data": {
      "image/png": "[encoded data removed]",
      "text/plain": [
       "<Figure size 432x288 with 1 Axes>"
      ]
     },
     "metadata": {
      "needs_background": "light"
     },
     "output_type": "display_data"
    }
   ],
   "source": [
    "sns.boxplot(x='atraso_15',y='periodo_horanum',data=data)\n",
    "plt.show()"
   ]
  },
  {
   "cell_type": "markdown",
   "metadata": {},
   "source": [
    "### periodo_dianum (en base a Fecha-I)\n",
    "Es el número del día durante el mes, desde 1 a 31"
   ]
  },
  {
   "cell_type": "code",
   "execution_count": 240,
   "metadata": {},
   "outputs": [
    {
     "data": {
      "text/plain": [
       "20    2301\n",
       "12    2290\n",
       "10    2289\n",
       "27    2288\n",
       "6     2278\n",
       "13    2274\n",
       "3     2272\n",
       "22    2268\n",
       "23    2266\n",
       "16    2264\n",
       "26    2262\n",
       "21    2258\n",
       "7     2256\n",
       "15    2243\n",
       "5     2242\n",
       "19    2238\n",
       "24    2237\n",
       "17    2232\n",
       "28    2232\n",
       "11    2229\n",
       "2     2224\n",
       "9     2222\n",
       "8     2217\n",
       "14    2215\n",
       "4     2215\n",
       "1     2209\n",
       "25    2174\n",
       "18    2156\n",
       "29    2046\n",
       "30    2017\n",
       "31    1292\n",
       "Name: periodo_dianum, dtype: int64"
      ]
     },
     "execution_count": 240,
     "metadata": {},
     "output_type": "execute_result"
    }
   ],
   "source": [
    "data['periodo_dianum'] = data['Fecha-I'].dt.day\n",
    "data['periodo_dianum'].value_counts()"
   ]
  },
  {
   "cell_type": "code",
   "execution_count": null,
   "metadata": {},
   "outputs": [],
   "source": [
    "#A continuación se detalla un mayor análisis para determinar si existe o no existe dependencia entre las variables."
   ]
  },
  {
   "cell_type": "code",
   "execution_count": null,
   "metadata": {},
   "outputs": [],
   "source": [
    "#Ligeramente, se aprecia que la mediana del día de vuelo es menor en los vuelos con atraso (1) que en los vuelos sin atraso (0).\n",
    "#Es decir, aparentemente a menor día durante el mes programada del vuelo, mayor probabilidad de tener atraso.\n",
    "#Días después de la quincena tienen menor probabilidad de tener vuelos con atraso."
   ]
  },
  {
   "cell_type": "code",
   "execution_count": 263,
   "metadata": {},
   "outputs": [
    {
     "data": {
      "image/png": "[encoded data removed]",
      "text/plain": [
       "<Figure size 432x288 with 1 Axes>"
      ]
     },
     "metadata": {
      "needs_background": "light"
     },
     "output_type": "display_data"
    }
   ],
   "source": [
    "sns.boxplot(x='atraso_15',y='periodo_dianum',data=data)\n",
    "plt.show()"
   ]
  },
  {
   "cell_type": "markdown",
   "metadata": {},
   "source": [
    "### periodo_mesnum (en base a Fecha-I)\n",
    "Es el mes durante el año, desde 1 a 12"
   ]
  },
  {
   "cell_type": "code",
   "execution_count": 233,
   "metadata": {},
   "outputs": [
    {
     "data": {
      "text/plain": [
       "12    6357\n",
       "1     6108\n",
       "11    6081\n",
       "10    6032\n",
       "7     5991\n",
       "8     5744\n",
       "9     5610\n",
       "2     5561\n",
       "3     5480\n",
       "5     5239\n",
       "4     5021\n",
       "6     4982\n",
       "Name: periodo_mesnum, dtype: int64"
      ]
     },
     "execution_count": 233,
     "metadata": {},
     "output_type": "execute_result"
    }
   ],
   "source": [
    "data['periodo_mesnum'] = data['Fecha-I'].dt.month\n",
    "data['periodo_mesnum'].value_counts()"
   ]
  },
  {
   "cell_type": "code",
   "execution_count": null,
   "metadata": {},
   "outputs": [],
   "source": [
    "#A continuación se detalla un mayor análisis para determinar si existe o no existe dependencia entre las variables."
   ]
  },
  {
   "cell_type": "code",
   "execution_count": null,
   "metadata": {},
   "outputs": [],
   "source": [
    "#La mediana del mes de vuelo es similar en los vuelos con atraso (1) y sin atraso (0). "
   ]
  },
  {
   "cell_type": "code",
   "execution_count": 264,
   "metadata": {},
   "outputs": [
    {
     "data": {
      "image/png": "[encoded data removed]",
      "text/plain": [
       "<Figure size 432x288 with 1 Axes>"
      ]
     },
     "metadata": {
      "needs_background": "light"
     },
     "output_type": "display_data"
    }
   ],
   "source": [
    "sns.boxplot(x='atraso_15',y='periodo_mesnum',data=data)\n",
    "plt.show()"
   ]
  },
  {
   "cell_type": "markdown",
   "metadata": {},
   "source": [
    "### periodo_semananum (en base a Fecha-I)\n",
    "Es el número de la semana durante el año, desde 1 a 52"
   ]
  },
  {
   "cell_type": "code",
   "execution_count": 236,
   "metadata": {},
   "outputs": [
    {
     "name": "stderr",
     "output_type": "stream",
     "text": [
      "<ipython-input-236-e4cc57d50824>:1: FutureWarning: Series.dt.weekofyear and Series.dt.week have been deprecated.  Please use Series.dt.isocalendar().week instead.\n",
      "  data['periodo_semananum'] = data['Fecha-I'].dt.week\n"
     ]
    },
    {
     "data": {
      "text/plain": [
       "52    1582\n",
       "50    1470\n",
       "51    1451\n",
       "47    1448\n",
       "48    1440\n",
       "45    1429\n",
       "49    1426\n",
       "5     1410\n",
       "4     1409\n",
       "6     1403\n",
       "7     1395\n",
       "3     1391\n",
       "29    1386\n",
       "42    1383\n",
       "46    1382\n",
       "8     1381\n",
       "2     1379\n",
       "43    1374\n",
       "41    1369\n",
       "28    1362\n",
       "44    1360\n",
       "27    1356\n",
       "30    1355\n",
       "1     1354\n",
       "39    1343\n",
       "40    1331\n",
       "37    1320\n",
       "31    1319\n",
       "36    1311\n",
       "9     1304\n",
       "32    1304\n",
       "34    1296\n",
       "35    1291\n",
       "38    1289\n",
       "33    1277\n",
       "10    1244\n",
       "11    1221\n",
       "12    1214\n",
       "26    1204\n",
       "20    1198\n",
       "13    1190\n",
       "14    1189\n",
       "19    1185\n",
       "15    1185\n",
       "18    1184\n",
       "17    1180\n",
       "21    1171\n",
       "24    1161\n",
       "22    1160\n",
       "23    1156\n",
       "16    1151\n",
       "25    1133\n",
       "Name: periodo_semananum, dtype: int64"
      ]
     },
     "execution_count": 236,
     "metadata": {},
     "output_type": "execute_result"
    }
   ],
   "source": [
    "data['periodo_semananum'] = data['Fecha-I'].dt.week\n",
    "data['periodo_semananum'].value_counts()"
   ]
  },
  {
   "cell_type": "code",
   "execution_count": null,
   "metadata": {},
   "outputs": [],
   "source": [
    "#A continuación se detalla un mayor análisis para determinar si existe o no existe dependencia entre las variables."
   ]
  },
  {
   "cell_type": "code",
   "execution_count": null,
   "metadata": {},
   "outputs": [],
   "source": [
    "#La mediana de la semana del año programda del vuelo es mayor en los vuelos con atraso (1) que en los vuelos sin atraso (0).\n",
    "#Es decir, aparentemente a mayor semana programada del vuelo, mayor probabilidad de tener atraso."
   ]
  },
  {
   "cell_type": "code",
   "execution_count": 265,
   "metadata": {},
   "outputs": [
    {
     "data": {
      "image/png": "[encoded data removed]",
      "text/plain": [
       "<Figure size 432x288 with 1 Axes>"
      ]
     },
     "metadata": {
      "needs_background": "light"
     },
     "output_type": "display_data"
    }
   ],
   "source": [
    "sns.boxplot(x='atraso_15',y='periodo_semananum',data=data)\n",
    "plt.show()"
   ]
  },
  {
   "cell_type": "markdown",
   "metadata": {},
   "source": [
    "### periodo_dianom (en base a Fecha-I)\n",
    "Es el día de la semana, donde Lunes=0 y Domingo=6"
   ]
  },
  {
   "cell_type": "code",
   "execution_count": 243,
   "metadata": {},
   "outputs": [
    {
     "data": {
      "text/plain": [
       "4    10332\n",
       "3    10245\n",
       "0    10098\n",
       "6     9833\n",
       "2     9726\n",
       "1     9666\n",
       "5     8306\n",
       "Name: periodo_dianom, dtype: int64"
      ]
     },
     "execution_count": 243,
     "metadata": {},
     "output_type": "execute_result"
    }
   ],
   "source": [
    "data['periodo_dianom'] = data['Fecha-I'].dt.weekday\n",
    "data['periodo_dianom'].value_counts()"
   ]
  },
  {
   "cell_type": "code",
   "execution_count": null,
   "metadata": {},
   "outputs": [],
   "source": [
    "#A continuación se detalla un mayor análisis para determinar si existe o no existe dependencia entre las variables."
   ]
  },
  {
   "cell_type": "code",
   "execution_count": null,
   "metadata": {},
   "outputs": [],
   "source": [
    "#La tasa de atraso es mayor los viernes (22.3% vs 18.5% la media) y es menor los sábados (15.9% vs 18.5% la media).\n",
    "\n",
    "#Al existir diferencia entre los días de vuelos y además entre la media, es posible que la variable periodo_dianom\n",
    "#ayude a predecir los atrasos."
   ]
  },
  {
   "cell_type": "code",
   "execution_count": 267,
   "metadata": {},
   "outputs": [
    {
     "data": {
      "text/html": [
       "<div>\n",
       "<style scoped>\n",
       "    .dataframe tbody tr th:only-of-type {\n",
       "        vertical-align: middle;\n",
       "    }\n",
       "\n",
       "    .dataframe tbody tr th {\n",
       "        vertical-align: top;\n",
       "    }\n",
       "\n",
       "    .dataframe thead th {\n",
       "        text-align: right;\n",
       "    }\n",
       "</style>\n",
       "<table border=\"1\" class=\"dataframe\">\n",
       "  <thead>\n",
       "    <tr style=\"text-align: right;\">\n",
       "      <th>periodo_dianom</th>\n",
       "      <th>0</th>\n",
       "      <th>1</th>\n",
       "      <th>2</th>\n",
       "      <th>3</th>\n",
       "      <th>4</th>\n",
       "      <th>5</th>\n",
       "      <th>6</th>\n",
       "    </tr>\n",
       "    <tr>\n",
       "      <th>atraso_15</th>\n",
       "      <th></th>\n",
       "      <th></th>\n",
       "      <th></th>\n",
       "      <th></th>\n",
       "      <th></th>\n",
       "      <th></th>\n",
       "      <th></th>\n",
       "    </tr>\n",
       "  </thead>\n",
       "  <tbody>\n",
       "    <tr>\n",
       "      <th>0</th>\n",
       "      <td>79.887106</td>\n",
       "      <td>83.054004</td>\n",
       "      <td>82.829529</td>\n",
       "      <td>80.087848</td>\n",
       "      <td>77.651955</td>\n",
       "      <td>84.023597</td>\n",
       "      <td>83.738432</td>\n",
       "    </tr>\n",
       "    <tr>\n",
       "      <th>1</th>\n",
       "      <td>20.112894</td>\n",
       "      <td>16.945996</td>\n",
       "      <td>17.170471</td>\n",
       "      <td>19.912152</td>\n",
       "      <td>22.348045</td>\n",
       "      <td>15.976403</td>\n",
       "      <td>16.261568</td>\n",
       "    </tr>\n",
       "  </tbody>\n",
       "</table>\n",
       "</div>"
      ],
      "text/plain": [
       "periodo_dianom          0          1          2          3          4  \\\n",
       "atraso_15                                                               \n",
       "0               79.887106  83.054004  82.829529  80.087848  77.651955   \n",
       "1               20.112894  16.945996  17.170471  19.912152  22.348045   \n",
       "\n",
       "periodo_dianom          5          6  \n",
       "atraso_15                             \n",
       "0               84.023597  83.738432  \n",
       "1               15.976403  16.261568  "
      ]
     },
     "execution_count": 267,
     "metadata": {},
     "output_type": "execute_result"
    }
   ],
   "source": [
    "100*pd.crosstab(data.atraso_15,data.periodo_dianom,normalize = 'columns')"
   ]
  },
  {
   "cell_type": "code",
   "execution_count": null,
   "metadata": {},
   "outputs": [],
   "source": [
    "#Se inicia con un gráfico de barras al 100% apilado.\n",
    "#Se puede apreciar que la proporción de vuelos programados los días viernes aumentan cuando es un vuelo con atraso\n",
    "#que cuando no lo es, es decir aparentemente los vuelos programados los días viernes tienen una mayor probabilidad \n",
    "#de tener atraso que otros días."
   ]
  },
  {
   "cell_type": "code",
   "execution_count": 268,
   "metadata": {},
   "outputs": [
    {
     "name": "stdout",
     "output_type": "stream",
     "text": [
      "periodo_dianom     0     1     2     3     4     5     6\n",
      "atraso_15                                               \n",
      "0               8067  8028  8056  8205  8023  6979  8234\n",
      "1               2031  1638  1670  2040  2309  1327  1599\n"
     ]
    },
    {
     "data": {
      "image/png": "[encoded data removed]",
      "text/plain": [
       "<Figure size 288x288 with 1 Axes>"
      ]
     },
     "metadata": {
      "needs_background": "light"
     },
     "output_type": "display_data"
    }
   ],
   "source": [
    "print(pd.crosstab(data[\"atraso_15\"],data[\"periodo_dianom\"]))\n",
    "temp = pd.crosstab(data[\"atraso_15\"],data[\"periodo_dianom\"])\n",
    "temp.div(temp.sum(1).astype(float),axis=0).plot(kind=\"bar\",stacked=True,figsize=(4,4))\n",
    "plt.xlabel(\"atraso_15\")\n",
    "plt.ylabel(\"Percentage\")\n",
    "plt.show()"
   ]
  },
  {
   "cell_type": "code",
   "execution_count": null,
   "metadata": {},
   "outputs": [],
   "source": [
    "#Prueba Chi-Cuadrado\n",
    "\n",
    "#Para tener una conclusión analítica, se usará la prueba chi-cuadrado.\n",
    "\n",
    "#Ho: no existe dependencia entre las variables atraso_15 y periodo_dianom.\n",
    "#Ha: existe dependencia entre las variables atraso_15 y periodo_dianom.\n",
    "\n",
    "#Si pvalor < 5% => Se rechaza Ho, al 95% de confianza, existe dependencia entre las variables atraso_15 y periodo_dianom.\n",
    "#Si pvalor > 5% => No se rechaza Ho, al 95% de confianza, no existe dependencia entre las variables atraso_15 y periodo_dianom.\n",
    "\n",
    "#Como el pvalor es menor al 5%, Se rechaza Ho, se puede concluir que al 95% de confianza, existe dependencia entre \n",
    "#las variables atraso_15 y periodo_dianom, por lo que la variable periodo_dianom puede ayudar a predecir los atrasos."
   ]
  },
  {
   "cell_type": "code",
   "execution_count": 269,
   "metadata": {},
   "outputs": [
    {
     "name": "stdout",
     "output_type": "stream",
     "text": [
      "3.116653173519169e-46\n"
     ]
    }
   ],
   "source": [
    "contigencia = pd.crosstab(data['atraso_15'], data['periodo_dianom']) \n",
    "c, p, dof, expected = chi2_contingency(contigencia) \n",
    "print(p)"
   ]
  },
  {
   "cell_type": "markdown",
   "metadata": {},
   "source": [
    "### periodo_dianomagrupado (en base a Fecha-I y periodo_dianom)\n",
    "Es el día de la semana agrupado, donde (Lunes a Viernes)=1 y (Sábado y Domingo)=2"
   ]
  },
  {
   "cell_type": "code",
   "execution_count": 246,
   "metadata": {},
   "outputs": [
    {
     "data": {
      "text/plain": [
       "1    50067\n",
       "2    18139\n",
       "Name: periodo_dianomagrupado, dtype: int64"
      ]
     },
     "execution_count": 246,
     "metadata": {},
     "output_type": "execute_result"
    }
   ],
   "source": [
    "data['periodo_dianomagrupado'] = np.where((data['periodo_dianom'] == 5) | (data['periodo_dianom'] == 6) , 2, 1)\n",
    "data['periodo_dianomagrupado'].value_counts()"
   ]
  },
  {
   "cell_type": "code",
   "execution_count": null,
   "metadata": {},
   "outputs": [],
   "source": [
    "#A continuación se detalla un mayor análisis para determinar si existe o no existe dependencia entre las variables."
   ]
  },
  {
   "cell_type": "code",
   "execution_count": null,
   "metadata": {},
   "outputs": [],
   "source": [
    "#La tasa de atraso es mayor en la semana (19.4% vs 18.5% la media) y es menor los fines de semana (16.1% vs 18.5% la media).\n",
    "\n",
    "#Al existir diferencia entre los días de vuelos y además entre la media, es posible que la variable periodo_dianomagrupado\n",
    "#ayude a predecir los atrasos."
   ]
  },
  {
   "cell_type": "code",
   "execution_count": 270,
   "metadata": {},
   "outputs": [
    {
     "data": {
      "text/html": [
       "<div>\n",
       "<style scoped>\n",
       "    .dataframe tbody tr th:only-of-type {\n",
       "        vertical-align: middle;\n",
       "    }\n",
       "\n",
       "    .dataframe tbody tr th {\n",
       "        vertical-align: top;\n",
       "    }\n",
       "\n",
       "    .dataframe thead th {\n",
       "        text-align: right;\n",
       "    }\n",
       "</style>\n",
       "<table border=\"1\" class=\"dataframe\">\n",
       "  <thead>\n",
       "    <tr style=\"text-align: right;\">\n",
       "      <th>periodo_dianomagrupado</th>\n",
       "      <th>1</th>\n",
       "      <th>2</th>\n",
       "    </tr>\n",
       "    <tr>\n",
       "      <th>atraso_15</th>\n",
       "      <th></th>\n",
       "      <th></th>\n",
       "    </tr>\n",
       "  </thead>\n",
       "  <tbody>\n",
       "    <tr>\n",
       "      <th>0</th>\n",
       "      <td>80.649929</td>\n",
       "      <td>83.869012</td>\n",
       "    </tr>\n",
       "    <tr>\n",
       "      <th>1</th>\n",
       "      <td>19.350071</td>\n",
       "      <td>16.130988</td>\n",
       "    </tr>\n",
       "  </tbody>\n",
       "</table>\n",
       "</div>"
      ],
      "text/plain": [
       "periodo_dianomagrupado          1          2\n",
       "atraso_15                                   \n",
       "0                       80.649929  83.869012\n",
       "1                       19.350071  16.130988"
      ]
     },
     "execution_count": 270,
     "metadata": {},
     "output_type": "execute_result"
    }
   ],
   "source": [
    "100*pd.crosstab(data.atraso_15,data.periodo_dianomagrupado,normalize = 'columns')"
   ]
  },
  {
   "cell_type": "code",
   "execution_count": null,
   "metadata": {},
   "outputs": [],
   "source": [
    "#Se inicia con un gráfico de barras al 100% apilado.\n",
    "#Se puede apreciar que la proporción de vuelos programados los días de semana aumentan cuando es un vuelo con atraso\n",
    "#que cuando no lo es, es decir aparentemente los vuelos programados los días de semana tienen una mayor probabilidad \n",
    "#de tener atraso que los fines de semana."
   ]
  },
  {
   "cell_type": "code",
   "execution_count": 271,
   "metadata": {},
   "outputs": [
    {
     "name": "stdout",
     "output_type": "stream",
     "text": [
      "periodo_dianomagrupado      1      2\n",
      "atraso_15                           \n",
      "0                       40379  15213\n",
      "1                        9688   2926\n"
     ]
    },
    {
     "data": {
      "image/png": "[encoded data removed]",
      "text/plain": [
       "<Figure size 288x288 with 1 Axes>"
      ]
     },
     "metadata": {
      "needs_background": "light"
     },
     "output_type": "display_data"
    }
   ],
   "source": [
    "print(pd.crosstab(data[\"atraso_15\"],data[\"periodo_dianomagrupado\"]))\n",
    "temp = pd.crosstab(data[\"atraso_15\"],data[\"periodo_dianomagrupado\"])\n",
    "temp.div(temp.sum(1).astype(float),axis=0).plot(kind=\"bar\",stacked=True,figsize=(4,4))\n",
    "plt.xlabel(\"atraso_15\")\n",
    "plt.ylabel(\"Percentage\")\n",
    "plt.show()"
   ]
  },
  {
   "cell_type": "code",
   "execution_count": null,
   "metadata": {},
   "outputs": [],
   "source": [
    "#Prueba Chi-Cuadrado\n",
    "\n",
    "#Para tener una conclusión analítica, se usará la prueba chi-cuadrado.\n",
    "\n",
    "#Ho: no existe dependencia entre las variables atraso_15 y periodo_dianomagrupado.\n",
    "#Ha: existe dependencia entre las variables atraso_15 y periodo_dianomagrupado.\n",
    "\n",
    "#Si pvalor < 5% => Se rechaza Ho, al 95% de confianza, existe dependencia entre las variables atraso_15 y periodo_dianomagrupado.\n",
    "#Si pvalor > 5% => No se rechaza Ho, al 95% de confianza, no existe dependencia entre las variables atraso_15 y periodo_dianomagrupado.\n",
    "\n",
    "#Como el pvalor es menor al 5%, Se rechaza Ho, se puede concluir que al 95% de confianza, existe dependencia entre \n",
    "#las variables atraso_15 y periodo_dianomagrupado, por lo que la variable periodo_dianomagrupado puede ayudar a predecir los atrasos."
   ]
  },
  {
   "cell_type": "code",
   "execution_count": 272,
   "metadata": {},
   "outputs": [
    {
     "name": "stdout",
     "output_type": "stream",
     "text": [
      "1.2213038039654883e-21\n"
     ]
    }
   ],
   "source": [
    "contigencia = pd.crosstab(data['atraso_15'], data['periodo_dianomagrupado']) \n",
    "c, p, dof, expected = chi2_contingency(contigencia) \n",
    "print(p)"
   ]
  },
  {
   "cell_type": "markdown",
   "metadata": {},
   "source": [
    "### Des-I_descrip (en base a Des-I)\n",
    "La variable hace referencia al nombre de la ciudad de destino en base a Des-I.\n",
    "Para la creación de esta variable se usó la relación entre las variables Des-O y SIGLADES.\n",
    "Para los valores de la variable Des-I que no se identificaron, como SARI y SEQU, se usó el enlace\n",
    "https://es.wikipedia.org/wiki/Anexo:Destinos_de_LATAM_Airlines_Group\n",
    "para completar la información."
   ]
  },
  {
   "cell_type": "code",
   "execution_count": 249,
   "metadata": {},
   "outputs": [
    {
     "data": {
      "text/plain": [
       "Buenos Aires        6334\n",
       "Antofagasta         5787\n",
       "Lima                5270\n",
       "Calama              5145\n",
       "Puerto Montt        4357\n",
       "                    ... \n",
       "Bariloche              2\n",
       "Puerto Stanley         1\n",
       "Pisco, Peru            1\n",
       "Cochabamba             1\n",
       "Cataratas Iguacu       1\n",
       "Name: Des-I_descrip, Length: 61, dtype: int64"
      ]
     },
     "execution_count": 249,
     "metadata": {},
     "output_type": "execute_result"
    }
   ],
   "source": [
    "data['Des-I_descrip'] = data['Des-I'] \n",
    "aux = {'CYYZ' : 'Toronto',\n",
    "        'EGLL' : 'Londres',\n",
    "        'EGYP' : 'Puerto Stanley',\n",
    "        'KATL' : 'Atlanta',\n",
    "        'KDFW' : 'Dallas',\n",
    "        'KIAH' : 'Houston',\n",
    "        'KJFK' : 'Nueva York',\n",
    "        'KLAX' : 'Los Angeles',\n",
    "        'KMCO' : 'Orlando',\n",
    "        'KMIA' : 'Miami',\n",
    "        'LEMD' : 'Madrid',\n",
    "        'LFPG' : 'Paris',\n",
    "        'LIRF' : 'Roma',\n",
    "        'MDPC' : 'Punta Cana',\n",
    "        'MMMX' : 'Ciudad de Mexico',\n",
    "        'MMUN' : 'Cancun',\n",
    "        'MPTO' : 'Ciudad de Panama',\n",
    "        'NZAA' : 'Auckland N.Z.',\n",
    "        'SAAR' : 'Rosario',\n",
    "        'SABE' : 'Buenos Aires',\n",
    "        'SACO' : 'Cordoba',\n",
    "        'SAEZ' : 'Buenos Aires',\n",
    "        'SAME' : 'Mendoza',\n",
    "        'SANT' : 'Tucuman',\n",
    "        'SANU' : 'San Juan, Arg.',\n",
    "        'SARI' : 'Arica',\n",
    "        'SAWH' : 'Ushuia',\n",
    "        'SAZN' : 'Neuquen',\n",
    "        'SAZS' : 'Bariloche',\n",
    "        'SBCT' : 'Curitiba, Bra.',\n",
    "        'SBFI' : 'Cataratas Iguacu',\n",
    "        'SBFL' : 'Florianapolis',\n",
    "        'SBGL' : 'Rio de Janeiro',\n",
    "        'SBGR' : 'Sao Paulo',\n",
    "        'SCAR' : 'Arica',\n",
    "        'SCAT' : 'Copiapo',\n",
    "        'SCBA' : 'Balmaceda',\n",
    "        'SCCF' : 'Calama',\n",
    "        'SCCI' : 'Punta Arenas',\n",
    "        'SCDA' : 'Iquique',\n",
    "        'SCFA' : 'Antofagasta',\n",
    "        'SCIE' : 'Concepcion',\n",
    "        'SCIP' : 'Isla de Pascua',\n",
    "        'SCJO' : 'Osorno',\n",
    "        'SCNT' : 'Puerto Natales',\n",
    "        'SCPQ' : 'Castro (Chiloe)',\n",
    "        'SCQP' : 'Temuco',\n",
    "        'SCSE' : 'La Serena',\n",
    "        'SCTE' : 'Puerto Montt',\n",
    "        'SCVD' : 'Valdivia',\n",
    "        'SEGU' : 'Guayaquil',\n",
    "        'SEQM' : 'Quito',\n",
    "        'SEQU' : 'Quito',\n",
    "        'SGAS' : 'Asuncion',\n",
    "        'SKBO' : 'Bogota',\n",
    "        'SLCB' : 'Cochabamba',\n",
    "        'SLLP' : 'La Paz',\n",
    "        'SLVR' : 'Santa Cruz',\n",
    "        'SPJC' : 'Lima',\n",
    "        'SPSO' : 'Pisco, Peru',\n",
    "        'SULS' : 'Punta del Este',\n",
    "        'SUMU' : 'Montevideo',\n",
    "        'YMML' : 'Melbourne',\n",
    "        'YSSY' : 'Sydney'\n",
    "}\n",
    "data = data.replace({\"Des-I_descrip\": aux})\n",
    "data['Des-I_descrip'].value_counts()"
   ]
  },
  {
   "cell_type": "code",
   "execution_count": null,
   "metadata": {},
   "outputs": [],
   "source": [
    "#A continuación se detalla un mayor análisis para determinar si existe o no existe dependencia entre las variables."
   ]
  },
  {
   "cell_type": "code",
   "execution_count": null,
   "metadata": {},
   "outputs": [],
   "source": [
    "#Se puede apreciar que existe diferencia en la tasa de atraso de los vuelos según los diferentes destinos.\n",
    "\n",
    "#El destino a Atlanta tiene la menor tasa de atraso (5.9% vs 18.5% la media).\n",
    "#El destino a Ushuia tiene la mayor tasa de atraso, es el triple que la media (66.7% vs 18.5% la media).\n",
    "\n",
    "#Al existir diferencia entre los destinos y además entre la media, es posible que la variable Des-I_descrip\n",
    "#ayude a predecir los atrasos."
   ]
  },
  {
   "cell_type": "code",
   "execution_count": 277,
   "metadata": {},
   "outputs": [
    {
     "data": {
      "text/html": [
       "<div>\n",
       "<style scoped>\n",
       "    .dataframe tbody tr th:only-of-type {\n",
       "        vertical-align: middle;\n",
       "    }\n",
       "\n",
       "    .dataframe tbody tr th {\n",
       "        vertical-align: top;\n",
       "    }\n",
       "\n",
       "    .dataframe thead th {\n",
       "        text-align: right;\n",
       "    }\n",
       "</style>\n",
       "<table border=\"1\" class=\"dataframe\">\n",
       "  <thead>\n",
       "    <tr style=\"text-align: right;\">\n",
       "      <th>atraso_15</th>\n",
       "      <th>0</th>\n",
       "      <th>1</th>\n",
       "    </tr>\n",
       "    <tr>\n",
       "      <th>Des-I_descrip</th>\n",
       "      <th></th>\n",
       "      <th></th>\n",
       "    </tr>\n",
       "  </thead>\n",
       "  <tbody>\n",
       "    <tr>\n",
       "      <th>Antofagasta</th>\n",
       "      <td>85.363746</td>\n",
       "      <td>14.636254</td>\n",
       "    </tr>\n",
       "    <tr>\n",
       "      <th>Arica</th>\n",
       "      <td>86.458761</td>\n",
       "      <td>13.541239</td>\n",
       "    </tr>\n",
       "    <tr>\n",
       "      <th>Asuncion</th>\n",
       "      <td>71.551724</td>\n",
       "      <td>28.448276</td>\n",
       "    </tr>\n",
       "    <tr>\n",
       "      <th>Atlanta</th>\n",
       "      <td>94.134078</td>\n",
       "      <td>5.865922</td>\n",
       "    </tr>\n",
       "    <tr>\n",
       "      <th>Auckland N.Z.</th>\n",
       "      <td>62.603878</td>\n",
       "      <td>37.396122</td>\n",
       "    </tr>\n",
       "    <tr>\n",
       "      <th>...</th>\n",
       "      <td>...</td>\n",
       "      <td>...</td>\n",
       "    </tr>\n",
       "    <tr>\n",
       "      <th>Temuco</th>\n",
       "      <td>84.475416</td>\n",
       "      <td>15.524584</td>\n",
       "    </tr>\n",
       "    <tr>\n",
       "      <th>Toronto</th>\n",
       "      <td>68.551237</td>\n",
       "      <td>31.448763</td>\n",
       "    </tr>\n",
       "    <tr>\n",
       "      <th>Tucuman</th>\n",
       "      <td>73.684211</td>\n",
       "      <td>26.315789</td>\n",
       "    </tr>\n",
       "    <tr>\n",
       "      <th>Ushuia</th>\n",
       "      <td>33.333333</td>\n",
       "      <td>66.666667</td>\n",
       "    </tr>\n",
       "    <tr>\n",
       "      <th>Valdivia</th>\n",
       "      <td>84.462151</td>\n",
       "      <td>15.537849</td>\n",
       "    </tr>\n",
       "  </tbody>\n",
       "</table>\n",
       "<p>61 rows × 2 columns</p>\n",
       "</div>"
      ],
      "text/plain": [
       "atraso_15              0          1\n",
       "Des-I_descrip                      \n",
       "Antofagasta    85.363746  14.636254\n",
       "Arica          86.458761  13.541239\n",
       "Asuncion       71.551724  28.448276\n",
       "Atlanta        94.134078   5.865922\n",
       "Auckland N.Z.  62.603878  37.396122\n",
       "...                  ...        ...\n",
       "Temuco         84.475416  15.524584\n",
       "Toronto        68.551237  31.448763\n",
       "Tucuman        73.684211  26.315789\n",
       "Ushuia         33.333333  66.666667\n",
       "Valdivia       84.462151  15.537849\n",
       "\n",
       "[61 rows x 2 columns]"
      ]
     },
     "execution_count": 277,
     "metadata": {},
     "output_type": "execute_result"
    }
   ],
   "source": [
    "100*pd.crosstab(data['Des-I_descrip'],data.atraso_15,normalize = 'index')"
   ]
  },
  {
   "cell_type": "markdown",
   "metadata": {},
   "source": [
    "### Des-I_agrupado (en base a Des-I y Des-I_descrip)\n",
    "La variable hace referencia el pais de destino en base a Des-I_descrip."
   ]
  },
  {
   "cell_type": "code",
   "execution_count": 251,
   "metadata": {},
   "outputs": [
    {
     "data": {
      "text/plain": [
       "Chile                   36967\n",
       "Argentina                9237\n",
       "Perú                     5271\n",
       "Brasil                   5170\n",
       "Estados Unidos           2637\n",
       "Panamá                   1850\n",
       "Colombia                 1604\n",
       "Uruguay                  1072\n",
       "España                    894\n",
       "México                    763\n",
       "Ecuador                   425\n",
       "Nueva Zelanda             361\n",
       "Francia                   359\n",
       "Bolivia                   330\n",
       "Canadá                    283\n",
       "Italia                    259\n",
       "Australia                 233\n",
       "Paraguay                  232\n",
       "Inglaterra                205\n",
       "República Dominicana       54\n",
       "Name: Des-I_agrupado, dtype: int64"
      ]
     },
     "execution_count": 251,
     "metadata": {},
     "output_type": "execute_result"
    }
   ],
   "source": [
    "data['Des-I_agrupado'] = data['Des-I'] \n",
    "aux = {'CYYZ' : 'Canadá',\n",
    "        'EGLL' : 'Inglaterra',\n",
    "        'EGYP' : 'Argentina',\n",
    "        'KATL' : 'Estados Unidos',\n",
    "        'KDFW' : 'Estados Unidos',\n",
    "        'KIAH' : 'Estados Unidos',\n",
    "        'KJFK' : 'Estados Unidos',\n",
    "        'KLAX' : 'Estados Unidos',\n",
    "        'KMCO' : 'Estados Unidos',\n",
    "        'KMIA' : 'Estados Unidos',\n",
    "        'LEMD' : 'España',\n",
    "        'LFPG' : 'Francia',\n",
    "        'LIRF' : 'Italia',\n",
    "        'MDPC' : 'República Dominicana',\n",
    "        'MMMX' : 'México',\n",
    "        'MMUN' : 'México',\n",
    "        'MPTO' : 'Panamá',\n",
    "        'NZAA' : 'Nueva Zelanda',\n",
    "        'SAAR' : 'Argentina',\n",
    "        'SABE' : 'Argentina',\n",
    "        'SACO' : 'Argentina',\n",
    "        'SAEZ' : 'Argentina',\n",
    "        'SAME' : 'Argentina',\n",
    "        'SANT' : 'Argentina',\n",
    "        'SANU' : 'Argentina',\n",
    "        'SARI' : 'Chile',\n",
    "        'SAWH' : 'Argentina',\n",
    "        'SAZN' : 'Argentina',\n",
    "        'SAZS' : 'Argentina',\n",
    "        'SBCT' : 'Brasil',\n",
    "        'SBFI' : 'Brasil',\n",
    "        'SBFL' : 'Brasil',\n",
    "        'SBGL' : 'Brasil',\n",
    "        'SBGR' : 'Brasil',\n",
    "        'SCAR' : 'Chile',\n",
    "        'SCAT' : 'Chile',\n",
    "        'SCBA' : 'Chile',\n",
    "        'SCCF' : 'Chile',\n",
    "        'SCCI' : 'Chile',\n",
    "        'SCDA' : 'Chile',\n",
    "        'SCFA' : 'Chile',\n",
    "        'SCIE' : 'Chile',\n",
    "        'SCIP' : 'Chile',\n",
    "        'SCJO' : 'Chile',\n",
    "        'SCNT' : 'Chile',\n",
    "        'SCPQ' : 'Chile',\n",
    "        'SCQP' : 'Chile',\n",
    "        'SCSE' : 'Chile',\n",
    "        'SCTE' : 'Chile',\n",
    "        'SCVD' : 'Chile',\n",
    "        'SEGU' : 'Ecuador',\n",
    "        'SEQM' : 'Ecuador',\n",
    "        'SEQU' : 'Ecuador',\n",
    "        'SGAS' : 'Paraguay',\n",
    "        'SKBO' : 'Colombia',\n",
    "        'SLCB' : 'Bolivia',\n",
    "        'SLLP' : 'Bolivia',\n",
    "        'SLVR' : 'Bolivia',\n",
    "        'SPJC' : 'Perú',\n",
    "        'SPSO' : 'Perú',\n",
    "        'SULS' : 'Uruguay',\n",
    "        'SUMU' : 'Uruguay',\n",
    "        'YMML' : 'Australia',\n",
    "        'YSSY' : 'Australia'\n",
    "}\n",
    "data = data.replace({\"Des-I_agrupado\": aux})\n",
    "data['Des-I_agrupado'].value_counts()"
   ]
  },
  {
   "cell_type": "code",
   "execution_count": null,
   "metadata": {},
   "outputs": [],
   "source": [
    "#A continuación se detalla un mayor análisis para determinar si existe o no existe dependencia entre las variables."
   ]
  },
  {
   "cell_type": "code",
   "execution_count": null,
   "metadata": {},
   "outputs": [],
   "source": [
    "#Se puede apreciar que existe diferencia en la tasa de atraso de los vuelos según los diferentes países de destino.\n",
    "\n",
    "#El destino a Panamá tiene la menor tasa de atraso (6.3% vs 18.5% la media).\n",
    "#El destino a Australia tiene la mayor tasa de atraso, es el triple que la media (57.5% vs 18.5% la media).\n",
    "\n",
    "#Al existir diferencia entre los destinos y además entre la media, es posible que la variable Des-I_agrupado\n",
    "#ayude a predecir los atrasos."
   ]
  },
  {
   "cell_type": "code",
   "execution_count": 279,
   "metadata": {},
   "outputs": [
    {
     "data": {
      "text/html": [
       "<div>\n",
       "<style scoped>\n",
       "    .dataframe tbody tr th:only-of-type {\n",
       "        vertical-align: middle;\n",
       "    }\n",
       "\n",
       "    .dataframe tbody tr th {\n",
       "        vertical-align: top;\n",
       "    }\n",
       "\n",
       "    .dataframe thead th {\n",
       "        text-align: right;\n",
       "    }\n",
       "</style>\n",
       "<table border=\"1\" class=\"dataframe\">\n",
       "  <thead>\n",
       "    <tr style=\"text-align: right;\">\n",
       "      <th>atraso_15</th>\n",
       "      <th>0</th>\n",
       "      <th>1</th>\n",
       "    </tr>\n",
       "    <tr>\n",
       "      <th>Des-I_agrupado</th>\n",
       "      <th></th>\n",
       "      <th></th>\n",
       "    </tr>\n",
       "  </thead>\n",
       "  <tbody>\n",
       "    <tr>\n",
       "      <th>Argentina</th>\n",
       "      <td>73.443759</td>\n",
       "      <td>26.556241</td>\n",
       "    </tr>\n",
       "    <tr>\n",
       "      <th>Australia</th>\n",
       "      <td>42.489270</td>\n",
       "      <td>57.510730</td>\n",
       "    </tr>\n",
       "    <tr>\n",
       "      <th>Bolivia</th>\n",
       "      <td>80.909091</td>\n",
       "      <td>19.090909</td>\n",
       "    </tr>\n",
       "    <tr>\n",
       "      <th>Brasil</th>\n",
       "      <td>74.545455</td>\n",
       "      <td>25.454545</td>\n",
       "    </tr>\n",
       "    <tr>\n",
       "      <th>Canadá</th>\n",
       "      <td>68.551237</td>\n",
       "      <td>31.448763</td>\n",
       "    </tr>\n",
       "    <tr>\n",
       "      <th>Chile</th>\n",
       "      <td>84.943328</td>\n",
       "      <td>15.056672</td>\n",
       "    </tr>\n",
       "    <tr>\n",
       "      <th>Colombia</th>\n",
       "      <td>74.127182</td>\n",
       "      <td>25.872818</td>\n",
       "    </tr>\n",
       "    <tr>\n",
       "      <th>Ecuador</th>\n",
       "      <td>80.235294</td>\n",
       "      <td>19.764706</td>\n",
       "    </tr>\n",
       "    <tr>\n",
       "      <th>España</th>\n",
       "      <td>80.984340</td>\n",
       "      <td>19.015660</td>\n",
       "    </tr>\n",
       "    <tr>\n",
       "      <th>Estados Unidos</th>\n",
       "      <td>85.324232</td>\n",
       "      <td>14.675768</td>\n",
       "    </tr>\n",
       "    <tr>\n",
       "      <th>Francia</th>\n",
       "      <td>91.364903</td>\n",
       "      <td>8.635097</td>\n",
       "    </tr>\n",
       "    <tr>\n",
       "      <th>Inglaterra</th>\n",
       "      <td>85.853659</td>\n",
       "      <td>14.146341</td>\n",
       "    </tr>\n",
       "    <tr>\n",
       "      <th>Italia</th>\n",
       "      <td>88.803089</td>\n",
       "      <td>11.196911</td>\n",
       "    </tr>\n",
       "    <tr>\n",
       "      <th>México</th>\n",
       "      <td>89.777195</td>\n",
       "      <td>10.222805</td>\n",
       "    </tr>\n",
       "    <tr>\n",
       "      <th>Nueva Zelanda</th>\n",
       "      <td>62.603878</td>\n",
       "      <td>37.396122</td>\n",
       "    </tr>\n",
       "    <tr>\n",
       "      <th>Panamá</th>\n",
       "      <td>93.729730</td>\n",
       "      <td>6.270270</td>\n",
       "    </tr>\n",
       "    <tr>\n",
       "      <th>Paraguay</th>\n",
       "      <td>71.551724</td>\n",
       "      <td>28.448276</td>\n",
       "    </tr>\n",
       "    <tr>\n",
       "      <th>Perú</th>\n",
       "      <td>76.968317</td>\n",
       "      <td>23.031683</td>\n",
       "    </tr>\n",
       "    <tr>\n",
       "      <th>República Dominicana</th>\n",
       "      <td>66.666667</td>\n",
       "      <td>33.333333</td>\n",
       "    </tr>\n",
       "    <tr>\n",
       "      <th>Uruguay</th>\n",
       "      <td>79.384328</td>\n",
       "      <td>20.615672</td>\n",
       "    </tr>\n",
       "  </tbody>\n",
       "</table>\n",
       "</div>"
      ],
      "text/plain": [
       "atraso_15                     0          1\n",
       "Des-I_agrupado                            \n",
       "Argentina             73.443759  26.556241\n",
       "Australia             42.489270  57.510730\n",
       "Bolivia               80.909091  19.090909\n",
       "Brasil                74.545455  25.454545\n",
       "Canadá                68.551237  31.448763\n",
       "Chile                 84.943328  15.056672\n",
       "Colombia              74.127182  25.872818\n",
       "Ecuador               80.235294  19.764706\n",
       "España                80.984340  19.015660\n",
       "Estados Unidos        85.324232  14.675768\n",
       "Francia               91.364903   8.635097\n",
       "Inglaterra            85.853659  14.146341\n",
       "Italia                88.803089  11.196911\n",
       "México                89.777195  10.222805\n",
       "Nueva Zelanda         62.603878  37.396122\n",
       "Panamá                93.729730   6.270270\n",
       "Paraguay              71.551724  28.448276\n",
       "Perú                  76.968317  23.031683\n",
       "República Dominicana  66.666667  33.333333\n",
       "Uruguay               79.384328  20.615672"
      ]
     },
     "execution_count": 279,
     "metadata": {},
     "output_type": "execute_result"
    }
   ],
   "source": [
    "100*pd.crosstab(data['Des-I_agrupado'],data.atraso_15,normalize = 'index')"
   ]
  },
  {
   "cell_type": "markdown",
   "metadata": {},
   "source": [
    "### Emp-I_aerolinea (en base a Emp-I)\n",
    "La variable hace referencia al nombre de la aerolínea que opera en base a Emp-I. \n",
    "Para la creación de esta variable se usó la relación entre las variables Emp-O y OPERA.\n",
    "Para los valores de la variable Emp-I no se identificó la etiqueta LAW, se usó el enlace\n",
    "https://es.wikipedia.org/wiki/Latin_American_Wings, la cual permite identificar que \n",
    "pertenece a la aerolínea Latin American Wings."
   ]
  },
  {
   "cell_type": "code",
   "execution_count": 253,
   "metadata": {},
   "outputs": [
    {
     "data": {
      "text/plain": [
       "Grupo LATAM                 40892\n",
       "Sky Airline                 14298\n",
       "Aerolineas Argentinas        1949\n",
       "Copa Air                     1850\n",
       "Latin American Wings         1674\n",
       "Avianca                      1152\n",
       "JetSmart SPA                 1095\n",
       "Gol Trans                     806\n",
       "American Airlines             757\n",
       "Air Canada                    565\n",
       "Iberia                        362\n",
       "Air France                    358\n",
       "Delta Air                     358\n",
       "Aeromexico                    351\n",
       "United Airlines               335\n",
       "Oceanair Linhas Aereas        279\n",
       "Alitalia                      259\n",
       "K.L.M.                        251\n",
       "British Airways               205\n",
       "Qantas Airways                195\n",
       "Lacsa                          92\n",
       "Austral                        74\n",
       "Plus Ultra Lineas Aereas       49\n",
       "Name: Emp-I_aerolinea, dtype: int64"
      ]
     },
     "execution_count": 253,
     "metadata": {},
     "output_type": "execute_result"
    }
   ],
   "source": [
    "data['Emp-I_aerolinea'] = data['Emp-I'] \n",
    "aux = {'AAL' : 'American Airlines',\n",
    "        'ACA' : 'Air Canada',\n",
    "        'AFR' : 'Air France',\n",
    "        'AMX' : 'Aeromexico',\n",
    "        'ARG' : 'Aerolineas Argentinas',\n",
    "        'AUT' : 'Austral',\n",
    "        'AVA' : 'Avianca',\n",
    "        'AZA' : 'Alitalia',\n",
    "        'BAW' : 'British Airways',\n",
    "        'CMP' : 'Copa Air',\n",
    "        'DAL' : 'Delta Air',\n",
    "        'DSM' : 'Grupo LATAM',\n",
    "        'GLO' : 'Gol Trans',\n",
    "        'IBE' : 'Iberia',\n",
    "        'JAT' : 'JetSmart SPA',\n",
    "        'JMR' : 'Latin American Wings',\n",
    "        'KLM' : 'K.L.M.',\n",
    "        'LAN' : 'Grupo LATAM',\n",
    "        'LAP' : 'Grupo LATAM',\n",
    "        'LAW' : 'Latin American Wings',\n",
    "        'LNE' : 'Grupo LATAM',\n",
    "        'LPE' : 'Grupo LATAM',\n",
    "        'LRC' : 'Lacsa',\n",
    "        'LXP' : 'Grupo LATAM',\n",
    "        'ONE' : 'Oceanair Linhas Aereas',\n",
    "        'PUE' : 'Plus Ultra Lineas Aereas',\n",
    "        'QFU' : 'Qantas Airways',\n",
    "        'SKU' : 'Sky Airline',\n",
    "        'TAM' : 'Grupo LATAM',\n",
    "        'UAL' : 'United Airlines'\n",
    "}\n",
    "data = data.replace({\"Emp-I_aerolinea\": aux})\n",
    "data['Emp-I_aerolinea'].value_counts()"
   ]
  },
  {
   "cell_type": "code",
   "execution_count": null,
   "metadata": {},
   "outputs": [],
   "source": [
    "#A continuación se detalla un mayor análisis para determinar si existe o no existe dependencia entre las variables."
   ]
  },
  {
   "cell_type": "code",
   "execution_count": null,
   "metadata": {},
   "outputs": [],
   "source": [
    "#Se puede apreciar que existe diferencia en la tasa de atraso de los vuelos según los diferentes aerolíneas.\n",
    "\n",
    "#La aerolínea Aeromexico tiene la menor tasa de atraso (2.8% vs 18.5% la media).\n",
    "#La aerolínea Plus Ultra Lineas Aereas tiene la mayor tasa de atraso, es el triple que la media (61.2% vs 18.5% la media).\n",
    "\n",
    "#Grupo LATAM está casi cerca a la media (17.9% vs 18.5% la media).\n",
    "\n",
    "#Al existir diferencia entre las aerolineas y además entre la media, es posible que la variable Emp-I_aerolinea\n",
    "#ayude a predecir los atrasos."
   ]
  },
  {
   "cell_type": "code",
   "execution_count": 280,
   "metadata": {},
   "outputs": [
    {
     "data": {
      "text/html": [
       "<div>\n",
       "<style scoped>\n",
       "    .dataframe tbody tr th:only-of-type {\n",
       "        vertical-align: middle;\n",
       "    }\n",
       "\n",
       "    .dataframe tbody tr th {\n",
       "        vertical-align: top;\n",
       "    }\n",
       "\n",
       "    .dataframe thead th {\n",
       "        text-align: right;\n",
       "    }\n",
       "</style>\n",
       "<table border=\"1\" class=\"dataframe\">\n",
       "  <thead>\n",
       "    <tr style=\"text-align: right;\">\n",
       "      <th>atraso_15</th>\n",
       "      <th>0</th>\n",
       "      <th>1</th>\n",
       "    </tr>\n",
       "    <tr>\n",
       "      <th>Emp-I_aerolinea</th>\n",
       "      <th></th>\n",
       "      <th></th>\n",
       "    </tr>\n",
       "  </thead>\n",
       "  <tbody>\n",
       "    <tr>\n",
       "      <th>Aerolineas Argentinas</th>\n",
       "      <td>75.987686</td>\n",
       "      <td>24.012314</td>\n",
       "    </tr>\n",
       "    <tr>\n",
       "      <th>Aeromexico</th>\n",
       "      <td>97.150997</td>\n",
       "      <td>2.849003</td>\n",
       "    </tr>\n",
       "    <tr>\n",
       "      <th>Air Canada</th>\n",
       "      <td>54.336283</td>\n",
       "      <td>45.663717</td>\n",
       "    </tr>\n",
       "    <tr>\n",
       "      <th>Air France</th>\n",
       "      <td>91.620112</td>\n",
       "      <td>8.379888</td>\n",
       "    </tr>\n",
       "    <tr>\n",
       "      <th>Alitalia</th>\n",
       "      <td>88.803089</td>\n",
       "      <td>11.196911</td>\n",
       "    </tr>\n",
       "    <tr>\n",
       "      <th>American Airlines</th>\n",
       "      <td>93.262880</td>\n",
       "      <td>6.737120</td>\n",
       "    </tr>\n",
       "    <tr>\n",
       "      <th>Austral</th>\n",
       "      <td>79.729730</td>\n",
       "      <td>20.270270</td>\n",
       "    </tr>\n",
       "    <tr>\n",
       "      <th>Avianca</th>\n",
       "      <td>73.437500</td>\n",
       "      <td>26.562500</td>\n",
       "    </tr>\n",
       "    <tr>\n",
       "      <th>British Airways</th>\n",
       "      <td>85.853659</td>\n",
       "      <td>14.146341</td>\n",
       "    </tr>\n",
       "    <tr>\n",
       "      <th>Copa Air</th>\n",
       "      <td>93.729730</td>\n",
       "      <td>6.270270</td>\n",
       "    </tr>\n",
       "    <tr>\n",
       "      <th>Delta Air</th>\n",
       "      <td>94.134078</td>\n",
       "      <td>5.865922</td>\n",
       "    </tr>\n",
       "    <tr>\n",
       "      <th>Gol Trans</th>\n",
       "      <td>64.392060</td>\n",
       "      <td>35.607940</td>\n",
       "    </tr>\n",
       "    <tr>\n",
       "      <th>Grupo LATAM</th>\n",
       "      <td>82.133425</td>\n",
       "      <td>17.866575</td>\n",
       "    </tr>\n",
       "    <tr>\n",
       "      <th>Iberia</th>\n",
       "      <td>90.055249</td>\n",
       "      <td>9.944751</td>\n",
       "    </tr>\n",
       "    <tr>\n",
       "      <th>JetSmart SPA</th>\n",
       "      <td>82.100457</td>\n",
       "      <td>17.899543</td>\n",
       "    </tr>\n",
       "    <tr>\n",
       "      <th>K.L.M.</th>\n",
       "      <td>91.633466</td>\n",
       "      <td>8.366534</td>\n",
       "    </tr>\n",
       "    <tr>\n",
       "      <th>Lacsa</th>\n",
       "      <td>88.043478</td>\n",
       "      <td>11.956522</td>\n",
       "    </tr>\n",
       "    <tr>\n",
       "      <th>Latin American Wings</th>\n",
       "      <td>59.318996</td>\n",
       "      <td>40.681004</td>\n",
       "    </tr>\n",
       "    <tr>\n",
       "      <th>Oceanair Linhas Aereas</th>\n",
       "      <td>84.587814</td>\n",
       "      <td>15.412186</td>\n",
       "    </tr>\n",
       "    <tr>\n",
       "      <th>Plus Ultra Lineas Aereas</th>\n",
       "      <td>38.775510</td>\n",
       "      <td>61.224490</td>\n",
       "    </tr>\n",
       "    <tr>\n",
       "      <th>Qantas Airways</th>\n",
       "      <td>42.051282</td>\n",
       "      <td>57.948718</td>\n",
       "    </tr>\n",
       "    <tr>\n",
       "      <th>Sky Airline</th>\n",
       "      <td>82.235278</td>\n",
       "      <td>17.764722</td>\n",
       "    </tr>\n",
       "    <tr>\n",
       "      <th>United Airlines</th>\n",
       "      <td>94.925373</td>\n",
       "      <td>5.074627</td>\n",
       "    </tr>\n",
       "  </tbody>\n",
       "</table>\n",
       "</div>"
      ],
      "text/plain": [
       "atraso_15                         0          1\n",
       "Emp-I_aerolinea                               \n",
       "Aerolineas Argentinas     75.987686  24.012314\n",
       "Aeromexico                97.150997   2.849003\n",
       "Air Canada                54.336283  45.663717\n",
       "Air France                91.620112   8.379888\n",
       "Alitalia                  88.803089  11.196911\n",
       "American Airlines         93.262880   6.737120\n",
       "Austral                   79.729730  20.270270\n",
       "Avianca                   73.437500  26.562500\n",
       "British Airways           85.853659  14.146341\n",
       "Copa Air                  93.729730   6.270270\n",
       "Delta Air                 94.134078   5.865922\n",
       "Gol Trans                 64.392060  35.607940\n",
       "Grupo LATAM               82.133425  17.866575\n",
       "Iberia                    90.055249   9.944751\n",
       "JetSmart SPA              82.100457  17.899543\n",
       "K.L.M.                    91.633466   8.366534\n",
       "Lacsa                     88.043478  11.956522\n",
       "Latin American Wings      59.318996  40.681004\n",
       "Oceanair Linhas Aereas    84.587814  15.412186\n",
       "Plus Ultra Lineas Aereas  38.775510  61.224490\n",
       "Qantas Airways            42.051282  57.948718\n",
       "Sky Airline               82.235278  17.764722\n",
       "United Airlines           94.925373   5.074627"
      ]
     },
     "execution_count": 280,
     "metadata": {},
     "output_type": "execute_result"
    }
   ],
   "source": [
    "100*pd.crosstab(data['Emp-I_aerolinea'],data.atraso_15,normalize = 'index')"
   ]
  },
  {
   "cell_type": "markdown",
   "metadata": {},
   "source": [
    "### Emp-I_aerolinea_nacionalidad (en base a Emp-I y Emp-I_aerolinea)\n",
    "La variable hace referencia el pais de la aerolínea en base a Emp-I_aerolinea.\n",
    "Se usó el siguiente enlace https://es.wikipedia.org/wiki/Anexo:C%C3%B3digos_OACI_de_aerol%C3%ADneas."
   ]
  },
  {
   "cell_type": "code",
   "execution_count": 255,
   "metadata": {},
   "outputs": [
    {
     "data": {
      "text/plain": [
       "Chile             56864\n",
       "Estados Unidos     2545\n",
       "Argentina          2023\n",
       "Panamá             1850\n",
       "Colombia           1152\n",
       "Brasil             1085\n",
       "Canadá              565\n",
       "España              411\n",
       "Francia             358\n",
       "México              351\n",
       "Italia              259\n",
       "Países Bajos        251\n",
       "Reino Unido         205\n",
       "Australia           195\n",
       "Costa Rica           92\n",
       "Name: Emp-I_aerolinea_nacionalidad, dtype: int64"
      ]
     },
     "execution_count": 255,
     "metadata": {},
     "output_type": "execute_result"
    }
   ],
   "source": [
    "data['Emp-I_aerolinea_nacionalidad'] = data['Emp-I'] \n",
    "aux = {'AAL' : 'Estados Unidos',\n",
    "        'ACA' : 'Canadá',\n",
    "        'AFR' : 'Francia',\n",
    "        'AMX' : 'México',\n",
    "        'ARG' : 'Argentina',\n",
    "        'AUT' : 'Argentina',\n",
    "        'AVA' : 'Colombia',\n",
    "        'AZA' : 'Italia',\n",
    "        'BAW' : 'Reino Unido',\n",
    "        'CMP' : 'Panamá',\n",
    "        'DAL' : 'Estados Unidos',\n",
    "        'DSM' : 'Chile',\n",
    "        'GLO' : 'Brasil',\n",
    "        'IBE' : 'España',\n",
    "        'JAT' : 'Estados Unidos',\n",
    "        'JMR' : 'Chile',\n",
    "        'KLM' : 'Países Bajos',\n",
    "        'LAN' : 'Chile',\n",
    "        'LAP' : 'Chile',\n",
    "        'LAW' : 'Chile',\n",
    "        'LNE' : 'Chile',\n",
    "        'LPE' : 'Chile',\n",
    "        'LRC' : 'Costa Rica',\n",
    "        'LXP' : 'Chile',\n",
    "        'ONE' : 'Brasil',\n",
    "        'PUE' : 'España',\n",
    "        'QFU' : 'Australia',\n",
    "        'SKU' : 'Chile',\n",
    "        'TAM' : 'Chile',\n",
    "        'UAL' : 'Estados Unidos'\n",
    "}\n",
    "data = data.replace({\"Emp-I_aerolinea_nacionalidad\": aux})\n",
    "data['Emp-I_aerolinea_nacionalidad'].value_counts()"
   ]
  },
  {
   "cell_type": "code",
   "execution_count": null,
   "metadata": {},
   "outputs": [],
   "source": [
    "#A continuación se detalla un mayor análisis para determinar si existe o no existe dependencia entre las variables."
   ]
  },
  {
   "cell_type": "code",
   "execution_count": null,
   "metadata": {},
   "outputs": [],
   "source": [
    "#Se puede apreciar que existe diferencia en la tasa de atraso de los vuelos según los diferentes países de origen de las aerolíneas.\n",
    "\n",
    "#Las aerolíneas de México tiene la menor tasa de atraso (2.8% vs 18.5% la media).\n",
    "#Las aerolíneas de Australia tiene la mayor tasa de atraso, es el triple que la media (57.9% vs 18.5% la media).\n",
    "\n",
    "#Las aerolíneas de Chile son similares a la media (18.5% vs 18.5% la media).\n",
    "\n",
    "#Al existir diferencia entre los países de origen de las aerolineas y además entre la media, \n",
    "#es posible que la variable Emp-I_aerolinea_nacionalidad ayude a predecir los atrasos."
   ]
  },
  {
   "cell_type": "code",
   "execution_count": 281,
   "metadata": {},
   "outputs": [
    {
     "data": {
      "text/html": [
       "<div>\n",
       "<style scoped>\n",
       "    .dataframe tbody tr th:only-of-type {\n",
       "        vertical-align: middle;\n",
       "    }\n",
       "\n",
       "    .dataframe tbody tr th {\n",
       "        vertical-align: top;\n",
       "    }\n",
       "\n",
       "    .dataframe thead th {\n",
       "        text-align: right;\n",
       "    }\n",
       "</style>\n",
       "<table border=\"1\" class=\"dataframe\">\n",
       "  <thead>\n",
       "    <tr style=\"text-align: right;\">\n",
       "      <th>atraso_15</th>\n",
       "      <th>0</th>\n",
       "      <th>1</th>\n",
       "    </tr>\n",
       "    <tr>\n",
       "      <th>Emp-I_aerolinea_nacionalidad</th>\n",
       "      <th></th>\n",
       "      <th></th>\n",
       "    </tr>\n",
       "  </thead>\n",
       "  <tbody>\n",
       "    <tr>\n",
       "      <th>Argentina</th>\n",
       "      <td>76.124567</td>\n",
       "      <td>23.875433</td>\n",
       "    </tr>\n",
       "    <tr>\n",
       "      <th>Australia</th>\n",
       "      <td>42.051282</td>\n",
       "      <td>57.948718</td>\n",
       "    </tr>\n",
       "    <tr>\n",
       "      <th>Brasil</th>\n",
       "      <td>69.585253</td>\n",
       "      <td>30.414747</td>\n",
       "    </tr>\n",
       "    <tr>\n",
       "      <th>Canadá</th>\n",
       "      <td>54.336283</td>\n",
       "      <td>45.663717</td>\n",
       "    </tr>\n",
       "    <tr>\n",
       "      <th>Chile</th>\n",
       "      <td>81.487409</td>\n",
       "      <td>18.512591</td>\n",
       "    </tr>\n",
       "    <tr>\n",
       "      <th>Colombia</th>\n",
       "      <td>73.437500</td>\n",
       "      <td>26.562500</td>\n",
       "    </tr>\n",
       "    <tr>\n",
       "      <th>Costa Rica</th>\n",
       "      <td>88.043478</td>\n",
       "      <td>11.956522</td>\n",
       "    </tr>\n",
       "    <tr>\n",
       "      <th>España</th>\n",
       "      <td>83.941606</td>\n",
       "      <td>16.058394</td>\n",
       "    </tr>\n",
       "    <tr>\n",
       "      <th>Estados Unidos</th>\n",
       "      <td>88.801572</td>\n",
       "      <td>11.198428</td>\n",
       "    </tr>\n",
       "    <tr>\n",
       "      <th>Francia</th>\n",
       "      <td>91.620112</td>\n",
       "      <td>8.379888</td>\n",
       "    </tr>\n",
       "    <tr>\n",
       "      <th>Italia</th>\n",
       "      <td>88.803089</td>\n",
       "      <td>11.196911</td>\n",
       "    </tr>\n",
       "    <tr>\n",
       "      <th>México</th>\n",
       "      <td>97.150997</td>\n",
       "      <td>2.849003</td>\n",
       "    </tr>\n",
       "    <tr>\n",
       "      <th>Panamá</th>\n",
       "      <td>93.729730</td>\n",
       "      <td>6.270270</td>\n",
       "    </tr>\n",
       "    <tr>\n",
       "      <th>Países Bajos</th>\n",
       "      <td>91.633466</td>\n",
       "      <td>8.366534</td>\n",
       "    </tr>\n",
       "    <tr>\n",
       "      <th>Reino Unido</th>\n",
       "      <td>85.853659</td>\n",
       "      <td>14.146341</td>\n",
       "    </tr>\n",
       "  </tbody>\n",
       "</table>\n",
       "</div>"
      ],
      "text/plain": [
       "atraso_15                             0          1\n",
       "Emp-I_aerolinea_nacionalidad                      \n",
       "Argentina                     76.124567  23.875433\n",
       "Australia                     42.051282  57.948718\n",
       "Brasil                        69.585253  30.414747\n",
       "Canadá                        54.336283  45.663717\n",
       "Chile                         81.487409  18.512591\n",
       "Colombia                      73.437500  26.562500\n",
       "Costa Rica                    88.043478  11.956522\n",
       "España                        83.941606  16.058394\n",
       "Estados Unidos                88.801572  11.198428\n",
       "Francia                       91.620112   8.379888\n",
       "Italia                        88.803089  11.196911\n",
       "México                        97.150997   2.849003\n",
       "Panamá                        93.729730   6.270270\n",
       "Países Bajos                  91.633466   8.366534\n",
       "Reino Unido                   85.853659  14.146341"
      ]
     },
     "execution_count": 281,
     "metadata": {},
     "output_type": "execute_result"
    }
   ],
   "source": [
    "100*pd.crosstab(data['Emp-I_aerolinea_nacionalidad'],data.atraso_15,normalize = 'index')"
   ]
  },
  {
   "cell_type": "markdown",
   "metadata": {},
   "source": [
    "### Emp-I_aerolinea_lowcost (en base a Emp-I y Emp-I_aerolinea)\n",
    "La variable hace referencia a si la aerolínea es lowcost o no en base a Emp-I_aerolinea.\n",
    "Toma el valor de 1 si es lowcost y 0 si no es lowcost.\n",
    "Se usó el siguiente enlace https://elmundook.com/guia-de-aerolineas-low-cost/."
   ]
  },
  {
   "cell_type": "code",
   "execution_count": 257,
   "metadata": {},
   "outputs": [
    {
     "data": {
      "text/plain": [
       "0    52007\n",
       "1    16199\n",
       "Name: Emp-I_aerolinea_lowcost, dtype: int64"
      ]
     },
     "execution_count": 257,
     "metadata": {},
     "output_type": "execute_result"
    }
   ],
   "source": [
    "data['Emp-I_aerolinea_lowcost'] = np.where((data['Emp-I_aerolinea'] == 'Gol Trans') | \n",
    "                                           (data['Emp-I_aerolinea'] == 'JetSmart SPA') |\n",
    "                                           (data['Emp-I_aerolinea'] == 'Sky Airline'), 1, 0)\n",
    "data['Emp-I_aerolinea_lowcost'].value_counts()"
   ]
  },
  {
   "cell_type": "code",
   "execution_count": null,
   "metadata": {},
   "outputs": [],
   "source": [
    "#A continuación se detalla un mayor análisis para determinar si existe o no existe dependencia entre las variables."
   ]
  },
  {
   "cell_type": "code",
   "execution_count": null,
   "metadata": {},
   "outputs": [],
   "source": [
    "#Se puede apreciar que no existe diferencia en la tasa de atraso de los vuelos según el tipo de aerolínea.\n",
    "\n",
    "#Al no existir diferencia entre el tipo de aerolinea, \n",
    "#es posible que la variable Emp-I_aerolinea_lowcost no ayude a predecir los atrasos."
   ]
  },
  {
   "cell_type": "code",
   "execution_count": 288,
   "metadata": {},
   "outputs": [
    {
     "data": {
      "text/html": [
       "<div>\n",
       "<style scoped>\n",
       "    .dataframe tbody tr th:only-of-type {\n",
       "        vertical-align: middle;\n",
       "    }\n",
       "\n",
       "    .dataframe tbody tr th {\n",
       "        vertical-align: top;\n",
       "    }\n",
       "\n",
       "    .dataframe thead th {\n",
       "        text-align: right;\n",
       "    }\n",
       "</style>\n",
       "<table border=\"1\" class=\"dataframe\">\n",
       "  <thead>\n",
       "    <tr style=\"text-align: right;\">\n",
       "      <th>Emp-I_aerolinea_lowcost</th>\n",
       "      <th>0</th>\n",
       "      <th>1</th>\n",
       "    </tr>\n",
       "    <tr>\n",
       "      <th>atraso_15</th>\n",
       "      <th></th>\n",
       "      <th></th>\n",
       "    </tr>\n",
       "  </thead>\n",
       "  <tbody>\n",
       "    <tr>\n",
       "      <th>0</th>\n",
       "      <td>81.558252</td>\n",
       "      <td>81.338354</td>\n",
       "    </tr>\n",
       "    <tr>\n",
       "      <th>1</th>\n",
       "      <td>18.441748</td>\n",
       "      <td>18.661646</td>\n",
       "    </tr>\n",
       "  </tbody>\n",
       "</table>\n",
       "</div>"
      ],
      "text/plain": [
       "Emp-I_aerolinea_lowcost          0          1\n",
       "atraso_15                                    \n",
       "0                        81.558252  81.338354\n",
       "1                        18.441748  18.661646"
      ]
     },
     "execution_count": 288,
     "metadata": {},
     "output_type": "execute_result"
    }
   ],
   "source": [
    "100*pd.crosstab(data.atraso_15,data['Emp-I_aerolinea_lowcost'],normalize = 'columns')"
   ]
  },
  {
   "cell_type": "code",
   "execution_count": null,
   "metadata": {},
   "outputs": [],
   "source": [
    "#Se inicia con un gráfico de barras al 100% apilado.\n",
    "#Se puede apreciar que la proporción del tipo de vuelos es similar en un vuelo con atraso y sin atraso."
   ]
  },
  {
   "cell_type": "code",
   "execution_count": 289,
   "metadata": {},
   "outputs": [
    {
     "name": "stdout",
     "output_type": "stream",
     "text": [
      "Emp-I_aerolinea_lowcost      0      1\n",
      "atraso_15                            \n",
      "0                        42416  13176\n",
      "1                         9591   3023\n"
     ]
    },
    {
     "data": {
      "image/png": "[encoded data removed]",
      "text/plain": [
       "<Figure size 288x288 with 1 Axes>"
      ]
     },
     "metadata": {
      "needs_background": "light"
     },
     "output_type": "display_data"
    }
   ],
   "source": [
    "print(pd.crosstab(data[\"atraso_15\"],data[\"Emp-I_aerolinea_lowcost\"]))\n",
    "temp = pd.crosstab(data[\"atraso_15\"],data[\"Emp-I_aerolinea_lowcost\"])\n",
    "temp.div(temp.sum(1).astype(float),axis=0).plot(kind=\"bar\",stacked=True,figsize=(4,4))\n",
    "plt.xlabel(\"atraso_15\")\n",
    "plt.ylabel(\"Percentage\")\n",
    "plt.show()"
   ]
  },
  {
   "cell_type": "code",
   "execution_count": null,
   "metadata": {},
   "outputs": [],
   "source": [
    "#Prueba Chi-Cuadrado\n",
    "\n",
    "#Para tener una conclusión analítica, se usará la prueba chi-cuadrado.\n",
    "\n",
    "#Ho: no existe dependencia entre las variables atraso_15 y Emp-I_aerolinea_lowcost.\n",
    "#Ha: existe dependencia entre las variables atraso_15 y Emp-I_aerolinea_lowcost.\n",
    "\n",
    "#Si pvalor < 5% => Se rechaza Ho, al 95% de confianza, existe dependencia entre las variables atraso_15 y Emp-I_aerolinea_lowcost.\n",
    "#Si pvalor > 5% => No se rechaza Ho, al 95% de confianza, no existe dependencia entre las variables atraso_15 y Emp-I_aerolinea_lowcost.\n",
    "\n",
    "#Como el pvalor es mayor al 5%, No se rechaza Ho, se puede concluir que al 95% de confianza, no existe dependencia entre \n",
    "#las variables atraso_15 y Emp-I_aerolinea_lowcost, por lo que la variable Emp-I_aerolinea_lowcost \n",
    "#posiblemente no ayudará a predecir los atrasos."
   ]
  },
  {
   "cell_type": "code",
   "execution_count": 291,
   "metadata": {},
   "outputs": [
    {
     "name": "stdout",
     "output_type": "stream",
     "text": [
      "0.5366537764487993\n"
     ]
    }
   ],
   "source": [
    "contigencia = pd.crosstab(data['atraso_15'], data['Emp-I_aerolinea_lowcost']) \n",
    "c, p, dof, expected = chi2_contingency(contigencia) \n",
    "print(p)"
   ]
  },
  {
   "cell_type": "markdown",
   "metadata": {},
   "source": [
    "### periodo_dia (en base a Fecha-I)"
   ]
  },
  {
   "cell_type": "code",
   "execution_count": null,
   "metadata": {},
   "outputs": [],
   "source": [
    "#Se puede apreciar que existe diferencia en la tasa de atraso de los vuelos según el momento del día.\n",
    "\n",
    "#Los vuelos programados durante la mañana tienen la menor tasa de atraso (16.0% vs 18.5% la media).\n",
    "#Los vuelos programados durante la noche tiene la mayor tasa de atraso (20.0% vs 18.5% la media).\n",
    "\n",
    "#Al existir diferencia entre los momentos del día en los que son programados los vuelos y además entre la media, \n",
    "#es posible que la variable periodo_dia ayude a predecir los atrasos."
   ]
  },
  {
   "cell_type": "code",
   "execution_count": 294,
   "metadata": {},
   "outputs": [
    {
     "data": {
      "text/html": [
       "<div>\n",
       "<style scoped>\n",
       "    .dataframe tbody tr th:only-of-type {\n",
       "        vertical-align: middle;\n",
       "    }\n",
       "\n",
       "    .dataframe tbody tr th {\n",
       "        vertical-align: top;\n",
       "    }\n",
       "\n",
       "    .dataframe thead th {\n",
       "        text-align: right;\n",
       "    }\n",
       "</style>\n",
       "<table border=\"1\" class=\"dataframe\">\n",
       "  <thead>\n",
       "    <tr style=\"text-align: right;\">\n",
       "      <th>periodo_dia</th>\n",
       "      <th>mañana</th>\n",
       "      <th>noche</th>\n",
       "      <th>tarde</th>\n",
       "    </tr>\n",
       "    <tr>\n",
       "      <th>atraso_15</th>\n",
       "      <th></th>\n",
       "      <th></th>\n",
       "      <th></th>\n",
       "    </tr>\n",
       "  </thead>\n",
       "  <tbody>\n",
       "    <tr>\n",
       "      <th>0</th>\n",
       "      <td>83.993373</td>\n",
       "      <td>79.997694</td>\n",
       "      <td>80.059594</td>\n",
       "    </tr>\n",
       "    <tr>\n",
       "      <th>1</th>\n",
       "      <td>16.006627</td>\n",
       "      <td>20.002306</td>\n",
       "      <td>19.940406</td>\n",
       "    </tr>\n",
       "  </tbody>\n",
       "</table>\n",
       "</div>"
      ],
      "text/plain": [
       "periodo_dia     mañana      noche      tarde\n",
       "atraso_15                                   \n",
       "0            83.993373  79.997694  80.059594\n",
       "1            16.006627  20.002306  19.940406"
      ]
     },
     "execution_count": 294,
     "metadata": {},
     "output_type": "execute_result"
    }
   ],
   "source": [
    "100*pd.crosstab(data.atraso_15,data.periodo_dia,normalize = 'columns')"
   ]
  },
  {
   "cell_type": "code",
   "execution_count": null,
   "metadata": {},
   "outputs": [],
   "source": [
    "#Se inicia con un gráfico de barras al 100% apilado.\n",
    "#Se puede apreciar que la proporción de vuelos programados durante la tarde y noche aumentan cuando es un vuelo con atraso\n",
    "#que cuando no lo es, es decir aparentemente los vuelos programados la tarde y noche tienen una mayor probabilidad \n",
    "#de tener atraso que los vuelos programados durante la mañana."
   ]
  },
  {
   "cell_type": "code",
   "execution_count": 295,
   "metadata": {},
   "outputs": [
    {
     "name": "stdout",
     "output_type": "stream",
     "text": [
      "periodo_dia  mañana  noche  tarde\n",
      "atraso_15                        \n",
      "0             21294  13878  20420\n",
      "1              4058   3470   5086\n"
     ]
    },
    {
     "data": {
      "image/png": "[encoded data removed]",
      "text/plain": [
       "<Figure size 288x288 with 1 Axes>"
      ]
     },
     "metadata": {
      "needs_background": "light"
     },
     "output_type": "display_data"
    }
   ],
   "source": [
    "print(pd.crosstab(data[\"atraso_15\"],data[\"periodo_dia\"]))\n",
    "temp = pd.crosstab(data[\"atraso_15\"],data[\"periodo_dia\"])\n",
    "temp.div(temp.sum(1).astype(float),axis=0).plot(kind=\"bar\",stacked=True,figsize=(4,4))\n",
    "plt.xlabel(\"atraso_15\")\n",
    "plt.ylabel(\"Percentage\")\n",
    "plt.show()"
   ]
  },
  {
   "cell_type": "code",
   "execution_count": null,
   "metadata": {},
   "outputs": [],
   "source": [
    "#Prueba Chi-Cuadrado\n",
    "\n",
    "#Para tener una conclusión analítica, se usará la prueba chi-cuadrado.\n",
    "\n",
    "#Ho: no existe dependencia entre las variables atraso_15 y periodo_dia.\n",
    "#Ha: existe dependencia entre las variables atraso_15 y periodo_dia.\n",
    "\n",
    "#Si pvalor < 5% => Se rechaza Ho, al 95% de confianza, existe dependencia entre las variables atraso_15 y periodo_dia.\n",
    "#Si pvalor > 5% => No se rechaza Ho, al 95% de confianza, no existe dependencia entre las variables atraso_15 y periodo_dia.\n",
    "\n",
    "#Como el pvalor es menor al 5%, Se rechaza Ho, se puede concluir que al 95% de confianza, existe dependencia entre \n",
    "#las variables atraso_15 y periodo_dia, por lo que la variable periodo_dia posiblemente ayudará a predecir los atrasos."
   ]
  },
  {
   "cell_type": "code",
   "execution_count": 296,
   "metadata": {
    "scrolled": true
   },
   "outputs": [
    {
     "name": "stdout",
     "output_type": "stream",
     "text": [
      "1.0758024973325912e-36\n"
     ]
    }
   ],
   "source": [
    "contigencia = pd.crosstab(data['atraso_15'], data['periodo_dia']) \n",
    "c, p, dof, expected = chi2_contingency(contigencia) \n",
    "print(p)"
   ]
  },
  {
   "cell_type": "code",
   "execution_count": 258,
   "metadata": {},
   "outputs": [
    {
     "data": {
      "text/html": [
       "<div>\n",
       "<style scoped>\n",
       "    .dataframe tbody tr th:only-of-type {\n",
       "        vertical-align: middle;\n",
       "    }\n",
       "\n",
       "    .dataframe tbody tr th {\n",
       "        vertical-align: top;\n",
       "    }\n",
       "\n",
       "    .dataframe thead th {\n",
       "        text-align: right;\n",
       "    }\n",
       "</style>\n",
       "<table border=\"1\" class=\"dataframe\">\n",
       "  <thead>\n",
       "    <tr style=\"text-align: right;\">\n",
       "      <th></th>\n",
       "      <th>Fecha-I</th>\n",
       "      <th>Vlo-I</th>\n",
       "      <th>Ori-I</th>\n",
       "      <th>Des-I</th>\n",
       "      <th>Emp-I</th>\n",
       "      <th>Fecha-O</th>\n",
       "      <th>Vlo-O</th>\n",
       "      <th>Ori-O</th>\n",
       "      <th>Des-O</th>\n",
       "      <th>Emp-O</th>\n",
       "      <th>...</th>\n",
       "      <th>periodo_dianum</th>\n",
       "      <th>periodo_mesnum</th>\n",
       "      <th>periodo_semananum</th>\n",
       "      <th>periodo_dianom</th>\n",
       "      <th>periodo_dianomagrupado</th>\n",
       "      <th>Des-I_descrip</th>\n",
       "      <th>Des-I_agrupado</th>\n",
       "      <th>Emp-I_aerolinea</th>\n",
       "      <th>Emp-I_aerolinea_nacionalidad</th>\n",
       "      <th>Emp-I_aerolinea_lowcost</th>\n",
       "    </tr>\n",
       "  </thead>\n",
       "  <tbody>\n",
       "    <tr>\n",
       "      <th>0</th>\n",
       "      <td>2017-01-01 23:30:00</td>\n",
       "      <td>226</td>\n",
       "      <td>SCEL</td>\n",
       "      <td>KMIA</td>\n",
       "      <td>AAL</td>\n",
       "      <td>2017-01-01 23:33:00</td>\n",
       "      <td>226</td>\n",
       "      <td>SCEL</td>\n",
       "      <td>KMIA</td>\n",
       "      <td>AAL</td>\n",
       "      <td>...</td>\n",
       "      <td>1</td>\n",
       "      <td>1</td>\n",
       "      <td>52</td>\n",
       "      <td>6</td>\n",
       "      <td>2</td>\n",
       "      <td>Miami</td>\n",
       "      <td>Estados Unidos</td>\n",
       "      <td>American Airlines</td>\n",
       "      <td>Estados Unidos</td>\n",
       "      <td>0</td>\n",
       "    </tr>\n",
       "    <tr>\n",
       "      <th>1</th>\n",
       "      <td>2017-01-02 23:30:00</td>\n",
       "      <td>226</td>\n",
       "      <td>SCEL</td>\n",
       "      <td>KMIA</td>\n",
       "      <td>AAL</td>\n",
       "      <td>2017-01-02 23:39:00</td>\n",
       "      <td>226</td>\n",
       "      <td>SCEL</td>\n",
       "      <td>KMIA</td>\n",
       "      <td>AAL</td>\n",
       "      <td>...</td>\n",
       "      <td>2</td>\n",
       "      <td>1</td>\n",
       "      <td>1</td>\n",
       "      <td>0</td>\n",
       "      <td>1</td>\n",
       "      <td>Miami</td>\n",
       "      <td>Estados Unidos</td>\n",
       "      <td>American Airlines</td>\n",
       "      <td>Estados Unidos</td>\n",
       "      <td>0</td>\n",
       "    </tr>\n",
       "    <tr>\n",
       "      <th>2</th>\n",
       "      <td>2017-01-03 23:30:00</td>\n",
       "      <td>226</td>\n",
       "      <td>SCEL</td>\n",
       "      <td>KMIA</td>\n",
       "      <td>AAL</td>\n",
       "      <td>2017-01-03 23:39:00</td>\n",
       "      <td>226</td>\n",
       "      <td>SCEL</td>\n",
       "      <td>KMIA</td>\n",
       "      <td>AAL</td>\n",
       "      <td>...</td>\n",
       "      <td>3</td>\n",
       "      <td>1</td>\n",
       "      <td>1</td>\n",
       "      <td>1</td>\n",
       "      <td>1</td>\n",
       "      <td>Miami</td>\n",
       "      <td>Estados Unidos</td>\n",
       "      <td>American Airlines</td>\n",
       "      <td>Estados Unidos</td>\n",
       "      <td>0</td>\n",
       "    </tr>\n",
       "    <tr>\n",
       "      <th>3</th>\n",
       "      <td>2017-01-04 23:30:00</td>\n",
       "      <td>226</td>\n",
       "      <td>SCEL</td>\n",
       "      <td>KMIA</td>\n",
       "      <td>AAL</td>\n",
       "      <td>2017-01-04 23:33:00</td>\n",
       "      <td>226</td>\n",
       "      <td>SCEL</td>\n",
       "      <td>KMIA</td>\n",
       "      <td>AAL</td>\n",
       "      <td>...</td>\n",
       "      <td>4</td>\n",
       "      <td>1</td>\n",
       "      <td>1</td>\n",
       "      <td>2</td>\n",
       "      <td>1</td>\n",
       "      <td>Miami</td>\n",
       "      <td>Estados Unidos</td>\n",
       "      <td>American Airlines</td>\n",
       "      <td>Estados Unidos</td>\n",
       "      <td>0</td>\n",
       "    </tr>\n",
       "    <tr>\n",
       "      <th>4</th>\n",
       "      <td>2017-01-05 23:30:00</td>\n",
       "      <td>226</td>\n",
       "      <td>SCEL</td>\n",
       "      <td>KMIA</td>\n",
       "      <td>AAL</td>\n",
       "      <td>2017-01-05 23:28:00</td>\n",
       "      <td>226</td>\n",
       "      <td>SCEL</td>\n",
       "      <td>KMIA</td>\n",
       "      <td>AAL</td>\n",
       "      <td>...</td>\n",
       "      <td>5</td>\n",
       "      <td>1</td>\n",
       "      <td>1</td>\n",
       "      <td>3</td>\n",
       "      <td>1</td>\n",
       "      <td>Miami</td>\n",
       "      <td>Estados Unidos</td>\n",
       "      <td>American Airlines</td>\n",
       "      <td>Estados Unidos</td>\n",
       "      <td>0</td>\n",
       "    </tr>\n",
       "  </tbody>\n",
       "</table>\n",
       "<p>5 rows × 34 columns</p>\n",
       "</div>"
      ],
      "text/plain": [
       "              Fecha-I Vlo-I Ori-I Des-I Emp-I             Fecha-O Vlo-O Ori-O  \\\n",
       "0 2017-01-01 23:30:00   226  SCEL  KMIA   AAL 2017-01-01 23:33:00   226  SCEL   \n",
       "1 2017-01-02 23:30:00   226  SCEL  KMIA   AAL 2017-01-02 23:39:00   226  SCEL   \n",
       "2 2017-01-03 23:30:00   226  SCEL  KMIA   AAL 2017-01-03 23:39:00   226  SCEL   \n",
       "3 2017-01-04 23:30:00   226  SCEL  KMIA   AAL 2017-01-04 23:33:00   226  SCEL   \n",
       "4 2017-01-05 23:30:00   226  SCEL  KMIA   AAL 2017-01-05 23:28:00   226  SCEL   \n",
       "\n",
       "  Des-O Emp-O  ...  periodo_dianum  periodo_mesnum  periodo_semananum  \\\n",
       "0  KMIA   AAL  ...               1               1                 52   \n",
       "1  KMIA   AAL  ...               2               1                  1   \n",
       "2  KMIA   AAL  ...               3               1                  1   \n",
       "3  KMIA   AAL  ...               4               1                  1   \n",
       "4  KMIA   AAL  ...               5               1                  1   \n",
       "\n",
       "  periodo_dianom periodo_dianomagrupado Des-I_descrip  Des-I_agrupado  \\\n",
       "0              6                      2         Miami  Estados Unidos   \n",
       "1              0                      1         Miami  Estados Unidos   \n",
       "2              1                      1         Miami  Estados Unidos   \n",
       "3              2                      1         Miami  Estados Unidos   \n",
       "4              3                      1         Miami  Estados Unidos   \n",
       "\n",
       "     Emp-I_aerolinea Emp-I_aerolinea_nacionalidad  Emp-I_aerolinea_lowcost  \n",
       "0  American Airlines               Estados Unidos                        0  \n",
       "1  American Airlines               Estados Unidos                        0  \n",
       "2  American Airlines               Estados Unidos                        0  \n",
       "3  American Airlines               Estados Unidos                        0  \n",
       "4  American Airlines               Estados Unidos                        0  \n",
       "\n",
       "[5 rows x 34 columns]"
      ]
     },
     "execution_count": 258,
     "metadata": {},
     "output_type": "execute_result"
    }
   ],
   "source": [
    "data.head()"
   ]
  },
  {
   "cell_type": "markdown",
   "metadata": {},
   "source": [
    "### Conclusiones\n",
    "Las variables que se esperaría puedan influir en predecir los atraso son: \n",
    "    periodo_horanum,\n",
    "    periodo_dianum,\n",
    "    periodo_semananum,\n",
    "    periodo_dianom,\n",
    "    periodo_dianomagrupado,\n",
    "    Des-I_descrip,\n",
    "    Des-I_agrupado,\n",
    "    Emp-I_aerolinea,\n",
    "    Emp-I_aerolinea_nacionalidad y \n",
    "    periodo_dia."
   ]
  },
  {
   "cell_type": "markdown",
   "metadata": {},
   "source": [
    "### Conclusión Final\n",
    "Finalmente, en respuesta a la pregunta 3 y después de analizar la composición de las variables destino, aerolínea, mes del año, día de la semana, temporada y tipo de vuelo en los puntos a y b, las variables que se esperaría puedan influir en predecir los atraso son: destino, aerolinea, día de la semana, temporada y tipo de vuelo."
   ]
  },
  {
   "cell_type": "markdown",
   "metadata": {},
   "source": [
    "# Pregunta 1\n",
    "¿Cómo se distribuyen los datos? ¿Qué te llama la atención o cuál es tu conclusión sobre esto?"
   ]
  },
  {
   "cell_type": "markdown",
   "metadata": {},
   "source": [
    "### Análisis descriptivo de la variable minutos de atraso (dif_min)"
   ]
  },
  {
   "cell_type": "markdown",
   "metadata": {},
   "source": [
    "La media de la variable minutos de atraso es de 9.11 y la mediana es de 4.00, esto indicar que la distribución de los minutos de atraso de los vuelos es asimétrica, pues la media es mayor a la mediana."
   ]
  },
  {
   "cell_type": "code",
   "execution_count": 362,
   "metadata": {},
   "outputs": [
    {
     "data": {
      "text/plain": [
       "count    68206.000000\n",
       "mean         9.110855\n",
       "std         19.313387\n",
       "min        -14.000000\n",
       "25%         -1.000000\n",
       "50%          4.000000\n",
       "75%         12.000000\n",
       "max        161.000000\n",
       "Name: dif_min, dtype: float64"
      ]
     },
     "execution_count": 362,
     "metadata": {},
     "output_type": "execute_result"
    }
   ],
   "source": [
    "data['dif_min'].describe()"
   ]
  },
  {
   "cell_type": "markdown",
   "metadata": {},
   "source": [
    "Coeficiente de asimetría"
   ]
  },
  {
   "cell_type": "markdown",
   "metadata": {},
   "source": [
    "Haciendo uso del coeficiente de asimetría, se tiene que su valor es de 3.5, como es mayor a 0, entonces presenta sesgo positivo, por lo que se espera que la distribución de los minutos de atraso de los vuelos este concentrada a la izquiera."
   ]
  },
  {
   "cell_type": "code",
   "execution_count": 365,
   "metadata": {},
   "outputs": [
    {
     "data": {
      "text/plain": [
       "3.553891267526146"
      ]
     },
     "execution_count": 365,
     "metadata": {},
     "output_type": "execute_result"
    }
   ],
   "source": [
    "ss.skew(data['dif_min'])"
   ]
  },
  {
   "cell_type": "markdown",
   "metadata": {},
   "source": [
    "Coeficiente de curtosis"
   ]
  },
  {
   "cell_type": "markdown",
   "metadata": {},
   "source": [
    "Haciendo uso del coeficiente de curtosis, se tiene que su valor es de 16.8, como es mayor a 0.25, entonces la distribución de los minutos de atraso de los vuelos presenta una distribución platicúrtica."
   ]
  },
  {
   "cell_type": "code",
   "execution_count": 366,
   "metadata": {},
   "outputs": [
    {
     "data": {
      "text/plain": [
       "16.812570822579897"
      ]
     },
     "execution_count": 366,
     "metadata": {},
     "output_type": "execute_result"
    }
   ],
   "source": [
    "ss.kurtosis(data['dif_min'])"
   ]
  },
  {
   "cell_type": "markdown",
   "metadata": {},
   "source": [
    "### Visualización de la variable minutos de atraso (dif_min)"
   ]
  },
  {
   "cell_type": "markdown",
   "metadata": {},
   "source": [
    "Se puede apreciar claramente los hallazgos encontrados haciendo uso de los coeficientes de asimetría y curtosis."
   ]
  },
  {
   "cell_type": "markdown",
   "metadata": {},
   "source": [
    "La distribución de los minutos de atraso de los vuelos este concentrada a la izquiera y presenta una distribución platicúrtica, por lo que presenta una distribución asimétrica."
   ]
  },
  {
   "cell_type": "code",
   "execution_count": 361,
   "metadata": {},
   "outputs": [
    {
     "data": {
      "image/png": "[encoded data removed]",
      "text/plain": [
       "<Figure size 432x288 with 1 Axes>"
      ]
     },
     "metadata": {
      "needs_background": "light"
     },
     "output_type": "display_data"
    }
   ],
   "source": [
    "sns.kdeplot(data['dif_min'],shade=True)\n",
    "plt.show()"
   ]
  },
  {
   "cell_type": "markdown",
   "metadata": {},
   "source": [
    "### Prueba de normalidad de la variable minutos de atraso (dif_min)"
   ]
  },
  {
   "cell_type": "code",
   "execution_count": null,
   "metadata": {},
   "outputs": [],
   "source": [
    "#Ho: La variable minutos de atraso se aproxima a una distribución normal\n",
    "#Ha: La variable minutos de atraso no se aproxima a una dsitribución normal\n",
    "\n",
    "#Si el pvalor < 5% => Se rechaza la Ho, al 95% de confianza, la variable minutos de atraso \n",
    "#no se aproxima a una distribución normal\n",
    "#Si el pvalor > 5% => No se rechaza la Ho, al 95% de confianza, la variable minutos de atraso \n",
    "#se aproxima a una distribución normal"
   ]
  },
  {
   "cell_type": "markdown",
   "metadata": {},
   "source": [
    "Como el pvalor < 5%, Se rechaza la Ho, al 95% de confianza, la distribución de la variable minutos de atraso de los vuelos no se aproxima a una distribución normal."
   ]
  },
  {
   "cell_type": "code",
   "execution_count": 364,
   "metadata": {},
   "outputs": [
    {
     "data": {
      "text/plain": [
       "NormaltestResult(statistic=51301.007187515446, pvalue=0.0)"
      ]
     },
     "execution_count": 364,
     "metadata": {},
     "output_type": "execute_result"
    }
   ],
   "source": [
    "ss.normaltest(data.dif_min)"
   ]
  },
  {
   "cell_type": "markdown",
   "metadata": {},
   "source": [
    "Con esta prueba se vuelve a corroborar que la distribución de la variable minutos de atraso de los vuelos no es simétrica."
   ]
  },
  {
   "cell_type": "markdown",
   "metadata": {},
   "source": [
    "### Distribución de los minutos de atraso de los vuelos según TIPOVUELO"
   ]
  },
  {
   "cell_type": "markdown",
   "metadata": {},
   "source": [
    "La distribución de los minutos de atraso de los vuelos nacionales es más platicúrtica que las de loso vuelos internacionales."
   ]
  },
  {
   "cell_type": "code",
   "execution_count": 371,
   "metadata": {},
   "outputs": [
    {
     "name": "stderr",
     "output_type": "stream",
     "text": [
      "C:\\Users\\LENOVO\\anaconda3\\lib\\site-packages\\seaborn\\distributions.py:949: MatplotlibDeprecationWarning: Case-insensitive properties were deprecated in 3.3 and support will be removed two minor releases later\n",
      "  scout = self.ax.fill_between([], [], **plot_kws)\n",
      "C:\\Users\\LENOVO\\anaconda3\\lib\\site-packages\\seaborn\\distributions.py:992: MatplotlibDeprecationWarning: Case-insensitive properties were deprecated in 3.3 and support will be removed two minor releases later\n",
      "  artist = ax.fill_between(\n",
      "C:\\Users\\LENOVO\\anaconda3\\lib\\site-packages\\seaborn\\distributions.py:949: MatplotlibDeprecationWarning: Case-insensitive properties were deprecated in 3.3 and support will be removed two minor releases later\n",
      "  scout = self.ax.fill_between([], [], **plot_kws)\n",
      "C:\\Users\\LENOVO\\anaconda3\\lib\\site-packages\\seaborn\\distributions.py:992: MatplotlibDeprecationWarning: Case-insensitive properties were deprecated in 3.3 and support will be removed two minor releases later\n",
      "  artist = ax.fill_between(\n"
     ]
    },
    {
     "data": {
      "text/plain": [
       "Text(0, 0.5, 'Probability Density')"
      ]
     },
     "execution_count": 371,
     "metadata": {},
     "output_type": "execute_result"
    },
    {
     "data": {
      "image/png": "[encoded data removed]",
      "text/plain": [
       "<Figure size 432x288 with 1 Axes>"
      ]
     },
     "metadata": {
      "needs_background": "light"
     },
     "output_type": "display_data"
    }
   ],
   "source": [
    "sns.kdeplot(data.loc[(data['TIPOVUELO']=='N'),\n",
    "            'dif_min'], color='r', shade=True, Label='Vuelo Nacional')\n",
    "  \n",
    "sns.kdeplot(data.loc[(data['TIPOVUELO']=='I'), \n",
    "            'dif_min'], color='b', shade=True, Label='Vuelo Internacional')\n",
    "  \n",
    "plt.xlabel('Minutos de atraso de los vuelos')\n",
    "plt.ylabel('Probability Density')"
   ]
  },
  {
   "cell_type": "markdown",
   "metadata": {},
   "source": [
    "### Distribución de los minutos de atraso de los vuelos según temporada_alta"
   ]
  },
  {
   "cell_type": "markdown",
   "metadata": {},
   "source": [
    "La distribución de los minutos de atraso de los vuelos en temporada alta y baja son similares."
   ]
  },
  {
   "cell_type": "code",
   "execution_count": 374,
   "metadata": {},
   "outputs": [
    {
     "name": "stderr",
     "output_type": "stream",
     "text": [
      "C:\\Users\\LENOVO\\anaconda3\\lib\\site-packages\\seaborn\\distributions.py:949: MatplotlibDeprecationWarning: Case-insensitive properties were deprecated in 3.3 and support will be removed two minor releases later\n",
      "  scout = self.ax.fill_between([], [], **plot_kws)\n",
      "C:\\Users\\LENOVO\\anaconda3\\lib\\site-packages\\seaborn\\distributions.py:992: MatplotlibDeprecationWarning: Case-insensitive properties were deprecated in 3.3 and support will be removed two minor releases later\n",
      "  artist = ax.fill_between(\n",
      "C:\\Users\\LENOVO\\anaconda3\\lib\\site-packages\\seaborn\\distributions.py:949: MatplotlibDeprecationWarning: Case-insensitive properties were deprecated in 3.3 and support will be removed two minor releases later\n",
      "  scout = self.ax.fill_between([], [], **plot_kws)\n",
      "C:\\Users\\LENOVO\\anaconda3\\lib\\site-packages\\seaborn\\distributions.py:992: MatplotlibDeprecationWarning: Case-insensitive properties were deprecated in 3.3 and support will be removed two minor releases later\n",
      "  artist = ax.fill_between(\n"
     ]
    },
    {
     "data": {
      "text/plain": [
       "Text(0, 0.5, 'Probability Density')"
      ]
     },
     "execution_count": 374,
     "metadata": {},
     "output_type": "execute_result"
    },
    {
     "data": {
      "image/png": "[encoded data removed]",
      "text/plain": [
       "<Figure size 432x288 with 1 Axes>"
      ]
     },
     "metadata": {
      "needs_background": "light"
     },
     "output_type": "display_data"
    }
   ],
   "source": [
    "sns.kdeplot(data.loc[(data['temporada_alta']=='1'),\n",
    "            'dif_min'], color='r', shade=True, Label='Temporada Alta')\n",
    "  \n",
    "sns.kdeplot(data.loc[(data['temporada_alta']=='0'), \n",
    "            'dif_min'], color='b', shade=True, Label='Temporada Baja')\n",
    "  \n",
    "plt.xlabel('Minutos de atraso de los vuelos')\n",
    "plt.ylabel('Probability Density')"
   ]
  },
  {
   "cell_type": "markdown",
   "metadata": {},
   "source": [
    "# Pregunta 4\n",
    "Entrena uno o varios modelos (usando el/los algoritmo(s) que prefieras) para estimar la probabilidad de atraso de un vuelo.\n",
    "Siéntete libre de generar variables adicionales y/o complementar con variables externas."
   ]
  },
  {
   "cell_type": "code",
   "execution_count": null,
   "metadata": {},
   "outputs": [],
   "source": [
    "#Algunos puntos que mencionar antes de entrenar el modelo:\n",
    "\n",
    "#1. Para el entrenamiento del modelo no se usarán las siguientes variables Fecha-O, Vlo-O, Ori-O, Des-O y Emp-O, \n",
    "#DIA, MES, AÑO, DIANOM, pues son variables que hacen referencia a la reprogramación del vuelo y \n",
    "#al momento de la réplica del modelo no se encontrarán disponibles.\n",
    "\n",
    "#2. No se usará la variable Ori-I, pues sólo tiene la categoría SCEL, fue una variable de filtro.\n",
    "\n",
    "#3. No se usará la variable SIGLAORI, pues sólo tiene la categoría Santiago, fue una variable de filtro.\n",
    "\n",
    "#4. No se usará la variable dif_min, pues sirvió para generar el target atraso_15.\n",
    "\n",
    "#5. No se usarán las variables periodo_minutonum, periodo_mesnum y Emp-I_aerolinea_lowcost, pues después de\n",
    "#realizar un análisis bivariado no ayudaron a diferenciar los vuelos con y sin atraso.\n",
    "\n",
    "#6. Con respecto a las variables tentativas en el modelo son:\n",
    "#TIPOVUELO => se usará\n",
    "#temporada_alta => se usará\n",
    "#periodo_dia => se usará\n",
    "#periodo_horanum => se usará\n",
    "#periodo_dianum => se usará\n",
    "#periodo_semananum => se usará\n",
    "#periodo_dianom => se usará\n",
    "#periodo_dianomagrupado => no se usará pues tiene un pvalor mayor a su variable origen periodo_dianom \n",
    "#Des-I_descrip => se usará\n",
    "#Des-I_agrupado => se usará\n",
    "#Emp-I_aerolinea => se usará\n",
    "#Emp-I_aerolinea_nacionalidad => se usará"
   ]
  },
  {
   "cell_type": "markdown",
   "metadata": {},
   "source": [
    "### LabelEncoder\n",
    "Convierte cada valor en una columna categórica en un valor numérico."
   ]
  },
  {
   "cell_type": "code",
   "execution_count": 310,
   "metadata": {},
   "outputs": [],
   "source": [
    "data['c_TIPOVUELO'] = LabelEncoder().fit_transform(data.TIPOVUELO.values)\n",
    "data['c_temporada_alta'] = LabelEncoder().fit_transform(data.temporada_alta.values)\n",
    "data['c_periodo_dia'] = LabelEncoder().fit_transform(data.periodo_dia.values)\n",
    "data['c_periodo_dianom'] = LabelEncoder().fit_transform(data.periodo_dianom.values)\n",
    "data['c_Des-I_descrip'] = LabelEncoder().fit_transform(data['Des-I_descrip'].values)\n",
    "data['c_Des-I_agrupado'] = LabelEncoder().fit_transform(data['Des-I_agrupado'].values)\n",
    "data['c_Emp-I_aerolinea'] = LabelEncoder().fit_transform(data['Emp-I_aerolinea'].values)\n",
    "data['c_Emp-I_aerolinea_nacionalidad'] = LabelEncoder().fit_transform(data['Emp-I_aerolinea_nacionalidad'].values)"
   ]
  },
  {
   "cell_type": "code",
   "execution_count": 311,
   "metadata": {},
   "outputs": [
    {
     "data": {
      "text/html": [
       "<div>\n",
       "<style scoped>\n",
       "    .dataframe tbody tr th:only-of-type {\n",
       "        vertical-align: middle;\n",
       "    }\n",
       "\n",
       "    .dataframe tbody tr th {\n",
       "        vertical-align: top;\n",
       "    }\n",
       "\n",
       "    .dataframe thead th {\n",
       "        text-align: right;\n",
       "    }\n",
       "</style>\n",
       "<table border=\"1\" class=\"dataframe\">\n",
       "  <thead>\n",
       "    <tr style=\"text-align: right;\">\n",
       "      <th></th>\n",
       "      <th>Fecha-I</th>\n",
       "      <th>Vlo-I</th>\n",
       "      <th>Ori-I</th>\n",
       "      <th>Des-I</th>\n",
       "      <th>Emp-I</th>\n",
       "      <th>Fecha-O</th>\n",
       "      <th>Vlo-O</th>\n",
       "      <th>Ori-O</th>\n",
       "      <th>Des-O</th>\n",
       "      <th>Emp-O</th>\n",
       "      <th>...</th>\n",
       "      <th>Emp-I_aerolinea_nacionalidad</th>\n",
       "      <th>Emp-I_aerolinea_lowcost</th>\n",
       "      <th>c_TIPOVUELO</th>\n",
       "      <th>c_temporada_alta</th>\n",
       "      <th>c_periodo_dia</th>\n",
       "      <th>c_periodo_dianom</th>\n",
       "      <th>c_Des-I_descrip</th>\n",
       "      <th>c_Des-I_agrupado</th>\n",
       "      <th>c_Emp-I_aerolinea</th>\n",
       "      <th>c_Emp-I_aerolinea_nacionalidad</th>\n",
       "    </tr>\n",
       "  </thead>\n",
       "  <tbody>\n",
       "    <tr>\n",
       "      <th>0</th>\n",
       "      <td>2017-01-01 23:30:00</td>\n",
       "      <td>226</td>\n",
       "      <td>SCEL</td>\n",
       "      <td>KMIA</td>\n",
       "      <td>AAL</td>\n",
       "      <td>2017-01-01 23:33:00</td>\n",
       "      <td>226</td>\n",
       "      <td>SCEL</td>\n",
       "      <td>KMIA</td>\n",
       "      <td>AAL</td>\n",
       "      <td>...</td>\n",
       "      <td>Estados Unidos</td>\n",
       "      <td>0</td>\n",
       "      <td>0</td>\n",
       "      <td>1</td>\n",
       "      <td>1</td>\n",
       "      <td>6</td>\n",
       "      <td>34</td>\n",
       "      <td>9</td>\n",
       "      <td>5</td>\n",
       "      <td>8</td>\n",
       "    </tr>\n",
       "    <tr>\n",
       "      <th>1</th>\n",
       "      <td>2017-01-02 23:30:00</td>\n",
       "      <td>226</td>\n",
       "      <td>SCEL</td>\n",
       "      <td>KMIA</td>\n",
       "      <td>AAL</td>\n",
       "      <td>2017-01-02 23:39:00</td>\n",
       "      <td>226</td>\n",
       "      <td>SCEL</td>\n",
       "      <td>KMIA</td>\n",
       "      <td>AAL</td>\n",
       "      <td>...</td>\n",
       "      <td>Estados Unidos</td>\n",
       "      <td>0</td>\n",
       "      <td>0</td>\n",
       "      <td>1</td>\n",
       "      <td>1</td>\n",
       "      <td>0</td>\n",
       "      <td>34</td>\n",
       "      <td>9</td>\n",
       "      <td>5</td>\n",
       "      <td>8</td>\n",
       "    </tr>\n",
       "    <tr>\n",
       "      <th>2</th>\n",
       "      <td>2017-01-03 23:30:00</td>\n",
       "      <td>226</td>\n",
       "      <td>SCEL</td>\n",
       "      <td>KMIA</td>\n",
       "      <td>AAL</td>\n",
       "      <td>2017-01-03 23:39:00</td>\n",
       "      <td>226</td>\n",
       "      <td>SCEL</td>\n",
       "      <td>KMIA</td>\n",
       "      <td>AAL</td>\n",
       "      <td>...</td>\n",
       "      <td>Estados Unidos</td>\n",
       "      <td>0</td>\n",
       "      <td>0</td>\n",
       "      <td>1</td>\n",
       "      <td>1</td>\n",
       "      <td>1</td>\n",
       "      <td>34</td>\n",
       "      <td>9</td>\n",
       "      <td>5</td>\n",
       "      <td>8</td>\n",
       "    </tr>\n",
       "    <tr>\n",
       "      <th>3</th>\n",
       "      <td>2017-01-04 23:30:00</td>\n",
       "      <td>226</td>\n",
       "      <td>SCEL</td>\n",
       "      <td>KMIA</td>\n",
       "      <td>AAL</td>\n",
       "      <td>2017-01-04 23:33:00</td>\n",
       "      <td>226</td>\n",
       "      <td>SCEL</td>\n",
       "      <td>KMIA</td>\n",
       "      <td>AAL</td>\n",
       "      <td>...</td>\n",
       "      <td>Estados Unidos</td>\n",
       "      <td>0</td>\n",
       "      <td>0</td>\n",
       "      <td>1</td>\n",
       "      <td>1</td>\n",
       "      <td>2</td>\n",
       "      <td>34</td>\n",
       "      <td>9</td>\n",
       "      <td>5</td>\n",
       "      <td>8</td>\n",
       "    </tr>\n",
       "    <tr>\n",
       "      <th>4</th>\n",
       "      <td>2017-01-05 23:30:00</td>\n",
       "      <td>226</td>\n",
       "      <td>SCEL</td>\n",
       "      <td>KMIA</td>\n",
       "      <td>AAL</td>\n",
       "      <td>2017-01-05 23:28:00</td>\n",
       "      <td>226</td>\n",
       "      <td>SCEL</td>\n",
       "      <td>KMIA</td>\n",
       "      <td>AAL</td>\n",
       "      <td>...</td>\n",
       "      <td>Estados Unidos</td>\n",
       "      <td>0</td>\n",
       "      <td>0</td>\n",
       "      <td>1</td>\n",
       "      <td>1</td>\n",
       "      <td>3</td>\n",
       "      <td>34</td>\n",
       "      <td>9</td>\n",
       "      <td>5</td>\n",
       "      <td>8</td>\n",
       "    </tr>\n",
       "  </tbody>\n",
       "</table>\n",
       "<p>5 rows × 42 columns</p>\n",
       "</div>"
      ],
      "text/plain": [
       "              Fecha-I Vlo-I Ori-I Des-I Emp-I             Fecha-O Vlo-O Ori-O  \\\n",
       "0 2017-01-01 23:30:00   226  SCEL  KMIA   AAL 2017-01-01 23:33:00   226  SCEL   \n",
       "1 2017-01-02 23:30:00   226  SCEL  KMIA   AAL 2017-01-02 23:39:00   226  SCEL   \n",
       "2 2017-01-03 23:30:00   226  SCEL  KMIA   AAL 2017-01-03 23:39:00   226  SCEL   \n",
       "3 2017-01-04 23:30:00   226  SCEL  KMIA   AAL 2017-01-04 23:33:00   226  SCEL   \n",
       "4 2017-01-05 23:30:00   226  SCEL  KMIA   AAL 2017-01-05 23:28:00   226  SCEL   \n",
       "\n",
       "  Des-O Emp-O  ...  Emp-I_aerolinea_nacionalidad  Emp-I_aerolinea_lowcost  \\\n",
       "0  KMIA   AAL  ...                Estados Unidos                        0   \n",
       "1  KMIA   AAL  ...                Estados Unidos                        0   \n",
       "2  KMIA   AAL  ...                Estados Unidos                        0   \n",
       "3  KMIA   AAL  ...                Estados Unidos                        0   \n",
       "4  KMIA   AAL  ...                Estados Unidos                        0   \n",
       "\n",
       "   c_TIPOVUELO c_temporada_alta c_periodo_dia c_periodo_dianom  \\\n",
       "0            0                1             1                6   \n",
       "1            0                1             1                0   \n",
       "2            0                1             1                1   \n",
       "3            0                1             1                2   \n",
       "4            0                1             1                3   \n",
       "\n",
       "  c_Des-I_descrip c_Des-I_agrupado c_Emp-I_aerolinea  \\\n",
       "0              34                9                 5   \n",
       "1              34                9                 5   \n",
       "2              34                9                 5   \n",
       "3              34                9                 5   \n",
       "4              34                9                 5   \n",
       "\n",
       "   c_Emp-I_aerolinea_nacionalidad  \n",
       "0                               8  \n",
       "1                               8  \n",
       "2                               8  \n",
       "3                               8  \n",
       "4                               8  \n",
       "\n",
       "[5 rows x 42 columns]"
      ]
     },
     "execution_count": 311,
     "metadata": {},
     "output_type": "execute_result"
    }
   ],
   "source": [
    "data.head()"
   ]
  },
  {
   "cell_type": "markdown",
   "metadata": {},
   "source": [
    "### Creación de la matriz de datos y target"
   ]
  },
  {
   "cell_type": "code",
   "execution_count": 312,
   "metadata": {},
   "outputs": [],
   "source": [
    "X = data[['c_TIPOVUELO','c_temporada_alta','c_periodo_dia','periodo_horanum','periodo_dianum','periodo_semananum',\n",
    "          'c_periodo_dianom','c_Des-I_descrip','c_Des-I_agrupado','c_Emp-I_aerolinea','c_Emp-I_aerolinea_nacionalidad']]\n",
    "y = data['atraso_15']"
   ]
  },
  {
   "cell_type": "code",
   "execution_count": 313,
   "metadata": {},
   "outputs": [],
   "source": [
    "X = X.to_numpy()\n",
    "y = y.to_numpy()"
   ]
  },
  {
   "cell_type": "markdown",
   "metadata": {},
   "source": [
    "### Partición de la muestra en train y test"
   ]
  },
  {
   "cell_type": "code",
   "execution_count": 314,
   "metadata": {},
   "outputs": [],
   "source": [
    "X_train, X_test, y_train, y_test = train_test_split(X, y, test_size = 0.20, random_state = 0)"
   ]
  },
  {
   "cell_type": "markdown",
   "metadata": {},
   "source": [
    "### Estandarización de variables"
   ]
  },
  {
   "cell_type": "code",
   "execution_count": 315,
   "metadata": {},
   "outputs": [],
   "source": [
    "X_train_orig = X_train\n",
    "X_test_orig = X_test"
   ]
  },
  {
   "cell_type": "code",
   "execution_count": 316,
   "metadata": {},
   "outputs": [],
   "source": [
    "X_train = StandardScaler().fit_transform(X_train)\n",
    "X_test = StandardScaler().fit_transform(X_test)"
   ]
  },
  {
   "cell_type": "markdown",
   "metadata": {},
   "source": [
    "### Entrenamiento de modelos"
   ]
  },
  {
   "cell_type": "markdown",
   "metadata": {},
   "source": [
    "Se entrenaron 6 modelos de clasificación para estimar la probabilidad de atraso de un vuelo."
   ]
  },
  {
   "cell_type": "markdown",
   "metadata": {},
   "source": [
    "Cabe resaltar que el entrenamiento se realizará sin balancear la variables atraso_15, pues está tiene una tasa de atrasos igual a 18.5% y según la bibliografía se recomienda balancear para tasas menores al 5%."
   ]
  },
  {
   "cell_type": "markdown",
   "metadata": {},
   "source": [
    "a.Regresión Logística"
   ]
  },
  {
   "cell_type": "code",
   "execution_count": 317,
   "metadata": {},
   "outputs": [],
   "source": [
    "classifier_reg = LogisticRegression(max_iter = 1e5).fit(X_train, y_train)"
   ]
  },
  {
   "cell_type": "markdown",
   "metadata": {},
   "source": [
    "b.Naive Bayes"
   ]
  },
  {
   "cell_type": "code",
   "execution_count": 318,
   "metadata": {},
   "outputs": [],
   "source": [
    "classifier_nb = GaussianNB().fit(X_train, y_train)"
   ]
  },
  {
   "cell_type": "markdown",
   "metadata": {},
   "source": [
    "c.K-Vecino más cercano"
   ]
  },
  {
   "cell_type": "code",
   "execution_count": null,
   "metadata": {},
   "outputs": [],
   "source": [
    "#Para este modelo se realizará primero el tuneo con validación cruzada igual a 5 para encontrar el K más adecuado.\n",
    "#Se usará valores de K entre 1 y 15.\n",
    "#luego se procederá a usar ese valor para entrenar el modelo."
   ]
  },
  {
   "cell_type": "code",
   "execution_count": 322,
   "metadata": {},
   "outputs": [],
   "source": [
    "k_range = range(1, 15)\n",
    "k_scores = []"
   ]
  },
  {
   "cell_type": "code",
   "execution_count": 323,
   "metadata": {},
   "outputs": [],
   "source": [
    "for k in k_range:\n",
    "    knn = KNeighborsClassifier(n_neighbors=k)\n",
    "    scores = cross_val_score(knn, X_train, y_train, cv=5, scoring='accuracy')\n",
    "    k_scores.append(scores.mean())"
   ]
  },
  {
   "cell_type": "code",
   "execution_count": 324,
   "metadata": {},
   "outputs": [
    {
     "data": {
      "image/png": "[encoded data removed]",
      "text/plain": [
       "<Figure size 432x288 with 1 Axes>"
      ]
     },
     "metadata": {
      "needs_background": "light"
     },
     "output_type": "display_data"
    }
   ],
   "source": [
    "plt.plot(k_range, k_scores)\n",
    "plt.xlabel('Valor de K para KNN')\n",
    "plt.ylabel('Accuracy con Validación Cruzada')\n",
    "plt.show()"
   ]
  },
  {
   "cell_type": "code",
   "execution_count": null,
   "metadata": {},
   "outputs": [],
   "source": [
    "#Según el gráfico el menor valor de K es 3, este se usará para entrenar el modelo."
   ]
  },
  {
   "cell_type": "code",
   "execution_count": 325,
   "metadata": {},
   "outputs": [],
   "source": [
    "classifier_knn = KNeighborsClassifier(n_neighbors=3).fit(X_train, y_train)"
   ]
  },
  {
   "cell_type": "markdown",
   "metadata": {},
   "source": [
    "d.Máquina de Soporte Vectorial"
   ]
  },
  {
   "cell_type": "code",
   "execution_count": null,
   "metadata": {},
   "outputs": [],
   "source": [
    "#Para este modelo se recomienda primero el tuneo con validación cruzada igual a 5 para encontrar los parámetros más adecuados\n",
    "#C y gamma haciendo uso de un kernel radial rbf\n",
    "#luego proceder a usar esos valores para entrenar el modelo.\n",
    "\n",
    "#Sin embargo, por temas de memoria de procesamiento sólo se mostrará las funciones."
   ]
  },
  {
   "cell_type": "code",
   "execution_count": 330,
   "metadata": {},
   "outputs": [],
   "source": [
    "#param_grid_svm = {'C': [1,5,10], 'gamma': [2,1.5,1,0.1],'kernel': ['rbf']}"
   ]
  },
  {
   "cell_type": "code",
   "execution_count": 332,
   "metadata": {},
   "outputs": [],
   "source": [
    "#grid_svm = GridSearchCV(SVC(),param_grid_svm,refit=True,verbose=2,cv=5)\n",
    "#grid_svm.fit(X_train,y_train)"
   ]
  },
  {
   "cell_type": "code",
   "execution_count": 333,
   "metadata": {},
   "outputs": [],
   "source": [
    "#print(grid.best_estimator_)"
   ]
  },
  {
   "cell_type": "code",
   "execution_count": 335,
   "metadata": {},
   "outputs": [],
   "source": [
    "#classifier_svm = SVC(kernel='rbf',probability=True).fit(X_train, y_train)"
   ]
  },
  {
   "cell_type": "markdown",
   "metadata": {},
   "source": [
    "e.Redes Neuronales Artificiales"
   ]
  },
  {
   "cell_type": "code",
   "execution_count": null,
   "metadata": {},
   "outputs": [],
   "source": [
    "#Para este modelo se recomienda primero el tuneo con validación cruzada igual a 5 para encontrar los parámetros más adecuados\n",
    "#hidden_layer_sizes, activation, solver, alpha y learning_rate\n",
    "#luego proceder a usar esos valores para entrenar el modelo.\n",
    "\n",
    "#Sin embargo, por temas de memoria de procesamiento se usará los valores por defecto y no se tunerá.\n",
    "#Sólo se mostrará las funciones para el tuneo a continuación:"
   ]
  },
  {
   "cell_type": "code",
   "execution_count": null,
   "metadata": {},
   "outputs": [],
   "source": [
    "#param_grid = {\n",
    "#    'hidden_layer_sizes': [(10,30,10),(20,)],\n",
    "#    'activation': ['tanh', 'relu'],\n",
    "#    'solver': ['sgd', 'adam'],\n",
    "#    'alpha': [0.0001, 0.05],\n",
    "#    'learning_rate': ['constant','adaptive'],\n",
    "#}"
   ]
  },
  {
   "cell_type": "code",
   "execution_count": null,
   "metadata": {},
   "outputs": [],
   "source": [
    "#grid = GridSearchCV(MLPClassifier(max_iter=500),param_grid,refit=True,verbose=2,cv=5)\n",
    "#grid.fit(X_train,y_train)"
   ]
  },
  {
   "cell_type": "code",
   "execution_count": null,
   "metadata": {},
   "outputs": [],
   "source": [
    "#print(grid.best_estimator_)"
   ]
  },
  {
   "cell_type": "code",
   "execution_count": 339,
   "metadata": {},
   "outputs": [],
   "source": [
    "classifier_rna = MLPClassifier(activation='tanh', alpha=0.05, hidden_layer_sizes=(10, 30, 10),\n",
    "                               max_iter=500).fit(X_train, y_train)"
   ]
  },
  {
   "cell_type": "markdown",
   "metadata": {},
   "source": [
    "f.Random Forest"
   ]
  },
  {
   "cell_type": "code",
   "execution_count": null,
   "metadata": {},
   "outputs": [],
   "source": [
    "#Para este modelo se recomienda primero el tuneo con validación cruzada igual a 5 para encontrar los parámetros más adecuados\n",
    "#n_estimators, max_features y max_depth\n",
    "#luego proceder a usar esos valores para entrenar el modelo.\n",
    "\n",
    "#Sin embargo, por temas de memoria de procesamiento se usará los valores por defecto y no se tunerá.\n",
    "#Sólo se mostrará las funciones para el tuneo a continuación:"
   ]
  },
  {
   "cell_type": "code",
   "execution_count": null,
   "metadata": {},
   "outputs": [],
   "source": [
    "#param_grid = {\n",
    "#    'n_estimators': [200,300,400,500,600,700],\n",
    "#    'max_features': ['auto', 'sqrt', 'log2'],\n",
    "#    'max_depth': [2, 3, 4, 5, 6, 7, 8, 9, 10]\n",
    "#}"
   ]
  },
  {
   "cell_type": "code",
   "execution_count": null,
   "metadata": {},
   "outputs": [],
   "source": [
    "#grid = GridSearchCV(RandomForestClassifier(),param_grid,refit=True,verbose=2,cv=5)\n",
    "#grid.fit(X_train,y_train)"
   ]
  },
  {
   "cell_type": "code",
   "execution_count": null,
   "metadata": {},
   "outputs": [],
   "source": [
    "#print(grid.best_estimator_)"
   ]
  },
  {
   "cell_type": "code",
   "execution_count": 336,
   "metadata": {},
   "outputs": [],
   "source": [
    "classifier_rf = RandomForestClassifier(max_depth=5, max_features='sqrt', n_estimators=500).fit(X_train, y_train)"
   ]
  },
  {
   "cell_type": "markdown",
   "metadata": {},
   "source": [
    "g.Gradiente de Boosting"
   ]
  },
  {
   "cell_type": "code",
   "execution_count": null,
   "metadata": {},
   "outputs": [],
   "source": [
    "#Para este modelo se recomienda primero el tuneo con validación cruzada igual a 5 para encontrar los parámetros más adecuados\n",
    "#n_estimators, max_features y max_depth\n",
    "#luego proceder a usar esos valores para entrenar el modelo.\n",
    "\n",
    "#Sin embargo, por temas de memoria de procesamiento se usará los valores por defecto y no se tunerá.\n",
    "#Sólo se mostrará las funciones para el tuneo a continuación:"
   ]
  },
  {
   "cell_type": "code",
   "execution_count": null,
   "metadata": {},
   "outputs": [],
   "source": [
    "#param_grid = {\n",
    "#    'n_estimators': [200, 700],\n",
    "#    'max_features': ['auto', 'sqrt', 'log2'],\n",
    "#    'max_depth': [2, 3, 4, 5, 6, 7, 8, 9, 10]\n",
    "#}"
   ]
  },
  {
   "cell_type": "code",
   "execution_count": null,
   "metadata": {},
   "outputs": [],
   "source": [
    "#grid = GridSearchCV(GradientBoostingClassifier(),param_grid,refit=True,verbose=2,cv=5)\n",
    "#grid.fit(X_train,y_train)"
   ]
  },
  {
   "cell_type": "code",
   "execution_count": null,
   "metadata": {},
   "outputs": [],
   "source": [
    "#print(grid.best_estimator_)"
   ]
  },
  {
   "cell_type": "code",
   "execution_count": 338,
   "metadata": {},
   "outputs": [],
   "source": [
    "classifier_boos = GradientBoostingClassifier(max_depth=2, max_features='log2', n_estimators=500).fit(X_train, y_train)"
   ]
  },
  {
   "cell_type": "markdown",
   "metadata": {},
   "source": [
    "h.Teniendo en cuenta que no se tendrá problemas de procesamiento, se sugiere también usar los modelos:\n",
    "LightGM, CatBoost, Deep Learning, Ensamble y AutoML."
   ]
  },
  {
   "cell_type": "markdown",
   "metadata": {},
   "source": [
    "### Pregunta 5\n",
    "Evalúa tu modelo. ¿Qué performance tiene? ¿Qué métricas usaste para evaluar esa performance y por qué? ¿Por qué\n",
    "elegiste ese algoritmo en particular? ¿Qué variables son las que más influyen en la predicción? ¿Cómo podrías mejorar la\n",
    "performance?"
   ]
  },
  {
   "cell_type": "markdown",
   "metadata": {},
   "source": [
    "### ¿Qué performance tiene?"
   ]
  },
  {
   "cell_type": "markdown",
   "metadata": {},
   "source": [
    "A continuación se muestra el performance de los 6 modelos entrenados haciendo uso del área bajo la curva AUC."
   ]
  },
  {
   "cell_type": "code",
   "execution_count": 347,
   "metadata": {},
   "outputs": [
    {
     "data": {
      "text/plain": [
       "0.6416432085894401"
      ]
     },
     "execution_count": 347,
     "metadata": {},
     "output_type": "execute_result"
    }
   ],
   "source": [
    "#Regresión logística\n",
    "y_pred_prob_reg = classifier_reg.predict_proba(X_test)\n",
    "false_positive_rate_reg, true_positive_rate_reg, thresholds_reg = roc_curve(y_test, y_pred_prob_reg[:,1])\n",
    "roc_auc_reg = auc(false_positive_rate_reg, true_positive_rate_reg)\n",
    "roc_auc_reg"
   ]
  },
  {
   "cell_type": "code",
   "execution_count": 348,
   "metadata": {},
   "outputs": [
    {
     "data": {
      "text/plain": [
       "0.6320917974635154"
      ]
     },
     "execution_count": 348,
     "metadata": {},
     "output_type": "execute_result"
    }
   ],
   "source": [
    "#Naive Bayes\n",
    "y_pred_prob_nb = classifier_nb.predict_proba(X_test)\n",
    "false_positive_rate_nb, true_positive_rate_nb, thresholds_nb = roc_curve(y_test, y_pred_prob_nb[:,1])\n",
    "roc_auc_nb = auc(false_positive_rate_nb, true_positive_rate_nb)\n",
    "roc_auc_nb"
   ]
  },
  {
   "cell_type": "code",
   "execution_count": 349,
   "metadata": {},
   "outputs": [
    {
     "data": {
      "text/plain": [
       "0.6474415768846925"
      ]
     },
     "execution_count": 349,
     "metadata": {},
     "output_type": "execute_result"
    }
   ],
   "source": [
    "#K-Vecino más cercano\n",
    "y_pred_prob_knn = classifier_knn.predict_proba(X_test)\n",
    "false_positive_rate_knn, true_positive_rate_knn, thresholds_knn = roc_curve(y_test, y_pred_prob_knn[:,1])\n",
    "roc_auc_knn = auc(false_positive_rate_knn, true_positive_rate_knn)\n",
    "roc_auc_knn"
   ]
  },
  {
   "cell_type": "code",
   "execution_count": 350,
   "metadata": {},
   "outputs": [
    {
     "data": {
      "text/plain": [
       "0.6858005370289353"
      ]
     },
     "execution_count": 350,
     "metadata": {},
     "output_type": "execute_result"
    }
   ],
   "source": [
    "#Redes Neuronales Artificiales\n",
    "y_pred_prob_rna = classifier_rna.predict_proba(X_test)\n",
    "false_positive_rate_rna, true_positive_rate_rna, thresholds_rna = roc_curve(y_test, y_pred_prob_rna[:,1])\n",
    "roc_auc_rna = auc(false_positive_rate_rna, true_positive_rate_rna)\n",
    "roc_auc_rna"
   ]
  },
  {
   "cell_type": "code",
   "execution_count": 351,
   "metadata": {},
   "outputs": [
    {
     "data": {
      "text/plain": [
       "0.6788740992706118"
      ]
     },
     "execution_count": 351,
     "metadata": {},
     "output_type": "execute_result"
    }
   ],
   "source": [
    "#Random Forest\n",
    "y_pred_prob_rf = classifier_rf.predict_proba(X_test)\n",
    "false_positive_rate_rf, true_positive_rate_rf, thresholds_rf = roc_curve(y_test, y_pred_prob_rf[:,1])\n",
    "roc_auc_rf = auc(false_positive_rate_rf, true_positive_rate_rf)\n",
    "roc_auc_rf"
   ]
  },
  {
   "cell_type": "code",
   "execution_count": 352,
   "metadata": {},
   "outputs": [
    {
     "data": {
      "text/plain": [
       "0.7122497485762517"
      ]
     },
     "execution_count": 352,
     "metadata": {},
     "output_type": "execute_result"
    }
   ],
   "source": [
    "#Boosting\n",
    "y_pred_prob_boos = classifier_boos.predict_proba(X_test)\n",
    "false_positive_rate_boos, true_positive_rate_boos, thresholds_boos = roc_curve(y_test, y_pred_prob_boos[:,1])\n",
    "roc_auc_boos = auc(false_positive_rate_boos, true_positive_rate_boos)\n",
    "roc_auc_boos"
   ]
  },
  {
   "cell_type": "code",
   "execution_count": null,
   "metadata": {},
   "outputs": [],
   "source": [
    "#Comparación de modelos"
   ]
  },
  {
   "cell_type": "code",
   "execution_count": 356,
   "metadata": {},
   "outputs": [
    {
     "name": "stdout",
     "output_type": "stream",
     "text": [
      "Regresión Logística tiene un performace de:  0.6416432085894401\n",
      "Naive Bayes tiene un performace de:  0.6320917974635154\n",
      "K-Vecino más cercano tiene un performace de:  0.6474415768846925\n",
      "Redes Neuronales Artificiales tiene un performace de:  0.6858005370289353\n",
      "Random Forest tiene un performace de:  0.6788740992706118\n",
      "Boosting tiene un performace de:  0.7122497485762517\n"
     ]
    }
   ],
   "source": [
    "print('Regresión Logística tiene un performace de: ',roc_auc_reg)\n",
    "print('Naive Bayes tiene un performace de: ', roc_auc_nb)\n",
    "print('K-Vecino más cercano tiene un performace de: ', roc_auc_knn)\n",
    "print('Redes Neuronales Artificiales tiene un performace de: ', roc_auc_rna)\n",
    "print('Random Forest tiene un performace de: ', roc_auc_rf)\n",
    "print('Boosting tiene un performace de: ', roc_auc_boos)"
   ]
  },
  {
   "cell_type": "markdown",
   "metadata": {},
   "source": [
    "### ¿Qué métricas usaste para evaluar esa performance y por qué?"
   ]
  },
  {
   "cell_type": "markdown",
   "metadata": {},
   "source": [
    "La métrica que usé fue el área bajo la curva AUC, pues combina varias tablas de clasificación y ayuda a discriminar mejor\n",
    "a los vuelos con y sin atraso. Además, al tener una tasa de atraso del 18.5%, según la bibliografía \n",
    "es el indicador más adecuado en estos casos."
   ]
  },
  {
   "cell_type": "markdown",
   "metadata": {},
   "source": [
    "### ¿Por qué elegiste ese algoritmo en particular?"
   ]
  },
  {
   "cell_type": "markdown",
   "metadata": {},
   "source": [
    "Después de usar como indicador de perfomance el área bajo la curva AUC, el modelo más adecuado es el Boosting (classifier_boos),\n",
    "pues es aquel que tiene mayor valor de área bajo la cruva AUC a comparación de los otros modelos."
   ]
  },
  {
   "cell_type": "markdown",
   "metadata": {},
   "source": [
    "### ¿Qué variables son las que más influyen en la predicción?"
   ]
  },
  {
   "cell_type": "markdown",
   "metadata": {},
   "source": [
    "Las variables que más influyen en la predicción son:"
   ]
  },
  {
   "cell_type": "markdown",
   "metadata": {},
   "source": [
    "Top1: Semana del año (periodo_semananum)"
   ]
  },
  {
   "cell_type": "markdown",
   "metadata": {},
   "source": [
    "Top2: Pais de destino (c_Des-I_agrupado)"
   ]
  },
  {
   "cell_type": "markdown",
   "metadata": {},
   "source": [
    "Top3: Nacionalidad de la aerolínea (c_Emp-I_aerolinea_nacionalidad)"
   ]
  },
  {
   "cell_type": "markdown",
   "metadata": {},
   "source": [
    "A continuación, se muestra el ranking completo de variables según su importancia."
   ]
  },
  {
   "cell_type": "code",
   "execution_count": 345,
   "metadata": {},
   "outputs": [
    {
     "data": {
      "image/png": "[encoded data removed]",
      "text/plain": [
       "<Figure size 432x288 with 1 Axes>"
      ]
     },
     "metadata": {
      "needs_background": "light"
     },
     "output_type": "display_data"
    }
   ],
   "source": [
    "feature_scores_bo = pd.Series(classifier_boos.feature_importances_, index=['c_TIPOVUELO','c_temporada_alta','c_periodo_dia','periodo_horanum',\n",
    "                                                     'periodo_dianum','periodo_semananum','c_periodo_dianom','c_Des-I_descrip',\n",
    "                                                     'c_Des-I_agrupado','c_Emp-I_aerolinea','c_Emp-I_aerolinea_nacionalidad']).sort_values(ascending=False)\n",
    "sns.barplot(x=feature_scores_bo, y=feature_scores_bo.index)\n",
    "plt.xlabel('Score de importancia de variables')\n",
    "plt.ylabel('Variables')\n",
    "plt.title(\"Importancia de variables\")\n",
    "plt.show()"
   ]
  },
  {
   "cell_type": "markdown",
   "metadata": {},
   "source": [
    "### ¿Cómo podrías mejorar la performance?"
   ]
  },
  {
   "cell_type": "markdown",
   "metadata": {},
   "source": [
    "Es posible mejorar el performance haciendo lo siguiente:"
   ]
  },
  {
   "cell_type": "markdown",
   "metadata": {},
   "source": [
    "1. Balanceando del target atraso_15 para probar los modelos con y sin balancear.\n",
    "2. Entrenar los modelos LightGM, CatBoost, Deep Learning, Ensamble y AutoML. Compararlos con los ya entrenados."
   ]
  },
  {
   "cell_type": "markdown",
   "metadata": {},
   "source": [
    "# MODELO EN PRODUCCIÓN"
   ]
  },
  {
   "cell_type": "markdown",
   "metadata": {},
   "source": [
    "Se puede exportar el modelo más adecuado para ponerlo en un ambiente de producción.\n",
    "A partir de ello se puede generar un API para alimentar una aplicación web para poder hacer la predicción de la probabilidad de los vuelos con atrasos."
   ]
  },
  {
   "cell_type": "markdown",
   "metadata": {},
   "source": [
    "A continuación se exportará el modelo más adecuado."
   ]
  },
  {
   "cell_type": "code",
   "execution_count": 358,
   "metadata": {},
   "outputs": [],
   "source": [
    "import pickle"
   ]
  },
  {
   "cell_type": "code",
   "execution_count": 359,
   "metadata": {},
   "outputs": [],
   "source": [
    "Pkl_Filename = \"D:\\Bases\\Latam\\classifier_boos.pkl\"\n",
    "\n",
    "with open (Pkl_Filename, 'wb') as file:\n",
    "    pickle.dump(classifier_boos, file)"
   ]
  }
 ],
 "metadata": {
  "kernelspec": {
   "display_name": "Python 3",
   "language": "python",
   "name": "python3"
  },
  "language_info": {
   "codemirror_mode": {
    "name": "ipython",
    "version": 3
   },
   "file_extension": ".py",
   "mimetype": "text/x-python",
   "name": "python",
   "nbconvert_exporter": "python",
   "pygments_lexer": "ipython3",
   "version": "3.8.8"
  }
 },
 "nbformat": 4,
 "nbformat_minor": 4
}
